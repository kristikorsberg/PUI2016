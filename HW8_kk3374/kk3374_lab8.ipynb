{
 "cells": [
  {
   "cell_type": "code",
   "execution_count": 289,
   "metadata": {
    "collapsed": false
   },
   "outputs": [
    {
     "name": "stdout",
     "output_type": "stream",
     "text": [
      "Populating the interactive namespace from numpy and matplotlib\n"
     ]
    }
   ],
   "source": [
    "import os\n",
    "import pandas as pd\n",
    "import numpy as np\n",
    "%pylab inline\n",
    "import statsmodels.api as sm\n",
    "import statsmodels.formula.api as smf"
   ]
  },
  {
   "cell_type": "markdown",
   "metadata": {},
   "source": [
    "### 3) Think about possible measurement errors"
   ]
  },
  {
   "cell_type": "code",
   "execution_count": 219,
   "metadata": {
    "collapsed": false
   },
   "outputs": [],
   "source": [
    "#complaints = pd.read_csv(\"https://data.cityofnewyork.us/resource/erm2-nwe9.csv\")\n",
    "complaints = pd.read_csv('http://cosmo.nyu.edu/~fb55/PUI2016/data/311_Service_Requests_from_2010_to_Present.csv')"
   ]
  },
  {
   "cell_type": "code",
   "execution_count": 220,
   "metadata": {
    "collapsed": false
   },
   "outputs": [
    {
     "data": {
      "text/html": [
       "<div>\n",
       "<table border=\"1\" class=\"dataframe\">\n",
       "  <thead>\n",
       "    <tr style=\"text-align: right;\">\n",
       "      <th></th>\n",
       "      <th>Unique Key</th>\n",
       "      <th>Created Date</th>\n",
       "      <th>Closed Date</th>\n",
       "      <th>Agency</th>\n",
       "      <th>Agency Name</th>\n",
       "      <th>Complaint Type</th>\n",
       "      <th>Descriptor</th>\n",
       "      <th>Location Type</th>\n",
       "      <th>Incident Zip</th>\n",
       "      <th>Incident Address</th>\n",
       "      <th>...</th>\n",
       "      <th>Bridge Highway Name</th>\n",
       "      <th>Bridge Highway Direction</th>\n",
       "      <th>Road Ramp</th>\n",
       "      <th>Bridge Highway Segment</th>\n",
       "      <th>Garage Lot Name</th>\n",
       "      <th>Ferry Direction</th>\n",
       "      <th>Ferry Terminal Name</th>\n",
       "      <th>Latitude</th>\n",
       "      <th>Longitude</th>\n",
       "      <th>Location</th>\n",
       "    </tr>\n",
       "  </thead>\n",
       "  <tbody>\n",
       "    <tr>\n",
       "      <th>0</th>\n",
       "      <td>34212771</td>\n",
       "      <td>09/01/2016 12:00:06 AM</td>\n",
       "      <td>09/01/2016 06:02:10 AM</td>\n",
       "      <td>NYPD</td>\n",
       "      <td>New York City Police Department</td>\n",
       "      <td>Noise - Residential</td>\n",
       "      <td>Loud Television</td>\n",
       "      <td>Residential Building/House</td>\n",
       "      <td>11413.0</td>\n",
       "      <td>137-47 CARSON STREET</td>\n",
       "      <td>...</td>\n",
       "      <td>NaN</td>\n",
       "      <td>NaN</td>\n",
       "      <td>NaN</td>\n",
       "      <td>NaN</td>\n",
       "      <td>NaN</td>\n",
       "      <td>NaN</td>\n",
       "      <td>NaN</td>\n",
       "      <td>40.675208</td>\n",
       "      <td>-73.754949</td>\n",
       "      <td>(40.67520813178531, -73.75494944502233)</td>\n",
       "    </tr>\n",
       "    <tr>\n",
       "      <th>1</th>\n",
       "      <td>34212392</td>\n",
       "      <td>09/01/2016 12:00:35 AM</td>\n",
       "      <td>09/02/2016 04:53:48 PM</td>\n",
       "      <td>NYPD</td>\n",
       "      <td>New York City Police Department</td>\n",
       "      <td>Blocked Driveway</td>\n",
       "      <td>No Access</td>\n",
       "      <td>Street/Sidewalk</td>\n",
       "      <td>10469.0</td>\n",
       "      <td>943 EAST 217 STREET</td>\n",
       "      <td>...</td>\n",
       "      <td>NaN</td>\n",
       "      <td>NaN</td>\n",
       "      <td>NaN</td>\n",
       "      <td>NaN</td>\n",
       "      <td>NaN</td>\n",
       "      <td>NaN</td>\n",
       "      <td>NaN</td>\n",
       "      <td>40.879986</td>\n",
       "      <td>-73.856707</td>\n",
       "      <td>(40.87998640855491, -73.85670741555177)</td>\n",
       "    </tr>\n",
       "    <tr>\n",
       "      <th>2</th>\n",
       "      <td>34214520</td>\n",
       "      <td>09/01/2016 12:00:37 AM</td>\n",
       "      <td>09/01/2016 01:05:43 AM</td>\n",
       "      <td>NYPD</td>\n",
       "      <td>New York City Police Department</td>\n",
       "      <td>Blocked Driveway</td>\n",
       "      <td>No Access</td>\n",
       "      <td>Street/Sidewalk</td>\n",
       "      <td>11369.0</td>\n",
       "      <td>98-02 25 AVENUE</td>\n",
       "      <td>...</td>\n",
       "      <td>NaN</td>\n",
       "      <td>NaN</td>\n",
       "      <td>NaN</td>\n",
       "      <td>NaN</td>\n",
       "      <td>NaN</td>\n",
       "      <td>NaN</td>\n",
       "      <td>NaN</td>\n",
       "      <td>40.764632</td>\n",
       "      <td>-73.871623</td>\n",
       "      <td>(40.76463242381882, -73.87162284918391)</td>\n",
       "    </tr>\n",
       "    <tr>\n",
       "      <th>3</th>\n",
       "      <td>34212483</td>\n",
       "      <td>09/01/2016 12:00:54 AM</td>\n",
       "      <td>09/01/2016 03:15:32 AM</td>\n",
       "      <td>NYPD</td>\n",
       "      <td>New York City Police Department</td>\n",
       "      <td>Blocked Driveway</td>\n",
       "      <td>No Access</td>\n",
       "      <td>Street/Sidewalk</td>\n",
       "      <td>10466.0</td>\n",
       "      <td>1017 EAST 226 STREET</td>\n",
       "      <td>...</td>\n",
       "      <td>NaN</td>\n",
       "      <td>NaN</td>\n",
       "      <td>NaN</td>\n",
       "      <td>NaN</td>\n",
       "      <td>NaN</td>\n",
       "      <td>NaN</td>\n",
       "      <td>NaN</td>\n",
       "      <td>40.885559</td>\n",
       "      <td>-73.850782</td>\n",
       "      <td>(40.885558858976104, -73.85078238918491)</td>\n",
       "    </tr>\n",
       "    <tr>\n",
       "      <th>4</th>\n",
       "      <td>34214231</td>\n",
       "      <td>09/01/2016 12:01:15 AM</td>\n",
       "      <td>09/06/2016 09:27:00 AM</td>\n",
       "      <td>DOT</td>\n",
       "      <td>Department of Transportation</td>\n",
       "      <td>Street Condition</td>\n",
       "      <td>Pothole</td>\n",
       "      <td>NaN</td>\n",
       "      <td>10040.0</td>\n",
       "      <td>4700 BROADWAY</td>\n",
       "      <td>...</td>\n",
       "      <td>NaN</td>\n",
       "      <td>NaN</td>\n",
       "      <td>NaN</td>\n",
       "      <td>NaN</td>\n",
       "      <td>NaN</td>\n",
       "      <td>NaN</td>\n",
       "      <td>NaN</td>\n",
       "      <td>40.864140</td>\n",
       "      <td>-73.929501</td>\n",
       "      <td>(40.864140093130686, -73.92950060219349)</td>\n",
       "    </tr>\n",
       "  </tbody>\n",
       "</table>\n",
       "<p>5 rows × 53 columns</p>\n",
       "</div>"
      ],
      "text/plain": [
       "   Unique Key            Created Date             Closed Date Agency  \\\n",
       "0    34212771  09/01/2016 12:00:06 AM  09/01/2016 06:02:10 AM   NYPD   \n",
       "1    34212392  09/01/2016 12:00:35 AM  09/02/2016 04:53:48 PM   NYPD   \n",
       "2    34214520  09/01/2016 12:00:37 AM  09/01/2016 01:05:43 AM   NYPD   \n",
       "3    34212483  09/01/2016 12:00:54 AM  09/01/2016 03:15:32 AM   NYPD   \n",
       "4    34214231  09/01/2016 12:01:15 AM  09/06/2016 09:27:00 AM    DOT   \n",
       "\n",
       "                       Agency Name       Complaint Type       Descriptor  \\\n",
       "0  New York City Police Department  Noise - Residential  Loud Television   \n",
       "1  New York City Police Department     Blocked Driveway        No Access   \n",
       "2  New York City Police Department     Blocked Driveway        No Access   \n",
       "3  New York City Police Department     Blocked Driveway        No Access   \n",
       "4     Department of Transportation     Street Condition          Pothole   \n",
       "\n",
       "                Location Type  Incident Zip      Incident Address  \\\n",
       "0  Residential Building/House       11413.0  137-47 CARSON STREET   \n",
       "1             Street/Sidewalk       10469.0   943 EAST 217 STREET   \n",
       "2             Street/Sidewalk       11369.0       98-02 25 AVENUE   \n",
       "3             Street/Sidewalk       10466.0  1017 EAST 226 STREET   \n",
       "4                         NaN       10040.0         4700 BROADWAY   \n",
       "\n",
       "                     ...                    Bridge Highway Name  \\\n",
       "0                    ...                                    NaN   \n",
       "1                    ...                                    NaN   \n",
       "2                    ...                                    NaN   \n",
       "3                    ...                                    NaN   \n",
       "4                    ...                                    NaN   \n",
       "\n",
       "  Bridge Highway Direction Road Ramp Bridge Highway Segment Garage Lot Name  \\\n",
       "0                      NaN       NaN                    NaN             NaN   \n",
       "1                      NaN       NaN                    NaN             NaN   \n",
       "2                      NaN       NaN                    NaN             NaN   \n",
       "3                      NaN       NaN                    NaN             NaN   \n",
       "4                      NaN       NaN                    NaN             NaN   \n",
       "\n",
       "  Ferry Direction Ferry Terminal Name   Latitude  Longitude  \\\n",
       "0             NaN                 NaN  40.675208 -73.754949   \n",
       "1             NaN                 NaN  40.879986 -73.856707   \n",
       "2             NaN                 NaN  40.764632 -73.871623   \n",
       "3             NaN                 NaN  40.885559 -73.850782   \n",
       "4             NaN                 NaN  40.864140 -73.929501   \n",
       "\n",
       "                                   Location  \n",
       "0   (40.67520813178531, -73.75494944502233)  \n",
       "1   (40.87998640855491, -73.85670741555177)  \n",
       "2   (40.76463242381882, -73.87162284918391)  \n",
       "3  (40.885558858976104, -73.85078238918491)  \n",
       "4  (40.864140093130686, -73.92950060219349)  \n",
       "\n",
       "[5 rows x 53 columns]"
      ]
     },
     "execution_count": 220,
     "metadata": {},
     "output_type": "execute_result"
    }
   ],
   "source": [
    "complaints.head()"
   ]
  },
  {
   "cell_type": "code",
   "execution_count": 221,
   "metadata": {
    "collapsed": false
   },
   "outputs": [
    {
     "data": {
      "text/plain": [
       "Index([u'Unique Key', u'Created Date', u'Closed Date', u'Agency',\n",
       "       u'Agency Name', u'Complaint Type', u'Descriptor', u'Location Type',\n",
       "       u'Incident Zip', u'Incident Address', u'Street Name', u'Cross Street 1',\n",
       "       u'Cross Street 2', u'Intersection Street 1', u'Intersection Street 2',\n",
       "       u'Address Type', u'City', u'Landmark', u'Facility Type', u'Status',\n",
       "       u'Due Date', u'Resolution Description',\n",
       "       u'Resolution Action Updated Date', u'Community Board', u'Borough',\n",
       "       u'X Coordinate (State Plane)', u'Y Coordinate (State Plane)',\n",
       "       u'Park Facility Name', u'Park Borough', u'School Name',\n",
       "       u'School Number', u'School Region', u'School Code',\n",
       "       u'School Phone Number', u'School Address', u'School City',\n",
       "       u'School State', u'School Zip', u'School Not Found',\n",
       "       u'School or Citywide Complaint', u'Vehicle Type',\n",
       "       u'Taxi Company Borough', u'Taxi Pick Up Location',\n",
       "       u'Bridge Highway Name', u'Bridge Highway Direction', u'Road Ramp',\n",
       "       u'Bridge Highway Segment', u'Garage Lot Name', u'Ferry Direction',\n",
       "       u'Ferry Terminal Name', u'Latitude', u'Longitude', u'Location'],\n",
       "      dtype='object')"
      ]
     },
     "execution_count": 221,
     "metadata": {},
     "output_type": "execute_result"
    }
   ],
   "source": [
    "complaints.columns"
   ]
  },
  {
   "cell_type": "code",
   "execution_count": 222,
   "metadata": {
    "collapsed": false
   },
   "outputs": [
    {
     "data": {
      "text/plain": [
       "array(['13 QUEENS', '12 BRONX', '03 QUEENS', '12 MANHATTAN',\n",
       "       '09 MANHATTAN', '08 QUEENS', '01 QUEENS', '07 BRONX', '01 BROOKLYN',\n",
       "       '03 MANHATTAN', '09 QUEENS', '05 BRONX', '03 BROOKLYN',\n",
       "       '07 MANHATTAN', '12 BROOKLYN', '0 Unspecified', '09 BROOKLYN',\n",
       "       '07 QUEENS', '15 BROOKLYN', '08 MANHATTAN', '10 BROOKLYN',\n",
       "       '08 BROOKLYN', '04 MANHATTAN', '02 MANHATTAN', '12 QUEENS',\n",
       "       '04 BRONX', '04 BROOKLYN', '01 BRONX', 'Unspecified MANHATTAN',\n",
       "       '10 QUEENS', '18 BROOKLYN', '11 BROOKLYN', '10 MANHATTAN',\n",
       "       '11 QUEENS', '16 BROOKLYN', '05 BROOKLYN', '05 MANHATTAN',\n",
       "       '55 BROOKLYN', '08 BRONX', '09 BRONX', '17 BROOKLYN',\n",
       "       '01 MANHATTAN', '05 QUEENS', '06 QUEENS', '02 BRONX', '11 BRONX',\n",
       "       '04 QUEENS', 'Unspecified BROOKLYN', '02 QUEENS',\n",
       "       '01 STATEN ISLAND', '03 STATEN ISLAND', '14 BROOKLYN',\n",
       "       '07 BROOKLYN', '02 STATEN ISLAND', '10 BRONX', '11 MANHATTAN',\n",
       "       '06 BROOKLYN', '13 BROOKLYN', '06 MANHATTAN', 'Unspecified BRONX',\n",
       "       '02 BROOKLYN', '06 BRONX', '14 QUEENS', '03 BRONX', '83 QUEENS',\n",
       "       'Unspecified QUEENS', 'Unspecified STATEN ISLAND', '80 QUEENS',\n",
       "       '82 QUEENS', '81 QUEENS', '95 STATEN ISLAND', '64 MANHATTAN',\n",
       "       '26 BRONX', '27 BRONX'], dtype=object)"
      ]
     },
     "execution_count": 222,
     "metadata": {},
     "output_type": "execute_result"
    }
   ],
   "source": [
    "# Check if all Boroughs and Community Districts are represented in the Data \n",
    "uniquecd = complaints['Community Board'].drop_duplicates().as_matrix()\n",
    "uniquecd"
   ]
  },
  {
   "cell_type": "code",
   "execution_count": 223,
   "metadata": {
    "collapsed": false
   },
   "outputs": [
    {
     "name": "stdout",
     "output_type": "stream",
     "text": [
      "74\n"
     ]
    }
   ],
   "source": [
    "print(len(uniquecd))"
   ]
  },
  {
   "cell_type": "markdown",
   "metadata": {
    "collapsed": true
   },
   "source": [
    "#### How many unique values do we have? \n",
    "There are 74 unique community districts in the data."
   ]
  },
  {
   "cell_type": "markdown",
   "metadata": {
    "collapsed": true
   },
   "source": [
    "#### Why do we have so many? Some of them are unspecified, missing. Some might be invalid entries. (We should have 59 Community Districts.)\n",
    "There are more than 59 unique values because some are 'unspecified'. All boroughs are represented, however Staten Island only has one Community District included in the data."
   ]
  },
  {
   "cell_type": "markdown",
   "metadata": {
    "collapsed": true
   },
   "source": [
    "#### Check for duplicates? Are these plausible?\n",
    "There are no duplicate rows in this dataset. "
   ]
  },
  {
   "cell_type": "code",
   "execution_count": 224,
   "metadata": {
    "collapsed": false
   },
   "outputs": [
    {
     "name": "stdout",
     "output_type": "stream",
     "text": [
      "34897\n"
     ]
    }
   ],
   "source": [
    "print(len(complaints.drop_duplicates()))"
   ]
  },
  {
   "cell_type": "markdown",
   "metadata": {
    "collapsed": true
   },
   "source": [
    "#### What about missing values? Can you detect any patterns? \n",
    "There are cells with missing values. Columns 'Landmark', 'School or Citywide Complaint', 'Vehicle Type', 'Taxi Company Borough', 'Garage Lot Name', 'Ferry Direction', and 'Ferry Terminal Name' contain exclusively null values. Similarly, 'Bridge Highway Name', 'Bridge Highway Direction', and 'Road Ramp' only contain one non-null value. Community Board does not have any null values."
   ]
  },
  {
   "cell_type": "code",
   "execution_count": 225,
   "metadata": {
    "collapsed": false
   },
   "outputs": [
    {
     "data": {
      "text/plain": [
       "Unique Key                            0\n",
       "Created Date                          0\n",
       "Closed Date                       12779\n",
       "Agency                                0\n",
       "Agency Name                           0\n",
       "Complaint Type                        0\n",
       "Descriptor                         1171\n",
       "Location Type                      6801\n",
       "Incident Zip                       1852\n",
       "Incident Address                   7174\n",
       "Street Name                        7175\n",
       "Cross Street 1                    14533\n",
       "Cross Street 2                    14638\n",
       "Intersection Street 1             29857\n",
       "Intersection Street 2             29885\n",
       "Address Type                       1556\n",
       "City                               1845\n",
       "Landmark                          34881\n",
       "Facility Type                     19136\n",
       "Status                                0\n",
       "Due Date                          13719\n",
       "Resolution Description             1807\n",
       "Resolution Action Updated Date     5745\n",
       "Community Board                       0\n",
       "Borough                               0\n",
       "X Coordinate (State Plane)         3026\n",
       "Y Coordinate (State Plane)         3026\n",
       "Park Facility Name                    0\n",
       "Park Borough                          0\n",
       "School Name                           0\n",
       "School Number                        17\n",
       "School Region                       321\n",
       "School Code                         321\n",
       "School Phone Number                   0\n",
       "School Address                        0\n",
       "School City                           0\n",
       "School State                          0\n",
       "School Zip                            0\n",
       "School Not Found                  13712\n",
       "School or Citywide Complaint      34897\n",
       "Vehicle Type                      34896\n",
       "Taxi Company Borough              34868\n",
       "Taxi Pick Up Location             34729\n",
       "Bridge Highway Name               34867\n",
       "Bridge Highway Direction          34867\n",
       "Road Ramp                         34868\n",
       "Bridge Highway Segment            34834\n",
       "Garage Lot Name                   34894\n",
       "Ferry Direction                   34878\n",
       "Ferry Terminal Name               34861\n",
       "Latitude                           3026\n",
       "Longitude                          3026\n",
       "Location                           3026\n",
       "dtype: int64"
      ]
     },
     "execution_count": 225,
     "metadata": {},
     "output_type": "execute_result"
    }
   ],
   "source": [
    "complaints.isnull().sum()"
   ]
  },
  {
   "cell_type": "code",
   "execution_count": 226,
   "metadata": {
    "collapsed": true
   },
   "outputs": [],
   "source": [
    "# Data Editing: Is it possible to replace missing values? Is it possible to use Complaint Type \n",
    "# to fill missings in Resolution Descriptor?"
   ]
  },
  {
   "cell_type": "code",
   "execution_count": 227,
   "metadata": {
    "collapsed": true
   },
   "outputs": [],
   "source": [
    "complaints = complaints.rename(columns={'Complaint Type': 'Complaint_Type', 'Resolution Description': 'Resolution_Description'})"
   ]
  },
  {
   "cell_type": "code",
   "execution_count": 228,
   "metadata": {
    "collapsed": true
   },
   "outputs": [],
   "source": [
    "complaints.Resolution_Description.fillna(complaints.Complaint_Type, inplace=True)"
   ]
  },
  {
   "cell_type": "code",
   "execution_count": 229,
   "metadata": {
    "collapsed": false
   },
   "outputs": [
    {
     "data": {
      "text/plain": [
       "0"
      ]
     },
     "execution_count": 229,
     "metadata": {},
     "output_type": "execute_result"
    }
   ],
   "source": [
    "complaints.Resolution_Description.isnull().sum()"
   ]
  },
  {
   "cell_type": "markdown",
   "metadata": {
    "collapsed": true
   },
   "source": [
    "#### Generate marker for unplausible Community Districts, how do these districts look like? Drop the marked districts\n",
    "\n",
    "The unplausible Community Districts are those which include the word 'unspecified' in the title. I dropped these rows using the series.str.contains() method in Pandas. I also dropped the Community Districts with numbers greater than 18 because << need pluto data description >> "
   ]
  },
  {
   "cell_type": "code",
   "execution_count": 230,
   "metadata": {
    "collapsed": true
   },
   "outputs": [],
   "source": [
    "complaints = complaints.rename(columns={'Community Board': 'Community_Board'})"
   ]
  },
  {
   "cell_type": "code",
   "execution_count": 231,
   "metadata": {
    "collapsed": false
   },
   "outputs": [],
   "source": [
    "complaints = complaints[complaints[\"Community_Board\"].str.contains('Unspecified') != True]"
   ]
  },
  {
   "cell_type": "code",
   "execution_count": 232,
   "metadata": {
    "collapsed": false
   },
   "outputs": [
    {
     "name": "stdout",
     "output_type": "stream",
     "text": [
      "32899\n"
     ]
    }
   ],
   "source": [
    "print(len(complaints))"
   ]
  },
  {
   "cell_type": "code",
   "execution_count": 233,
   "metadata": {
    "collapsed": false
   },
   "outputs": [
    {
     "data": {
      "text/plain": [
       "array(['13 QUEENS', '12 BRONX', '03 QUEENS', '12 MANHATTAN',\n",
       "       '09 MANHATTAN', '08 QUEENS', '01 QUEENS', '07 BRONX', '01 BROOKLYN',\n",
       "       '03 MANHATTAN', '09 QUEENS', '05 BRONX', '03 BROOKLYN',\n",
       "       '07 MANHATTAN', '12 BROOKLYN', '09 BROOKLYN', '07 QUEENS',\n",
       "       '15 BROOKLYN', '08 MANHATTAN', '10 BROOKLYN', '08 BROOKLYN',\n",
       "       '04 MANHATTAN', '02 MANHATTAN', '12 QUEENS', '04 BRONX',\n",
       "       '04 BROOKLYN', '01 BRONX', '10 QUEENS', '18 BROOKLYN',\n",
       "       '11 BROOKLYN', '10 MANHATTAN', '11 QUEENS', '16 BROOKLYN',\n",
       "       '05 BROOKLYN', '05 MANHATTAN', '55 BROOKLYN', '08 BRONX',\n",
       "       '09 BRONX', '17 BROOKLYN', '01 MANHATTAN', '05 QUEENS', '06 QUEENS',\n",
       "       '02 BRONX', '11 BRONX', '04 QUEENS', '02 QUEENS',\n",
       "       '01 STATEN ISLAND', '03 STATEN ISLAND', '14 BROOKLYN',\n",
       "       '07 BROOKLYN', '02 STATEN ISLAND', '10 BRONX', '11 MANHATTAN',\n",
       "       '06 BROOKLYN', '13 BROOKLYN', '06 MANHATTAN', '02 BROOKLYN',\n",
       "       '06 BRONX', '14 QUEENS', '03 BRONX', '83 QUEENS', '80 QUEENS',\n",
       "       '82 QUEENS', '81 QUEENS', '95 STATEN ISLAND', '64 MANHATTAN',\n",
       "       '26 BRONX', '27 BRONX'], dtype=object)"
      ]
     },
     "execution_count": 233,
     "metadata": {},
     "output_type": "execute_result"
    }
   ],
   "source": [
    "complaints['Community_Board'].drop_duplicates().as_matrix()"
   ]
  },
  {
   "cell_type": "code",
   "execution_count": 234,
   "metadata": {
    "collapsed": true
   },
   "outputs": [],
   "source": [
    "complaints = complaints[complaints[\"Community_Board\"].str.contains('55') != True]\n",
    "complaints = complaints[complaints[\"Community_Board\"].str.contains('83') != True]\n",
    "complaints = complaints[complaints[\"Community_Board\"].str.contains('80') != True]\n",
    "complaints = complaints[complaints[\"Community_Board\"].str.contains('82') != True]\n",
    "complaints = complaints[complaints[\"Community_Board\"].str.contains('81') != True]\n",
    "complaints = complaints[complaints[\"Community_Board\"].str.contains('95') != True]\n",
    "complaints = complaints[complaints[\"Community_Board\"].str.contains('64') != True]\n",
    "complaints = complaints[complaints[\"Community_Board\"].str.contains('26') != True]\n",
    "complaints = complaints[complaints[\"Community_Board\"].str.contains('27') != True]"
   ]
  },
  {
   "cell_type": "code",
   "execution_count": 235,
   "metadata": {
    "collapsed": false
   },
   "outputs": [
    {
     "data": {
      "text/plain": [
       "array(['13 QUEENS', '12 BRONX', '03 QUEENS', '12 MANHATTAN',\n",
       "       '09 MANHATTAN', '08 QUEENS', '01 QUEENS', '07 BRONX', '01 BROOKLYN',\n",
       "       '03 MANHATTAN', '09 QUEENS', '05 BRONX', '03 BROOKLYN',\n",
       "       '07 MANHATTAN', '12 BROOKLYN', '09 BROOKLYN', '07 QUEENS',\n",
       "       '15 BROOKLYN', '08 MANHATTAN', '10 BROOKLYN', '08 BROOKLYN',\n",
       "       '04 MANHATTAN', '02 MANHATTAN', '12 QUEENS', '04 BRONX',\n",
       "       '04 BROOKLYN', '01 BRONX', '10 QUEENS', '18 BROOKLYN',\n",
       "       '11 BROOKLYN', '10 MANHATTAN', '11 QUEENS', '16 BROOKLYN',\n",
       "       '05 BROOKLYN', '05 MANHATTAN', '08 BRONX', '09 BRONX',\n",
       "       '17 BROOKLYN', '01 MANHATTAN', '05 QUEENS', '06 QUEENS', '02 BRONX',\n",
       "       '11 BRONX', '04 QUEENS', '02 QUEENS', '01 STATEN ISLAND',\n",
       "       '03 STATEN ISLAND', '14 BROOKLYN', '07 BROOKLYN',\n",
       "       '02 STATEN ISLAND', '10 BRONX', '11 MANHATTAN', '06 BROOKLYN',\n",
       "       '13 BROOKLYN', '06 MANHATTAN', '02 BROOKLYN', '06 BRONX',\n",
       "       '14 QUEENS', '03 BRONX'], dtype=object)"
      ]
     },
     "execution_count": 235,
     "metadata": {},
     "output_type": "execute_result"
    }
   ],
   "source": [
    "complaints['Community_Board'].drop_duplicates().as_matrix()"
   ]
  },
  {
   "cell_type": "code",
   "execution_count": 236,
   "metadata": {
    "collapsed": false
   },
   "outputs": [
    {
     "data": {
      "text/plain": [
       "array(['13 QUEENS', '12 BRONX', '03 QUEENS', '12 MANHATTAN',\n",
       "       '09 MANHATTAN', '08 QUEENS', '01 QUEENS', '07 BRONX', '01 BROOKLYN',\n",
       "       '03 MANHATTAN', '09 QUEENS', '05 BRONX', '03 BROOKLYN',\n",
       "       '07 MANHATTAN', '12 BROOKLYN', '09 BROOKLYN', '07 QUEENS',\n",
       "       '15 BROOKLYN', '08 MANHATTAN', '10 BROOKLYN', '08 BROOKLYN',\n",
       "       '04 MANHATTAN', '02 MANHATTAN', '12 QUEENS', '04 BRONX',\n",
       "       '04 BROOKLYN', '01 BRONX', '10 QUEENS', '18 BROOKLYN',\n",
       "       '11 BROOKLYN', '10 MANHATTAN', '11 QUEENS', '16 BROOKLYN',\n",
       "       '05 BROOKLYN', '05 MANHATTAN', '08 BRONX', '09 BRONX',\n",
       "       '17 BROOKLYN', '01 MANHATTAN', '05 QUEENS', '06 QUEENS', '02 BRONX',\n",
       "       '11 BRONX', '04 QUEENS', '02 QUEENS', '01 STATEN ISLAND',\n",
       "       '03 STATEN ISLAND', '14 BROOKLYN', '07 BROOKLYN',\n",
       "       '02 STATEN ISLAND', '10 BRONX', '11 MANHATTAN', '06 BROOKLYN',\n",
       "       '13 BROOKLYN', '06 MANHATTAN', '02 BROOKLYN', '06 BRONX',\n",
       "       '14 QUEENS', '03 BRONX'], dtype=object)"
      ]
     },
     "execution_count": 236,
     "metadata": {},
     "output_type": "execute_result"
    }
   ],
   "source": [
    "complaints['Community_Board'].drop_duplicates().as_matrix()"
   ]
  },
  {
   "cell_type": "code",
   "execution_count": 237,
   "metadata": {
    "collapsed": false
   },
   "outputs": [
    {
     "name": "stdout",
     "output_type": "stream",
     "text": [
      "59\n"
     ]
    }
   ],
   "source": [
    "print(len(complaints['Community_Board'].drop_duplicates().as_matrix()))"
   ]
  },
  {
   "cell_type": "code",
   "execution_count": 238,
   "metadata": {
    "collapsed": true
   },
   "outputs": [],
   "source": [
    "# Produce your result: Generate an indicator which ranks the Community District by complaint numbers \n",
    "# on the Community district level"
   ]
  },
  {
   "cell_type": "code",
   "execution_count": 239,
   "metadata": {
    "collapsed": false
   },
   "outputs": [],
   "source": [
    "cbc = pd.DataFrame(complaints['Unique Key'].groupby(complaints['Community_Board']).count()).reset_index()"
   ]
  },
  {
   "cell_type": "code",
   "execution_count": 240,
   "metadata": {
    "collapsed": false
   },
   "outputs": [],
   "source": [
    "cbc = cbc.rename(columns={'Community_Board': 'Community Board Name', 'Unique Key': 'Count of Complaints'})"
   ]
  },
  {
   "cell_type": "code",
   "execution_count": 241,
   "metadata": {
    "collapsed": false
   },
   "outputs": [],
   "source": [
    "cbc = cbc.sort_values(by='Count of Complaints', ascending=0)"
   ]
  },
  {
   "cell_type": "markdown",
   "metadata": {},
   "source": [
    "#### Reduced dataset\n",
    "Below is a dataframe, which quantifies the number of complaints by Community District. I sorted the Community Districts in descending order by number of complaints."
   ]
  },
  {
   "cell_type": "code",
   "execution_count": 242,
   "metadata": {
    "collapsed": false
   },
   "outputs": [
    {
     "data": {
      "text/html": [
       "<div>\n",
       "<table border=\"1\" class=\"dataframe\">\n",
       "  <thead>\n",
       "    <tr style=\"text-align: right;\">\n",
       "      <th></th>\n",
       "      <th>Community Board Name</th>\n",
       "      <th>Count of Complaints</th>\n",
       "    </tr>\n",
       "  </thead>\n",
       "  <tbody>\n",
       "    <tr>\n",
       "      <th>49</th>\n",
       "      <td>12 MANHATTAN</td>\n",
       "      <td>1162</td>\n",
       "    </tr>\n",
       "    <tr>\n",
       "      <th>50</th>\n",
       "      <td>12 QUEENS</td>\n",
       "      <td>968</td>\n",
       "    </tr>\n",
       "    <tr>\n",
       "      <th>57</th>\n",
       "      <td>17 BROOKLYN</td>\n",
       "      <td>883</td>\n",
       "    </tr>\n",
       "    <tr>\n",
       "      <th>20</th>\n",
       "      <td>05 BROOKLYN</td>\n",
       "      <td>871</td>\n",
       "    </tr>\n",
       "    <tr>\n",
       "      <th>11</th>\n",
       "      <td>03 BROOKLYN</td>\n",
       "      <td>865</td>\n",
       "    </tr>\n",
       "  </tbody>\n",
       "</table>\n",
       "</div>"
      ],
      "text/plain": [
       "   Community Board Name  Count of Complaints\n",
       "49         12 MANHATTAN                 1162\n",
       "50            12 QUEENS                  968\n",
       "57          17 BROOKLYN                  883\n",
       "20          05 BROOKLYN                  871\n",
       "11          03 BROOKLYN                  865"
      ]
     },
     "execution_count": 242,
     "metadata": {},
     "output_type": "execute_result"
    }
   ],
   "source": [
    "cbc.head()"
   ]
  },
  {
   "cell_type": "markdown",
   "metadata": {},
   "source": [
    "### 4) Think about the demographics of the Community Districts"
   ]
  },
  {
   "cell_type": "code",
   "execution_count": 243,
   "metadata": {
    "collapsed": true
   },
   "outputs": [],
   "source": [
    "final_demo = pd.read_csv(\"http://cosmo.nyu.edu/~fb55/PUI2016/data/Final_Demographics.csv\")"
   ]
  },
  {
   "cell_type": "code",
   "execution_count": 244,
   "metadata": {
    "collapsed": false
   },
   "outputs": [
    {
     "data": {
      "text/html": [
       "<div>\n",
       "<table border=\"1\" class=\"dataframe\">\n",
       "  <thead>\n",
       "    <tr style=\"text-align: right;\">\n",
       "      <th></th>\n",
       "      <th>FIPS</th>\n",
       "      <th>cd_id</th>\n",
       "      <th>Total Population</th>\n",
       "      <th>Population Density (per sq. mile)</th>\n",
       "      <th>% Total Population: Male</th>\n",
       "      <th>% Total Population: 18 to 24 Years</th>\n",
       "      <th>% Total Population: 25 to 34 Years</th>\n",
       "      <th>% Total Population: 35 to 44 Years</th>\n",
       "      <th>% Population 5 Years And Over: Speak Only English</th>\n",
       "      <th>% Population 5 Years And Over: Spanish or Spanish Creole</th>\n",
       "      <th>...</th>\n",
       "      <th>Employed Civilian Population 16 Years And Over: Production, transportation, and material moving  occupations: Production occupations</th>\n",
       "      <th>Employed Civilian Population 16 Years And Over: Production, transportation, and material moving  occupations: Transportation and material moving occupations</th>\n",
       "      <th>% Employed Civilian Population 16 Years And Over: Management, professional, and related occupations</th>\n",
       "      <th>% Employed Civilian Population 16 Years And Over: Service occupations</th>\n",
       "      <th>% Employed Civilian Population 16 Years And Over: Sales and office occupations</th>\n",
       "      <th>% Employed Civilian Population 16 Years And Over: Farming, fishing, and forestry occupations</th>\n",
       "      <th>% Employed Civilian Population 16 Years And Over: Construction, extraction, and maintenance  occupations</th>\n",
       "      <th>% Employed Civilian Population 16 Years And Over: Production, transportation, and material moving  occupations</th>\n",
       "      <th>% Employed Civilian Population 16 Years And Over: Production, transportation, and material moving  occupations: Production occupations</th>\n",
       "      <th>% Employed Civilian Population 16 Years And Over: Production, transportation, and material moving  occupations: Transportation and material moving occupations</th>\n",
       "    </tr>\n",
       "  </thead>\n",
       "  <tbody>\n",
       "    <tr>\n",
       "      <th>0</th>\n",
       "      <td>3603701</td>\n",
       "      <td>BX08</td>\n",
       "      <td>106737</td>\n",
       "      <td>31229.95006</td>\n",
       "      <td>46.65</td>\n",
       "      <td>10.73</td>\n",
       "      <td>15.04</td>\n",
       "      <td>11.32</td>\n",
       "      <td>46.80</td>\n",
       "      <td>39.24</td>\n",
       "      <td>...</td>\n",
       "      <td>665</td>\n",
       "      <td>1518</td>\n",
       "      <td>42.66</td>\n",
       "      <td>28.95</td>\n",
       "      <td>20.89</td>\n",
       "      <td>0.24</td>\n",
       "      <td>2.65</td>\n",
       "      <td>4.60</td>\n",
       "      <td>1.40</td>\n",
       "      <td>3.20</td>\n",
       "    </tr>\n",
       "    <tr>\n",
       "      <th>1</th>\n",
       "      <td>3603702</td>\n",
       "      <td>BX12</td>\n",
       "      <td>134644</td>\n",
       "      <td>19966.67839</td>\n",
       "      <td>46.35</td>\n",
       "      <td>11.35</td>\n",
       "      <td>14.29</td>\n",
       "      <td>12.57</td>\n",
       "      <td>73.09</td>\n",
       "      <td>18.19</td>\n",
       "      <td>...</td>\n",
       "      <td>1156</td>\n",
       "      <td>4174</td>\n",
       "      <td>29.57</td>\n",
       "      <td>33.98</td>\n",
       "      <td>20.40</td>\n",
       "      <td>0.00</td>\n",
       "      <td>7.08</td>\n",
       "      <td>8.97</td>\n",
       "      <td>1.95</td>\n",
       "      <td>7.02</td>\n",
       "    </tr>\n",
       "    <tr>\n",
       "      <th>2</th>\n",
       "      <td>3603703</td>\n",
       "      <td>BX10</td>\n",
       "      <td>121209</td>\n",
       "      <td>12913.81703</td>\n",
       "      <td>45.20</td>\n",
       "      <td>8.62</td>\n",
       "      <td>13.74</td>\n",
       "      <td>12.78</td>\n",
       "      <td>61.79</td>\n",
       "      <td>26.43</td>\n",
       "      <td>...</td>\n",
       "      <td>941</td>\n",
       "      <td>3433</td>\n",
       "      <td>36.20</td>\n",
       "      <td>22.85</td>\n",
       "      <td>25.09</td>\n",
       "      <td>0.00</td>\n",
       "      <td>7.68</td>\n",
       "      <td>8.18</td>\n",
       "      <td>1.76</td>\n",
       "      <td>6.42</td>\n",
       "    </tr>\n",
       "    <tr>\n",
       "      <th>3</th>\n",
       "      <td>3603704</td>\n",
       "      <td>BX11</td>\n",
       "      <td>135839</td>\n",
       "      <td>35677.95453</td>\n",
       "      <td>50.09</td>\n",
       "      <td>8.10</td>\n",
       "      <td>17.43</td>\n",
       "      <td>14.09</td>\n",
       "      <td>43.22</td>\n",
       "      <td>36.45</td>\n",
       "      <td>...</td>\n",
       "      <td>2189</td>\n",
       "      <td>5592</td>\n",
       "      <td>30.06</td>\n",
       "      <td>27.86</td>\n",
       "      <td>22.24</td>\n",
       "      <td>0.00</td>\n",
       "      <td>7.03</td>\n",
       "      <td>12.81</td>\n",
       "      <td>3.60</td>\n",
       "      <td>9.20</td>\n",
       "    </tr>\n",
       "    <tr>\n",
       "      <th>4</th>\n",
       "      <td>3603705</td>\n",
       "      <td>BX03</td>\n",
       "      <td>172247</td>\n",
       "      <td>39405.79222</td>\n",
       "      <td>44.72</td>\n",
       "      <td>14.24</td>\n",
       "      <td>14.89</td>\n",
       "      <td>12.38</td>\n",
       "      <td>36.82</td>\n",
       "      <td>54.24</td>\n",
       "      <td>...</td>\n",
       "      <td>1437</td>\n",
       "      <td>5436</td>\n",
       "      <td>16.80</td>\n",
       "      <td>41.00</td>\n",
       "      <td>22.29</td>\n",
       "      <td>0.03</td>\n",
       "      <td>8.45</td>\n",
       "      <td>11.43</td>\n",
       "      <td>2.39</td>\n",
       "      <td>9.04</td>\n",
       "    </tr>\n",
       "  </tbody>\n",
       "</table>\n",
       "<p>5 rows × 158 columns</p>\n",
       "</div>"
      ],
      "text/plain": [
       "      FIPS cd_id  Total Population  Population Density (per sq. mile)  \\\n",
       "0  3603701  BX08            106737                        31229.95006   \n",
       "1  3603702  BX12            134644                        19966.67839   \n",
       "2  3603703  BX10            121209                        12913.81703   \n",
       "3  3603704  BX11            135839                        35677.95453   \n",
       "4  3603705  BX03            172247                        39405.79222   \n",
       "\n",
       "   % Total Population: Male  % Total Population: 18 to 24 Years  \\\n",
       "0                     46.65                               10.73   \n",
       "1                     46.35                               11.35   \n",
       "2                     45.20                                8.62   \n",
       "3                     50.09                                8.10   \n",
       "4                     44.72                               14.24   \n",
       "\n",
       "   % Total Population: 25 to 34 Years  % Total Population: 35 to 44 Years  \\\n",
       "0                               15.04                               11.32   \n",
       "1                               14.29                               12.57   \n",
       "2                               13.74                               12.78   \n",
       "3                               17.43                               14.09   \n",
       "4                               14.89                               12.38   \n",
       "\n",
       "   % Population 5 Years And Over: Speak Only English  \\\n",
       "0                                              46.80   \n",
       "1                                              73.09   \n",
       "2                                              61.79   \n",
       "3                                              43.22   \n",
       "4                                              36.82   \n",
       "\n",
       "   % Population 5 Years And Over: Spanish or Spanish Creole  \\\n",
       "0                                              39.24          \n",
       "1                                              18.19          \n",
       "2                                              26.43          \n",
       "3                                              36.45          \n",
       "4                                              54.24          \n",
       "\n",
       "                                                                                ...                                                                                \\\n",
       "0                                                                               ...                                                                                 \n",
       "1                                                                               ...                                                                                 \n",
       "2                                                                               ...                                                                                 \n",
       "3                                                                               ...                                                                                 \n",
       "4                                                                               ...                                                                                 \n",
       "\n",
       "   Employed Civilian Population 16 Years And Over: Production, transportation, and material moving  occupations: Production occupations  \\\n",
       "0                                                665                                                                                      \n",
       "1                                               1156                                                                                      \n",
       "2                                                941                                                                                      \n",
       "3                                               2189                                                                                      \n",
       "4                                               1437                                                                                      \n",
       "\n",
       "   Employed Civilian Population 16 Years And Over: Production, transportation, and material moving  occupations: Transportation and material moving occupations  \\\n",
       "0                                               1518                                                                                                              \n",
       "1                                               4174                                                                                                              \n",
       "2                                               3433                                                                                                              \n",
       "3                                               5592                                                                                                              \n",
       "4                                               5436                                                                                                              \n",
       "\n",
       "   % Employed Civilian Population 16 Years And Over: Management, professional, and related occupations  \\\n",
       "0                                              42.66                                                     \n",
       "1                                              29.57                                                     \n",
       "2                                              36.20                                                     \n",
       "3                                              30.06                                                     \n",
       "4                                              16.80                                                     \n",
       "\n",
       "   % Employed Civilian Population 16 Years And Over: Service occupations  \\\n",
       "0                                              28.95                       \n",
       "1                                              33.98                       \n",
       "2                                              22.85                       \n",
       "3                                              27.86                       \n",
       "4                                              41.00                       \n",
       "\n",
       "   % Employed Civilian Population 16 Years And Over: Sales and office occupations  \\\n",
       "0                                              20.89                                \n",
       "1                                              20.40                                \n",
       "2                                              25.09                                \n",
       "3                                              22.24                                \n",
       "4                                              22.29                                \n",
       "\n",
       "   % Employed Civilian Population 16 Years And Over: Farming, fishing, and forestry occupations  \\\n",
       "0                                               0.24                                              \n",
       "1                                               0.00                                              \n",
       "2                                               0.00                                              \n",
       "3                                               0.00                                              \n",
       "4                                               0.03                                              \n",
       "\n",
       "   % Employed Civilian Population 16 Years And Over: Construction, extraction, and maintenance  occupations  \\\n",
       "0                                               2.65                                                          \n",
       "1                                               7.08                                                          \n",
       "2                                               7.68                                                          \n",
       "3                                               7.03                                                          \n",
       "4                                               8.45                                                          \n",
       "\n",
       "   % Employed Civilian Population 16 Years And Over: Production, transportation, and material moving  occupations  \\\n",
       "0                                               4.60                                                                \n",
       "1                                               8.97                                                                \n",
       "2                                               8.18                                                                \n",
       "3                                              12.81                                                                \n",
       "4                                              11.43                                                                \n",
       "\n",
       "   % Employed Civilian Population 16 Years And Over: Production, transportation, and material moving  occupations: Production occupations  \\\n",
       "0                                               1.40                                                                                        \n",
       "1                                               1.95                                                                                        \n",
       "2                                               1.76                                                                                        \n",
       "3                                               3.60                                                                                        \n",
       "4                                               2.39                                                                                        \n",
       "\n",
       "   % Employed Civilian Population 16 Years And Over: Production, transportation, and material moving  occupations: Transportation and material moving occupations  \n",
       "0                                               3.20                                                                                                               \n",
       "1                                               7.02                                                                                                               \n",
       "2                                               6.42                                                                                                               \n",
       "3                                               9.20                                                                                                               \n",
       "4                                               9.04                                                                                                               \n",
       "\n",
       "[5 rows x 158 columns]"
      ]
     },
     "execution_count": 244,
     "metadata": {},
     "output_type": "execute_result"
    }
   ],
   "source": [
    "final_demo.head()"
   ]
  },
  {
   "cell_type": "code",
   "execution_count": 245,
   "metadata": {
    "collapsed": true
   },
   "outputs": [],
   "source": [
    "# Check variables in file"
   ]
  },
  {
   "cell_type": "code",
   "execution_count": 246,
   "metadata": {
    "collapsed": false
   },
   "outputs": [
    {
     "data": {
      "text/plain": [
       "Index([u'FIPS', u'cd_id', u'Total Population',\n",
       "       u'Population Density (per sq. mile)', u'% Total Population: Male',\n",
       "       u'% Total Population: 18 to 24 Years',\n",
       "       u'% Total Population: 25 to 34 Years',\n",
       "       u'% Total Population: 35 to 44 Years',\n",
       "       u'% Population 5 Years And Over: Speak Only English',\n",
       "       u'% Population 5 Years And Over: Spanish or Spanish Creole',\n",
       "       ...\n",
       "       u'Employed Civilian Population 16 Years And Over: Production, transportation, and material moving  occupations: Production occupations',\n",
       "       u'Employed Civilian Population 16 Years And Over: Production, transportation, and material moving  occupations: Transportation and material moving occupations',\n",
       "       u'% Employed Civilian Population 16 Years And Over: Management, professional, and related occupations',\n",
       "       u'% Employed Civilian Population 16 Years And Over: Service occupations',\n",
       "       u'% Employed Civilian Population 16 Years And Over: Sales and office occupations',\n",
       "       u'% Employed Civilian Population 16 Years And Over: Farming, fishing, and forestry occupations',\n",
       "       u'% Employed Civilian Population 16 Years And Over: Construction, extraction, and maintenance  occupations',\n",
       "       u'% Employed Civilian Population 16 Years And Over: Production, transportation, and material moving  occupations',\n",
       "       u'% Employed Civilian Population 16 Years And Over: Production, transportation, and material moving  occupations: Production occupations',\n",
       "       u'% Employed Civilian Population 16 Years And Over: Production, transportation, and material moving  occupations: Transportation and material moving occupations'],\n",
       "      dtype='object', length=158)"
      ]
     },
     "execution_count": 246,
     "metadata": {},
     "output_type": "execute_result"
    }
   ],
   "source": [
    "final_demo.columns"
   ]
  },
  {
   "cell_type": "markdown",
   "metadata": {},
   "source": [
    "#### How many community districts are in file? \n",
    "There are 59 Community Districts in the file. "
   ]
  },
  {
   "cell_type": "code",
   "execution_count": 247,
   "metadata": {
    "collapsed": true
   },
   "outputs": [],
   "source": [
    "cd_id = final_demo['cd_id'].drop_duplicates().as_matrix()"
   ]
  },
  {
   "cell_type": "code",
   "execution_count": 248,
   "metadata": {
    "collapsed": false
   },
   "outputs": [
    {
     "data": {
      "text/plain": [
       "array(['BX08', 'BX12', 'BX10', 'BX11', 'BX03', 'BX06', 'BX07', 'BX05',\n",
       "       'BX04', 'BX09', 'BX01', 'BX02', 'MN12', 'MN09', 'MN10', 'MN11111',\n",
       "       'MN08', 'MN07', 'MN05', 'MN04', 'MN06', 'MN03', 'MN01', 'MN02',\n",
       "       'SI03', 'SI02', 'SI01', 'BK01', 'BK04', 'BK03', 'BK02', 'BK06',\n",
       "       'BK08', 'BK16', 'BK05', 'BK18', 'BK17', 'BK09', 'BK07', 'BK10',\n",
       "       'BK12', 'BK14', 'BK15', 'BK11', 'BK13', 'QN01', 'QN03', 'QN07',\n",
       "       'QN11', 'QN13', 'QN08', 'QN04', 'QN06', 'QN02', 'QN05', 'QN09',\n",
       "       'QN12', 'QN10', 'QN14'], dtype=object)"
      ]
     },
     "execution_count": 248,
     "metadata": {},
     "output_type": "execute_result"
    }
   ],
   "source": [
    "cd_id"
   ]
  },
  {
   "cell_type": "code",
   "execution_count": 249,
   "metadata": {
    "collapsed": false
   },
   "outputs": [],
   "source": [
    "final_demo = final_demo.replace(['MN11111'], ['MN11'])"
   ]
  },
  {
   "cell_type": "code",
   "execution_count": 250,
   "metadata": {
    "collapsed": false
   },
   "outputs": [
    {
     "name": "stdout",
     "output_type": "stream",
     "text": [
      "59\n"
     ]
    }
   ],
   "source": [
    "print(len(cd_id))"
   ]
  },
  {
   "cell_type": "code",
   "execution_count": 251,
   "metadata": {
    "collapsed": true
   },
   "outputs": [],
   "source": [
    "# Manipulate data to get some information on demographics by Community District. \n",
    "# Think about who might be more likely to call 311\n",
    "# Save data frame"
   ]
  },
  {
   "cell_type": "code",
   "execution_count": 252,
   "metadata": {
    "collapsed": false
   },
   "outputs": [
    {
     "data": {
      "text/html": [
       "<div>\n",
       "<table border=\"1\" class=\"dataframe\">\n",
       "  <thead>\n",
       "    <tr style=\"text-align: right;\">\n",
       "      <th></th>\n",
       "      <th>Community Board Name</th>\n",
       "      <th>Median Household Income</th>\n",
       "    </tr>\n",
       "  </thead>\n",
       "  <tbody>\n",
       "    <tr>\n",
       "      <th>0</th>\n",
       "      <td>BX08</td>\n",
       "      <td>54224</td>\n",
       "    </tr>\n",
       "    <tr>\n",
       "      <th>1</th>\n",
       "      <td>BX12</td>\n",
       "      <td>44906</td>\n",
       "    </tr>\n",
       "    <tr>\n",
       "      <th>2</th>\n",
       "      <td>BX10</td>\n",
       "      <td>54962</td>\n",
       "    </tr>\n",
       "    <tr>\n",
       "      <th>3</th>\n",
       "      <td>BX11</td>\n",
       "      <td>47910</td>\n",
       "    </tr>\n",
       "    <tr>\n",
       "      <th>4</th>\n",
       "      <td>BX03</td>\n",
       "      <td>22041</td>\n",
       "    </tr>\n",
       "  </tbody>\n",
       "</table>\n",
       "</div>"
      ],
      "text/plain": [
       "  Community Board Name  Median Household Income\n",
       "0                 BX08                    54224\n",
       "1                 BX12                    44906\n",
       "2                 BX10                    54962\n",
       "3                 BX11                    47910\n",
       "4                 BX03                    22041"
      ]
     },
     "execution_count": 252,
     "metadata": {},
     "output_type": "execute_result"
    }
   ],
   "source": [
    "final_demo = final_demo.iloc[:,[1, 139]]\n",
    "final_demo = final_demo.rename(columns={'Median household income (In 2014 Inflation Adjusted Dollars)': 'Median Household Income', 'cd_id': 'Community Board Name'})\n",
    "final_demo.head()"
   ]
  },
  {
   "cell_type": "code",
   "execution_count": 253,
   "metadata": {
    "collapsed": false
   },
   "outputs": [],
   "source": [
    "internet = pd.read_csv(\"http://cosmo.nyu.edu/~fb55/PUI2016/data/ACS_Computer_Use_and_Internet_2014_1Year_Estimate.csv\")"
   ]
  },
  {
   "cell_type": "code",
   "execution_count": 254,
   "metadata": {
    "collapsed": false
   },
   "outputs": [
    {
     "name": "stdout",
     "output_type": "stream",
     "text": [
      "59\n"
     ]
    }
   ],
   "source": [
    "print(len(internet))"
   ]
  },
  {
   "cell_type": "code",
   "execution_count": 255,
   "metadata": {
    "collapsed": false
   },
   "outputs": [
    {
     "data": {
      "text/plain": [
       "FIPS                                                       0\n",
       "Geographic Identifier                                      0\n",
       "Qualifying Name                                            0\n",
       "Households                                                 0\n",
       "Households: With An Internet Subscription                  0\n",
       "Households: Dial-Up Alone                                  0\n",
       "Households: Dsl                                            0\n",
       "Households: With Mobile Broadband                          0\n",
       "Households: Without Mobile Broadband                       0\n",
       "Households: Cable Modem                                    0\n",
       "Households: With Mobile Broadband.1                        0\n",
       "Households: Without Mobile Broadband.1                     0\n",
       "Households: Fiber-Optic                                    0\n",
       "Households: With Mobile Broadband.2                        0\n",
       "Households: Without Mobile Broadband.2                     0\n",
       "Households: Satellite Internet Service                     0\n",
       "Households: With Mobile Broadband.3                        0\n",
       "Households: Without Mobile Broadband.3                     0\n",
       "Households: Two or More Fixed Broadband Types, or Other    0\n",
       "Households: With Mobile Broadband.4                        0\n",
       "Households: Without Mobile Broadband.4                     0\n",
       "Households: Mobile Broadband Alone or With Dialup          0\n",
       "Households: Internet Access Without A Subscription         0\n",
       "Households: No Internet Access                             0\n",
       "% Households: With An Internet Subscription                0\n",
       "Households.1                                               0\n",
       "Households: Has A Computer                                 0\n",
       "Households: With Dial-Up Internet Subscription Alone       0\n",
       "Households: With A Broadband Internet Subscription         0\n",
       "Households: Without An Internet Subscription               0\n",
       "Households: No Computer                                    0\n",
       "dtype: int64"
      ]
     },
     "execution_count": 255,
     "metadata": {},
     "output_type": "execute_result"
    }
   ],
   "source": [
    "internet.isnull().sum()"
   ]
  },
  {
   "cell_type": "code",
   "execution_count": 256,
   "metadata": {
    "collapsed": false,
    "scrolled": true
   },
   "outputs": [
    {
     "data": {
      "text/plain": [
       "Index([u'FIPS', u'Geographic Identifier', u'Qualifying Name', u'Households',\n",
       "       u'Households: With An Internet Subscription',\n",
       "       u'Households: Dial-Up Alone', u'Households: Dsl',\n",
       "       u'Households: With Mobile Broadband',\n",
       "       u'Households: Without Mobile Broadband', u'Households: Cable Modem',\n",
       "       u'Households: With Mobile Broadband.1',\n",
       "       u'Households: Without Mobile Broadband.1', u'Households: Fiber-Optic',\n",
       "       u'Households: With Mobile Broadband.2',\n",
       "       u'Households: Without Mobile Broadband.2',\n",
       "       u'Households: Satellite Internet Service',\n",
       "       u'Households: With Mobile Broadband.3',\n",
       "       u'Households: Without Mobile Broadband.3',\n",
       "       u'Households: Two or More Fixed Broadband Types, or Other',\n",
       "       u'Households: With Mobile Broadband.4',\n",
       "       u'Households: Without Mobile Broadband.4',\n",
       "       u'Households: Mobile Broadband Alone or With Dialup',\n",
       "       u'Households: Internet Access Without A Subscription',\n",
       "       u'Households: No Internet Access',\n",
       "       u'% Households: With An Internet Subscription', u'Households.1',\n",
       "       u'Households: Has A Computer',\n",
       "       u'Households: With Dial-Up Internet Subscription Alone',\n",
       "       u'Households: With A Broadband Internet Subscription',\n",
       "       u'Households: Without An Internet Subscription',\n",
       "       u'Households: No Computer'],\n",
       "      dtype='object')"
      ]
     },
     "execution_count": 256,
     "metadata": {},
     "output_type": "execute_result"
    }
   ],
   "source": [
    "# Check variables in file\n",
    "internet.columns"
   ]
  },
  {
   "cell_type": "markdown",
   "metadata": {},
   "source": [
    "* According to the Bronx Community District websites, Hunts Point is in Bronx CD2 so I am considering 'NYC-Bronx Community District 1 & 2--Hunts Point, New York' as BX02 upon merge. http://bronxmall.com/commboards/cd2.html\n",
    "* According to the Bronx CD website, Belmont is in CD6 so I am considering 'NYC-Bronx Community District 3 & 6--Belmont, New York' as BX06 upon merge. http://bronxmall.com/commboards/cd6.html\n",
    "* According to the Manhattan CD website, Chelsea is located in CD4 so I will consider 'NYC-Manhattan Community District 4 & 5--Chelsea, New York' as MN04 upon merge. http://www.nyc.gov/html/cau/html/cb/manhattan.shtml\n",
    "* According to the Manhattan CD website, Battery Park is a part of CD1 so I will consider 'NYC-Manhattan Community District 1 & 2--Battery Park City, New York' as MN01. http://www.nyc.gov/html/cau/html/cb/manhattan.shtml"
   ]
  },
  {
   "cell_type": "code",
   "execution_count": 257,
   "metadata": {
    "collapsed": false,
    "scrolled": false
   },
   "outputs": [],
   "source": [
    "internet = internet.replace(['NYC-Bronx Community District 8--Riverdale, New York',\n",
    "       'NYC-Bronx Community District 12--Wakefield, New York',\n",
    "       'NYC-Bronx Community District 10--Co-op City, New York',\n",
    "       'NYC-Bronx Community District 11--Pelham Parkway, New York',\n",
    "       'NYC-Bronx Community District 3 & 6--Belmont, New York',\n",
    "       'NYC-Bronx Community District 7--Bedford Park, New York',\n",
    "       'NYC-Bronx Community District 5--Morris Heights, New York',\n",
    "       'NYC-Bronx Community District 4--Concourse, New York',\n",
    "       'NYC-Bronx Community District 9--Castle Hill, New York',\n",
    "       'NYC-Bronx Community District 1 & 2--Hunts Point, New York',\n",
    "       'NYC-Manhattan Community District 12--Washington Heights, New York',\n",
    "       'NYC-Manhattan Community District 9--Hamilton Heights, New York',\n",
    "       'NYC-Manhattan Community District 10--Central Harlem PUMA, New York',\n",
    "       'NYC-Manhattan Community District 11--East Harlem PUMA, New York',\n",
    "       'NYC-Manhattan Community District 8--Upper East Side PUMA, New York',\n",
    "       'NYC-Manhattan Community District 7--Upper West Side & West Side PUMA, New York',\n",
    "       'NYC-Manhattan Community District 4 & 5--Chelsea, New York',\n",
    "       'NYC-Manhattan Community District 6--Murray Hill, New York',\n",
    "       'NYC-Manhattan Community District 3--Chinatown & Lower East Side PUMA, New York',\n",
    "       'NYC-Manhattan Community District 1 & 2--Battery Park City, New York',\n",
    "       'NYC-Staten Island Community District 3--Tottenville, New York',\n",
    "       'NYC-Staten Island Community District 2--New Springville & South Beach PUMA, New York',\n",
    "       'NYC-Staten Island Community District 1--Port Richmond, New York',\n",
    "       'NYC-Brooklyn Community District 1--Greenpoint & Williamsburg PUMA, New York',\n",
    "       'NYC-Brooklyn Community District 4--Bushwick PUMA, New York',\n",
    "       'NYC-Brooklyn Community District 3--Bedford-Stuyvesant PUMA, New York',\n",
    "       'NYC-Brooklyn Community District 2--Brooklyn Heights & Fort Greene PUMA, New York',\n",
    "       'NYC-Brooklyn Community District 6--Park Slope, New York',\n",
    "       'NYC-Brooklyn Community District 8--Crown Heights North & Prospect Heights PUMA, New York',\n",
    "       'NYC-Brooklyn Community District 16--Brownsville & Ocean Hill PUMA, New York',\n",
    "       'NYC-Brooklyn Community District 5--East New York & Starrett City PUMA, New York',\n",
    "       'NYC-Brooklyn Community District 18--Canarsie & Flatlands PUMA, New York',\n",
    "       'NYC-Brooklyn Community District 17--East Flatbush, New York',\n",
    "       'NYC-Brooklyn Community District 9--Crown Heights South, New York',\n",
    "       'NYC-Brooklyn Community District 7--Sunset Park & Windsor Terrace PUMA, New York',\n",
    "       'NYC-Brooklyn Community District 10--Bay Ridge & Dyker Heights PUMA, New York',\n",
    "       'NYC-Brooklyn Community District 12--Borough Park, New York',\n",
    "       'NYC-Brooklyn Community District 14--Flatbush & Midwood PUMA, New York',\n",
    "       'NYC-Brooklyn Community District 15--Sheepshead Bay, New York',\n",
    "       'NYC-Brooklyn Community District 11--Bensonhurst & Bath Beach PUMA, New York',\n",
    "       'NYC-Brooklyn Community District 13--Brighton Beach & Coney Island PUMA, New York',\n",
    "       'NYC-Queens Community District 1--Astoria & Long Island City PUMA, New York',\n",
    "       'NYC-Queens Community District 3--Jackson Heights & North Corona PUMA, New York',\n",
    "       'NYC-Queens Community District 7--Flushing, New York',\n",
    "       'NYC-Queens Community District 11--Bayside, New York',\n",
    "       'NYC-Queens Community District 13--Queens Village, New York',\n",
    "       'NYC-Queens Community District 8--Briarwood, New York',\n",
    "       'NYC-Queens Community District 4--Elmhurst & South Corona PUMA, New York',\n",
    "       'NYC-Queens Community District 6--Forest Hills & Rego Park PUMA, New York',\n",
    "       'NYC-Queens Community District 2--Sunnyside & Woodside PUMA, New York',\n",
    "       'NYC-Queens Community District 5--Ridgewood, New York',\n",
    "       'NYC-Queens Community District 9--Richmond Hill & Woodhaven PUMA, New York',\n",
    "       'NYC-Queens Community District 12--Jamaica, New York',\n",
    "       'NYC-Queens Community District 10--Howard Beach & Ozone Park PUMA, New York',\n",
    "       'NYC-Queens Community District 14--Far Rockaway, New York'], ['BX08', 'BX12', 'BX10', 'BX11', 'BX06', 'BX07', 'BX05', 'BX04', 'BX09', 'BX02',\n",
    "'MN12', 'MN09', 'MN10', 'MN11', 'MN08', 'MN07', 'MN04', 'MN06', 'MN03', 'MN01',\n",
    "'SI03', 'SI02', 'SI01', 'BK01', 'BK04', 'BK03', 'BK02', 'BK06', 'BK08', 'BK16', 'BK05', 'BK18',\n",
    "'BK17', 'BK09', 'BK07', 'BK10', 'BK12', 'BK14', 'BK15', 'BK11', 'BK13', 'QN01', 'QN03', 'QN07',\n",
    "'QN11', 'QN13', 'QN08', 'QN04', 'QN06', 'QN02', 'QN05', 'QN09', 'QN12', 'QN10', 'QN14'])"
   ]
  },
  {
   "cell_type": "code",
   "execution_count": 258,
   "metadata": {
    "collapsed": true
   },
   "outputs": [],
   "source": [
    "internet = internet.rename(columns={'Qualifying Name': 'Community Board Name'})"
   ]
  },
  {
   "cell_type": "code",
   "execution_count": 259,
   "metadata": {
    "collapsed": false
   },
   "outputs": [
    {
     "data": {
      "text/html": [
       "<div>\n",
       "<table border=\"1\" class=\"dataframe\">\n",
       "  <thead>\n",
       "    <tr style=\"text-align: right;\">\n",
       "      <th></th>\n",
       "      <th>FIPS</th>\n",
       "      <th>Geographic Identifier</th>\n",
       "      <th>Community Board Name</th>\n",
       "      <th>Households</th>\n",
       "      <th>Households: With An Internet Subscription</th>\n",
       "      <th>Households: Dial-Up Alone</th>\n",
       "      <th>Households: Dsl</th>\n",
       "      <th>Households: With Mobile Broadband</th>\n",
       "      <th>Households: Without Mobile Broadband</th>\n",
       "      <th>Households: Cable Modem</th>\n",
       "      <th>...</th>\n",
       "      <th>Households: Mobile Broadband Alone or With Dialup</th>\n",
       "      <th>Households: Internet Access Without A Subscription</th>\n",
       "      <th>Households: No Internet Access</th>\n",
       "      <th>% Households: With An Internet Subscription</th>\n",
       "      <th>Households.1</th>\n",
       "      <th>Households: Has A Computer</th>\n",
       "      <th>Households: With Dial-Up Internet Subscription Alone</th>\n",
       "      <th>Households: With A Broadband Internet Subscription</th>\n",
       "      <th>Households: Without An Internet Subscription</th>\n",
       "      <th>Households: No Computer</th>\n",
       "    </tr>\n",
       "  </thead>\n",
       "  <tbody>\n",
       "    <tr>\n",
       "      <th>0</th>\n",
       "      <td>3603701</td>\n",
       "      <td>79500US3603701</td>\n",
       "      <td>BX08</td>\n",
       "      <td>42035</td>\n",
       "      <td>31795</td>\n",
       "      <td>444</td>\n",
       "      <td>2813</td>\n",
       "      <td>946</td>\n",
       "      <td>1867</td>\n",
       "      <td>19178</td>\n",
       "      <td>...</td>\n",
       "      <td>2168</td>\n",
       "      <td>2119</td>\n",
       "      <td>8121</td>\n",
       "      <td>75.64</td>\n",
       "      <td>42035</td>\n",
       "      <td>35048</td>\n",
       "      <td>404</td>\n",
       "      <td>30943</td>\n",
       "      <td>3701</td>\n",
       "      <td>6987</td>\n",
       "    </tr>\n",
       "    <tr>\n",
       "      <th>1</th>\n",
       "      <td>3603702</td>\n",
       "      <td>79500US3603702</td>\n",
       "      <td>BX12</td>\n",
       "      <td>44830</td>\n",
       "      <td>32243</td>\n",
       "      <td>178</td>\n",
       "      <td>849</td>\n",
       "      <td>405</td>\n",
       "      <td>444</td>\n",
       "      <td>18653</td>\n",
       "      <td>...</td>\n",
       "      <td>928</td>\n",
       "      <td>1891</td>\n",
       "      <td>10696</td>\n",
       "      <td>71.92</td>\n",
       "      <td>44830</td>\n",
       "      <td>36700</td>\n",
       "      <td>178</td>\n",
       "      <td>31435</td>\n",
       "      <td>5087</td>\n",
       "      <td>8130</td>\n",
       "    </tr>\n",
       "    <tr>\n",
       "      <th>2</th>\n",
       "      <td>3603703</td>\n",
       "      <td>79500US3603703</td>\n",
       "      <td>BX10</td>\n",
       "      <td>47050</td>\n",
       "      <td>32729</td>\n",
       "      <td>158</td>\n",
       "      <td>1863</td>\n",
       "      <td>398</td>\n",
       "      <td>1465</td>\n",
       "      <td>20044</td>\n",
       "      <td>...</td>\n",
       "      <td>639</td>\n",
       "      <td>2882</td>\n",
       "      <td>11439</td>\n",
       "      <td>69.56</td>\n",
       "      <td>47050</td>\n",
       "      <td>38700</td>\n",
       "      <td>158</td>\n",
       "      <td>32333</td>\n",
       "      <td>6209</td>\n",
       "      <td>8350</td>\n",
       "    </tr>\n",
       "    <tr>\n",
       "      <th>3</th>\n",
       "      <td>3603704</td>\n",
       "      <td>79500US3603704</td>\n",
       "      <td>BX11</td>\n",
       "      <td>44922</td>\n",
       "      <td>32003</td>\n",
       "      <td>141</td>\n",
       "      <td>1478</td>\n",
       "      <td>474</td>\n",
       "      <td>1004</td>\n",
       "      <td>17917</td>\n",
       "      <td>...</td>\n",
       "      <td>1001</td>\n",
       "      <td>2722</td>\n",
       "      <td>10197</td>\n",
       "      <td>71.24</td>\n",
       "      <td>44922</td>\n",
       "      <td>37237</td>\n",
       "      <td>122</td>\n",
       "      <td>31278</td>\n",
       "      <td>5837</td>\n",
       "      <td>7685</td>\n",
       "    </tr>\n",
       "    <tr>\n",
       "      <th>4</th>\n",
       "      <td>3603705</td>\n",
       "      <td>79500US3603705</td>\n",
       "      <td>BX06</td>\n",
       "      <td>57556</td>\n",
       "      <td>35503</td>\n",
       "      <td>88</td>\n",
       "      <td>1297</td>\n",
       "      <td>651</td>\n",
       "      <td>646</td>\n",
       "      <td>15847</td>\n",
       "      <td>...</td>\n",
       "      <td>1385</td>\n",
       "      <td>3312</td>\n",
       "      <td>18741</td>\n",
       "      <td>61.68</td>\n",
       "      <td>57556</td>\n",
       "      <td>42576</td>\n",
       "      <td>88</td>\n",
       "      <td>33408</td>\n",
       "      <td>9080</td>\n",
       "      <td>14980</td>\n",
       "    </tr>\n",
       "  </tbody>\n",
       "</table>\n",
       "<p>5 rows × 31 columns</p>\n",
       "</div>"
      ],
      "text/plain": [
       "      FIPS Geographic Identifier Community Board Name  Households  \\\n",
       "0  3603701        79500US3603701                 BX08       42035   \n",
       "1  3603702        79500US3603702                 BX12       44830   \n",
       "2  3603703        79500US3603703                 BX10       47050   \n",
       "3  3603704        79500US3603704                 BX11       44922   \n",
       "4  3603705        79500US3603705                 BX06       57556   \n",
       "\n",
       "   Households: With An Internet Subscription  Households: Dial-Up Alone  \\\n",
       "0                                      31795                        444   \n",
       "1                                      32243                        178   \n",
       "2                                      32729                        158   \n",
       "3                                      32003                        141   \n",
       "4                                      35503                         88   \n",
       "\n",
       "   Households: Dsl  Households: With Mobile Broadband  \\\n",
       "0             2813                                946   \n",
       "1              849                                405   \n",
       "2             1863                                398   \n",
       "3             1478                                474   \n",
       "4             1297                                651   \n",
       "\n",
       "   Households: Without Mobile Broadband  Households: Cable Modem  \\\n",
       "0                                  1867                    19178   \n",
       "1                                   444                    18653   \n",
       "2                                  1465                    20044   \n",
       "3                                  1004                    17917   \n",
       "4                                   646                    15847   \n",
       "\n",
       "            ...             Households: Mobile Broadband Alone or With Dialup  \\\n",
       "0           ...                                                          2168   \n",
       "1           ...                                                           928   \n",
       "2           ...                                                           639   \n",
       "3           ...                                                          1001   \n",
       "4           ...                                                          1385   \n",
       "\n",
       "   Households: Internet Access Without A Subscription  \\\n",
       "0                                               2119    \n",
       "1                                               1891    \n",
       "2                                               2882    \n",
       "3                                               2722    \n",
       "4                                               3312    \n",
       "\n",
       "   Households: No Internet Access  \\\n",
       "0                            8121   \n",
       "1                           10696   \n",
       "2                           11439   \n",
       "3                           10197   \n",
       "4                           18741   \n",
       "\n",
       "   % Households: With An Internet Subscription  Households.1  \\\n",
       "0                                        75.64         42035   \n",
       "1                                        71.92         44830   \n",
       "2                                        69.56         47050   \n",
       "3                                        71.24         44922   \n",
       "4                                        61.68         57556   \n",
       "\n",
       "   Households: Has A Computer  \\\n",
       "0                       35048   \n",
       "1                       36700   \n",
       "2                       38700   \n",
       "3                       37237   \n",
       "4                       42576   \n",
       "\n",
       "   Households: With Dial-Up Internet Subscription Alone  \\\n",
       "0                                                404      \n",
       "1                                                178      \n",
       "2                                                158      \n",
       "3                                                122      \n",
       "4                                                 88      \n",
       "\n",
       "   Households: With A Broadband Internet Subscription  \\\n",
       "0                                              30943    \n",
       "1                                              31435    \n",
       "2                                              32333    \n",
       "3                                              31278    \n",
       "4                                              33408    \n",
       "\n",
       "   Households: Without An Internet Subscription  Households: No Computer  \n",
       "0                                          3701                     6987  \n",
       "1                                          5087                     8130  \n",
       "2                                          6209                     8350  \n",
       "3                                          5837                     7685  \n",
       "4                                          9080                    14980  \n",
       "\n",
       "[5 rows x 31 columns]"
      ]
     },
     "execution_count": 259,
     "metadata": {},
     "output_type": "execute_result"
    }
   ],
   "source": [
    "internet.head()"
   ]
  },
  {
   "cell_type": "code",
   "execution_count": 260,
   "metadata": {
    "collapsed": false
   },
   "outputs": [
    {
     "name": "stdout",
     "output_type": "stream",
     "text": [
      "55\n"
     ]
    }
   ],
   "source": [
    "# How many community districts are in file? \n",
    "internet['Community Board Name'].drop_duplicates().as_matrix()\n",
    "print(len(internet['Community Board Name'].drop_duplicates().as_matrix()))"
   ]
  },
  {
   "cell_type": "code",
   "execution_count": 261,
   "metadata": {
    "collapsed": true
   },
   "outputs": [],
   "source": [
    "# Manipulate data to get some information on demographics by Community District. \n",
    "# Think about who might be more likely to call 311"
   ]
  },
  {
   "cell_type": "code",
   "execution_count": 262,
   "metadata": {
    "collapsed": true
   },
   "outputs": [],
   "source": [
    "# Aggregate the mobile subscription data\n",
    "# http://factfinder.census.gov/faces/tableservices/jsf/pages/productview.xhtml?src=bkmk\n",
    "with_mobile = internet.iloc[:,[2, 7, 10, 13, 16, 19, 21]]"
   ]
  },
  {
   "cell_type": "code",
   "execution_count": 263,
   "metadata": {
    "collapsed": false
   },
   "outputs": [
    {
     "data": {
      "text/plain": [
       "Index([u'Community Board Name', u'Households: With Mobile Broadband',\n",
       "       u'Households: With Mobile Broadband.1',\n",
       "       u'Households: With Mobile Broadband.2',\n",
       "       u'Households: With Mobile Broadband.3',\n",
       "       u'Households: With Mobile Broadband.4',\n",
       "       u'Households: Mobile Broadband Alone or With Dialup'],\n",
       "      dtype='object')"
      ]
     },
     "execution_count": 263,
     "metadata": {},
     "output_type": "execute_result"
    }
   ],
   "source": [
    "with_mobile.columns"
   ]
  },
  {
   "cell_type": "code",
   "execution_count": 264,
   "metadata": {
    "collapsed": false
   },
   "outputs": [
    {
     "name": "stderr",
     "output_type": "stream",
     "text": [
      "/anaconda/lib/python2.7/site-packages/ipykernel/__main__.py:1: SettingWithCopyWarning: \n",
      "A value is trying to be set on a copy of a slice from a DataFrame.\n",
      "Try using .loc[row_indexer,col_indexer] = value instead\n",
      "\n",
      "See the caveats in the documentation: http://pandas.pydata.org/pandas-docs/stable/indexing.html#indexing-view-versus-copy\n",
      "  if __name__ == '__main__':\n"
     ]
    }
   ],
   "source": [
    "with_mobile['Households With Mobile Broadband'] = with_mobile.sum(axis=1)"
   ]
  },
  {
   "cell_type": "code",
   "execution_count": 265,
   "metadata": {
    "collapsed": false
   },
   "outputs": [
    {
     "data": {
      "text/html": [
       "<div>\n",
       "<table border=\"1\" class=\"dataframe\">\n",
       "  <thead>\n",
       "    <tr style=\"text-align: right;\">\n",
       "      <th></th>\n",
       "      <th>Community Board Name</th>\n",
       "      <th>Households: With Mobile Broadband</th>\n",
       "      <th>Households: With Mobile Broadband.1</th>\n",
       "      <th>Households: With Mobile Broadband.2</th>\n",
       "      <th>Households: With Mobile Broadband.3</th>\n",
       "      <th>Households: With Mobile Broadband.4</th>\n",
       "      <th>Households: Mobile Broadband Alone or With Dialup</th>\n",
       "      <th>Households With Mobile Broadband</th>\n",
       "    </tr>\n",
       "  </thead>\n",
       "  <tbody>\n",
       "    <tr>\n",
       "      <th>0</th>\n",
       "      <td>BX08</td>\n",
       "      <td>946</td>\n",
       "      <td>10433</td>\n",
       "      <td>433</td>\n",
       "      <td>37</td>\n",
       "      <td>3510</td>\n",
       "      <td>2168</td>\n",
       "      <td>17527</td>\n",
       "    </tr>\n",
       "    <tr>\n",
       "      <th>1</th>\n",
       "      <td>BX12</td>\n",
       "      <td>405</td>\n",
       "      <td>5577</td>\n",
       "      <td>2358</td>\n",
       "      <td>0</td>\n",
       "      <td>2146</td>\n",
       "      <td>928</td>\n",
       "      <td>11414</td>\n",
       "    </tr>\n",
       "    <tr>\n",
       "      <th>2</th>\n",
       "      <td>BX10</td>\n",
       "      <td>398</td>\n",
       "      <td>6377</td>\n",
       "      <td>1200</td>\n",
       "      <td>0</td>\n",
       "      <td>3450</td>\n",
       "      <td>639</td>\n",
       "      <td>12064</td>\n",
       "    </tr>\n",
       "    <tr>\n",
       "      <th>3</th>\n",
       "      <td>BX11</td>\n",
       "      <td>474</td>\n",
       "      <td>5624</td>\n",
       "      <td>2272</td>\n",
       "      <td>241</td>\n",
       "      <td>2137</td>\n",
       "      <td>1001</td>\n",
       "      <td>11749</td>\n",
       "    </tr>\n",
       "    <tr>\n",
       "      <th>4</th>\n",
       "      <td>BX06</td>\n",
       "      <td>651</td>\n",
       "      <td>6690</td>\n",
       "      <td>695</td>\n",
       "      <td>111</td>\n",
       "      <td>6760</td>\n",
       "      <td>1385</td>\n",
       "      <td>16292</td>\n",
       "    </tr>\n",
       "  </tbody>\n",
       "</table>\n",
       "</div>"
      ],
      "text/plain": [
       "  Community Board Name  Households: With Mobile Broadband  \\\n",
       "0                 BX08                                946   \n",
       "1                 BX12                                405   \n",
       "2                 BX10                                398   \n",
       "3                 BX11                                474   \n",
       "4                 BX06                                651   \n",
       "\n",
       "   Households: With Mobile Broadband.1  Households: With Mobile Broadband.2  \\\n",
       "0                                10433                                  433   \n",
       "1                                 5577                                 2358   \n",
       "2                                 6377                                 1200   \n",
       "3                                 5624                                 2272   \n",
       "4                                 6690                                  695   \n",
       "\n",
       "   Households: With Mobile Broadband.3  Households: With Mobile Broadband.4  \\\n",
       "0                                   37                                 3510   \n",
       "1                                    0                                 2146   \n",
       "2                                    0                                 3450   \n",
       "3                                  241                                 2137   \n",
       "4                                  111                                 6760   \n",
       "\n",
       "   Households: Mobile Broadband Alone or With Dialup  \\\n",
       "0                                               2168   \n",
       "1                                                928   \n",
       "2                                                639   \n",
       "3                                               1001   \n",
       "4                                               1385   \n",
       "\n",
       "   Households With Mobile Broadband  \n",
       "0                             17527  \n",
       "1                             11414  \n",
       "2                             12064  \n",
       "3                             11749  \n",
       "4                             16292  "
      ]
     },
     "execution_count": 265,
     "metadata": {},
     "output_type": "execute_result"
    }
   ],
   "source": [
    "with_mobile.head()\n",
    "# Households: With Mobile Broadband = DSL connection\n",
    "# Households: With Mobile Broadband.1 = cable modem\n",
    "# Households: With Mobile Broadband.2 = fiber-optic\n",
    "# Households: With Mobile Broadband.3 = satellite with internet\n",
    "# Households: With Mobile Broadband.4 = two or more fixed broadband types, or other"
   ]
  },
  {
   "cell_type": "code",
   "execution_count": 266,
   "metadata": {
    "collapsed": false
   },
   "outputs": [
    {
     "name": "stdout",
     "output_type": "stream",
     "text": [
      "59\n"
     ]
    }
   ],
   "source": [
    "print(len(with_mobile))"
   ]
  },
  {
   "cell_type": "code",
   "execution_count": 267,
   "metadata": {
    "collapsed": true
   },
   "outputs": [],
   "source": [
    "without_mobile =  internet.iloc[:,[2, 8, 11, 14, 17, 20, 22]]"
   ]
  },
  {
   "cell_type": "code",
   "execution_count": 268,
   "metadata": {
    "collapsed": false
   },
   "outputs": [
    {
     "name": "stderr",
     "output_type": "stream",
     "text": [
      "/anaconda/lib/python2.7/site-packages/ipykernel/__main__.py:1: SettingWithCopyWarning: \n",
      "A value is trying to be set on a copy of a slice from a DataFrame.\n",
      "Try using .loc[row_indexer,col_indexer] = value instead\n",
      "\n",
      "See the caveats in the documentation: http://pandas.pydata.org/pandas-docs/stable/indexing.html#indexing-view-versus-copy\n",
      "  if __name__ == '__main__':\n"
     ]
    }
   ],
   "source": [
    "without_mobile['Households Without Mobile Broadband'] = without_mobile.sum(axis=1)"
   ]
  },
  {
   "cell_type": "code",
   "execution_count": 269,
   "metadata": {
    "collapsed": false
   },
   "outputs": [
    {
     "data": {
      "text/html": [
       "<div>\n",
       "<table border=\"1\" class=\"dataframe\">\n",
       "  <thead>\n",
       "    <tr style=\"text-align: right;\">\n",
       "      <th></th>\n",
       "      <th>Community Board Name</th>\n",
       "      <th>Households: Without Mobile Broadband</th>\n",
       "      <th>Households: Without Mobile Broadband.1</th>\n",
       "      <th>Households: Without Mobile Broadband.2</th>\n",
       "      <th>Households: Without Mobile Broadband.3</th>\n",
       "      <th>Households: Without Mobile Broadband.4</th>\n",
       "      <th>Households: Internet Access Without A Subscription</th>\n",
       "      <th>Households Without Mobile Broadband</th>\n",
       "    </tr>\n",
       "  </thead>\n",
       "  <tbody>\n",
       "    <tr>\n",
       "      <th>0</th>\n",
       "      <td>BX08</td>\n",
       "      <td>1867</td>\n",
       "      <td>8745</td>\n",
       "      <td>506</td>\n",
       "      <td>38</td>\n",
       "      <td>2668</td>\n",
       "      <td>2119</td>\n",
       "      <td>15943</td>\n",
       "    </tr>\n",
       "    <tr>\n",
       "      <th>1</th>\n",
       "      <td>BX12</td>\n",
       "      <td>444</td>\n",
       "      <td>13076</td>\n",
       "      <td>3858</td>\n",
       "      <td>131</td>\n",
       "      <td>3142</td>\n",
       "      <td>1891</td>\n",
       "      <td>22542</td>\n",
       "    </tr>\n",
       "    <tr>\n",
       "      <th>2</th>\n",
       "      <td>BX10</td>\n",
       "      <td>1465</td>\n",
       "      <td>13667</td>\n",
       "      <td>2290</td>\n",
       "      <td>0</td>\n",
       "      <td>3085</td>\n",
       "      <td>2882</td>\n",
       "      <td>23389</td>\n",
       "    </tr>\n",
       "    <tr>\n",
       "      <th>3</th>\n",
       "      <td>BX11</td>\n",
       "      <td>1004</td>\n",
       "      <td>12293</td>\n",
       "      <td>3163</td>\n",
       "      <td>67</td>\n",
       "      <td>3586</td>\n",
       "      <td>2722</td>\n",
       "      <td>22835</td>\n",
       "    </tr>\n",
       "    <tr>\n",
       "      <th>4</th>\n",
       "      <td>BX06</td>\n",
       "      <td>646</td>\n",
       "      <td>9157</td>\n",
       "      <td>815</td>\n",
       "      <td>83</td>\n",
       "      <td>8422</td>\n",
       "      <td>3312</td>\n",
       "      <td>22435</td>\n",
       "    </tr>\n",
       "  </tbody>\n",
       "</table>\n",
       "</div>"
      ],
      "text/plain": [
       "  Community Board Name  Households: Without Mobile Broadband  \\\n",
       "0                 BX08                                  1867   \n",
       "1                 BX12                                   444   \n",
       "2                 BX10                                  1465   \n",
       "3                 BX11                                  1004   \n",
       "4                 BX06                                   646   \n",
       "\n",
       "   Households: Without Mobile Broadband.1  \\\n",
       "0                                    8745   \n",
       "1                                   13076   \n",
       "2                                   13667   \n",
       "3                                   12293   \n",
       "4                                    9157   \n",
       "\n",
       "   Households: Without Mobile Broadband.2  \\\n",
       "0                                     506   \n",
       "1                                    3858   \n",
       "2                                    2290   \n",
       "3                                    3163   \n",
       "4                                     815   \n",
       "\n",
       "   Households: Without Mobile Broadband.3  \\\n",
       "0                                      38   \n",
       "1                                     131   \n",
       "2                                       0   \n",
       "3                                      67   \n",
       "4                                      83   \n",
       "\n",
       "   Households: Without Mobile Broadband.4  \\\n",
       "0                                    2668   \n",
       "1                                    3142   \n",
       "2                                    3085   \n",
       "3                                    3586   \n",
       "4                                    8422   \n",
       "\n",
       "   Households: Internet Access Without A Subscription  \\\n",
       "0                                               2119    \n",
       "1                                               1891    \n",
       "2                                               2882    \n",
       "3                                               2722    \n",
       "4                                               3312    \n",
       "\n",
       "   Households Without Mobile Broadband  \n",
       "0                                15943  \n",
       "1                                22542  \n",
       "2                                23389  \n",
       "3                                22835  \n",
       "4                                22435  "
      ]
     },
     "execution_count": 269,
     "metadata": {},
     "output_type": "execute_result"
    }
   ],
   "source": [
    "without_mobile.head()"
   ]
  },
  {
   "cell_type": "code",
   "execution_count": 270,
   "metadata": {
    "collapsed": false
   },
   "outputs": [
    {
     "name": "stdout",
     "output_type": "stream",
     "text": [
      "59\n"
     ]
    }
   ],
   "source": [
    "print(len(without_mobile))"
   ]
  },
  {
   "cell_type": "code",
   "execution_count": 271,
   "metadata": {
    "collapsed": false
   },
   "outputs": [],
   "source": [
    "mobile = pd.concat([with_mobile, without_mobile], axis=1)"
   ]
  },
  {
   "cell_type": "code",
   "execution_count": 272,
   "metadata": {
    "collapsed": false
   },
   "outputs": [],
   "source": [
    "mobile = mobile.iloc[:,[0, 7, 15]]"
   ]
  },
  {
   "cell_type": "code",
   "execution_count": 273,
   "metadata": {
    "collapsed": false
   },
   "outputs": [
    {
     "data": {
      "text/html": [
       "<div>\n",
       "<table border=\"1\" class=\"dataframe\">\n",
       "  <thead>\n",
       "    <tr style=\"text-align: right;\">\n",
       "      <th></th>\n",
       "      <th>Community Board Name</th>\n",
       "      <th>Households With Mobile Broadband</th>\n",
       "      <th>Households Without Mobile Broadband</th>\n",
       "    </tr>\n",
       "  </thead>\n",
       "  <tbody>\n",
       "    <tr>\n",
       "      <th>0</th>\n",
       "      <td>BX08</td>\n",
       "      <td>17527</td>\n",
       "      <td>15943</td>\n",
       "    </tr>\n",
       "    <tr>\n",
       "      <th>1</th>\n",
       "      <td>BX12</td>\n",
       "      <td>11414</td>\n",
       "      <td>22542</td>\n",
       "    </tr>\n",
       "    <tr>\n",
       "      <th>2</th>\n",
       "      <td>BX10</td>\n",
       "      <td>12064</td>\n",
       "      <td>23389</td>\n",
       "    </tr>\n",
       "    <tr>\n",
       "      <th>3</th>\n",
       "      <td>BX11</td>\n",
       "      <td>11749</td>\n",
       "      <td>22835</td>\n",
       "    </tr>\n",
       "    <tr>\n",
       "      <th>4</th>\n",
       "      <td>BX06</td>\n",
       "      <td>16292</td>\n",
       "      <td>22435</td>\n",
       "    </tr>\n",
       "  </tbody>\n",
       "</table>\n",
       "</div>"
      ],
      "text/plain": [
       "  Community Board Name  Households With Mobile Broadband  \\\n",
       "0                 BX08                             17527   \n",
       "1                 BX12                             11414   \n",
       "2                 BX10                             12064   \n",
       "3                 BX11                             11749   \n",
       "4                 BX06                             16292   \n",
       "\n",
       "   Households Without Mobile Broadband  \n",
       "0                                15943  \n",
       "1                                22542  \n",
       "2                                23389  \n",
       "3                                22835  \n",
       "4                                22435  "
      ]
     },
     "execution_count": 273,
     "metadata": {},
     "output_type": "execute_result"
    }
   ],
   "source": [
    "mobile.head()"
   ]
  },
  {
   "cell_type": "code",
   "execution_count": 274,
   "metadata": {
    "collapsed": false
   },
   "outputs": [
    {
     "name": "stdout",
     "output_type": "stream",
     "text": [
      "59\n"
     ]
    }
   ],
   "source": [
    "print(len(mobile))"
   ]
  },
  {
   "cell_type": "code",
   "execution_count": 275,
   "metadata": {
    "collapsed": true
   },
   "outputs": [],
   "source": [
    "# Aggregate internet type by high and low connections\n",
    "# high: dsl, cable modem, fiber optic, Two or More Fixed Broadband Types/ or Other\n",
    "# low: dial up, satellite internet service, mobile broadband"
   ]
  },
  {
   "cell_type": "code",
   "execution_count": 276,
   "metadata": {
    "collapsed": false
   },
   "outputs": [
    {
     "name": "stderr",
     "output_type": "stream",
     "text": [
      "/anaconda/lib/python2.7/site-packages/ipykernel/__main__.py:2: SettingWithCopyWarning: \n",
      "A value is trying to be set on a copy of a slice from a DataFrame.\n",
      "Try using .loc[row_indexer,col_indexer] = value instead\n",
      "\n",
      "See the caveats in the documentation: http://pandas.pydata.org/pandas-docs/stable/indexing.html#indexing-view-versus-copy\n",
      "  from ipykernel import kernelapp as app\n"
     ]
    }
   ],
   "source": [
    "hsconn =  internet.iloc[:,[2, 6, 9, 12]]\n",
    "hsconn['Households With High Speed Internet'] = hsconn.sum(axis=1)"
   ]
  },
  {
   "cell_type": "code",
   "execution_count": 277,
   "metadata": {
    "collapsed": false
   },
   "outputs": [
    {
     "data": {
      "text/html": [
       "<div>\n",
       "<table border=\"1\" class=\"dataframe\">\n",
       "  <thead>\n",
       "    <tr style=\"text-align: right;\">\n",
       "      <th></th>\n",
       "      <th>Community Board Name</th>\n",
       "      <th>Households: Dsl</th>\n",
       "      <th>Households: Cable Modem</th>\n",
       "      <th>Households: Fiber-Optic</th>\n",
       "      <th>Households With High Speed Internet</th>\n",
       "    </tr>\n",
       "  </thead>\n",
       "  <tbody>\n",
       "    <tr>\n",
       "      <th>0</th>\n",
       "      <td>BX08</td>\n",
       "      <td>2813</td>\n",
       "      <td>19178</td>\n",
       "      <td>939</td>\n",
       "      <td>22930</td>\n",
       "    </tr>\n",
       "    <tr>\n",
       "      <th>1</th>\n",
       "      <td>BX12</td>\n",
       "      <td>849</td>\n",
       "      <td>18653</td>\n",
       "      <td>6216</td>\n",
       "      <td>25718</td>\n",
       "    </tr>\n",
       "    <tr>\n",
       "      <th>2</th>\n",
       "      <td>BX10</td>\n",
       "      <td>1863</td>\n",
       "      <td>20044</td>\n",
       "      <td>3490</td>\n",
       "      <td>25397</td>\n",
       "    </tr>\n",
       "    <tr>\n",
       "      <th>3</th>\n",
       "      <td>BX11</td>\n",
       "      <td>1478</td>\n",
       "      <td>17917</td>\n",
       "      <td>5435</td>\n",
       "      <td>24830</td>\n",
       "    </tr>\n",
       "    <tr>\n",
       "      <th>4</th>\n",
       "      <td>BX06</td>\n",
       "      <td>1297</td>\n",
       "      <td>15847</td>\n",
       "      <td>1510</td>\n",
       "      <td>18654</td>\n",
       "    </tr>\n",
       "  </tbody>\n",
       "</table>\n",
       "</div>"
      ],
      "text/plain": [
       "  Community Board Name  Households: Dsl  Households: Cable Modem  \\\n",
       "0                 BX08             2813                    19178   \n",
       "1                 BX12              849                    18653   \n",
       "2                 BX10             1863                    20044   \n",
       "3                 BX11             1478                    17917   \n",
       "4                 BX06             1297                    15847   \n",
       "\n",
       "   Households: Fiber-Optic  Households With High Speed Internet  \n",
       "0                      939                                22930  \n",
       "1                     6216                                25718  \n",
       "2                     3490                                25397  \n",
       "3                     5435                                24830  \n",
       "4                     1510                                18654  "
      ]
     },
     "execution_count": 277,
     "metadata": {},
     "output_type": "execute_result"
    }
   ],
   "source": [
    "hsconn.head()"
   ]
  },
  {
   "cell_type": "code",
   "execution_count": 278,
   "metadata": {
    "collapsed": false
   },
   "outputs": [
    {
     "name": "stderr",
     "output_type": "stream",
     "text": [
      "/anaconda/lib/python2.7/site-packages/ipykernel/__main__.py:2: SettingWithCopyWarning: \n",
      "A value is trying to be set on a copy of a slice from a DataFrame.\n",
      "Try using .loc[row_indexer,col_indexer] = value instead\n",
      "\n",
      "See the caveats in the documentation: http://pandas.pydata.org/pandas-docs/stable/indexing.html#indexing-view-versus-copy\n",
      "  from ipykernel import kernelapp as app\n"
     ]
    }
   ],
   "source": [
    "lsconn = internet.iloc[:, [2, 5, 15]]\n",
    "lsconn['Households With Low Speed Internet'] = lsconn.sum(axis=1)"
   ]
  },
  {
   "cell_type": "code",
   "execution_count": 279,
   "metadata": {
    "collapsed": false
   },
   "outputs": [
    {
     "data": {
      "text/html": [
       "<div>\n",
       "<table border=\"1\" class=\"dataframe\">\n",
       "  <thead>\n",
       "    <tr style=\"text-align: right;\">\n",
       "      <th></th>\n",
       "      <th>Community Board Name</th>\n",
       "      <th>Households: Dial-Up Alone</th>\n",
       "      <th>Households: Satellite Internet Service</th>\n",
       "      <th>Households With Low Speed Internet</th>\n",
       "    </tr>\n",
       "  </thead>\n",
       "  <tbody>\n",
       "    <tr>\n",
       "      <th>0</th>\n",
       "      <td>BX08</td>\n",
       "      <td>444</td>\n",
       "      <td>75</td>\n",
       "      <td>519</td>\n",
       "    </tr>\n",
       "    <tr>\n",
       "      <th>1</th>\n",
       "      <td>BX12</td>\n",
       "      <td>178</td>\n",
       "      <td>131</td>\n",
       "      <td>309</td>\n",
       "    </tr>\n",
       "    <tr>\n",
       "      <th>2</th>\n",
       "      <td>BX10</td>\n",
       "      <td>158</td>\n",
       "      <td>0</td>\n",
       "      <td>158</td>\n",
       "    </tr>\n",
       "    <tr>\n",
       "      <th>3</th>\n",
       "      <td>BX11</td>\n",
       "      <td>141</td>\n",
       "      <td>308</td>\n",
       "      <td>449</td>\n",
       "    </tr>\n",
       "    <tr>\n",
       "      <th>4</th>\n",
       "      <td>BX06</td>\n",
       "      <td>88</td>\n",
       "      <td>194</td>\n",
       "      <td>282</td>\n",
       "    </tr>\n",
       "  </tbody>\n",
       "</table>\n",
       "</div>"
      ],
      "text/plain": [
       "  Community Board Name  Households: Dial-Up Alone  \\\n",
       "0                 BX08                        444   \n",
       "1                 BX12                        178   \n",
       "2                 BX10                        158   \n",
       "3                 BX11                        141   \n",
       "4                 BX06                         88   \n",
       "\n",
       "   Households: Satellite Internet Service  Households With Low Speed Internet  \n",
       "0                                      75                                 519  \n",
       "1                                     131                                 309  \n",
       "2                                       0                                 158  \n",
       "3                                     308                                 449  \n",
       "4                                     194                                 282  "
      ]
     },
     "execution_count": 279,
     "metadata": {},
     "output_type": "execute_result"
    }
   ],
   "source": [
    "lsconn.head()"
   ]
  },
  {
   "cell_type": "code",
   "execution_count": 280,
   "metadata": {
    "collapsed": true
   },
   "outputs": [],
   "source": [
    "intconn = pd.concat([lsconn, hsconn], axis=1)\n",
    "intconn = intconn.iloc[:,[0,3, 8]]"
   ]
  },
  {
   "cell_type": "code",
   "execution_count": 281,
   "metadata": {
    "collapsed": false
   },
   "outputs": [
    {
     "data": {
      "text/html": [
       "<div>\n",
       "<table border=\"1\" class=\"dataframe\">\n",
       "  <thead>\n",
       "    <tr style=\"text-align: right;\">\n",
       "      <th></th>\n",
       "      <th>Community Board Name</th>\n",
       "      <th>Households With Low Speed Internet</th>\n",
       "      <th>Households With High Speed Internet</th>\n",
       "    </tr>\n",
       "  </thead>\n",
       "  <tbody>\n",
       "    <tr>\n",
       "      <th>0</th>\n",
       "      <td>BX08</td>\n",
       "      <td>519</td>\n",
       "      <td>22930</td>\n",
       "    </tr>\n",
       "    <tr>\n",
       "      <th>1</th>\n",
       "      <td>BX12</td>\n",
       "      <td>309</td>\n",
       "      <td>25718</td>\n",
       "    </tr>\n",
       "    <tr>\n",
       "      <th>2</th>\n",
       "      <td>BX10</td>\n",
       "      <td>158</td>\n",
       "      <td>25397</td>\n",
       "    </tr>\n",
       "    <tr>\n",
       "      <th>3</th>\n",
       "      <td>BX11</td>\n",
       "      <td>449</td>\n",
       "      <td>24830</td>\n",
       "    </tr>\n",
       "    <tr>\n",
       "      <th>4</th>\n",
       "      <td>BX06</td>\n",
       "      <td>282</td>\n",
       "      <td>18654</td>\n",
       "    </tr>\n",
       "  </tbody>\n",
       "</table>\n",
       "</div>"
      ],
      "text/plain": [
       "  Community Board Name  Households With Low Speed Internet  \\\n",
       "0                 BX08                                 519   \n",
       "1                 BX12                                 309   \n",
       "2                 BX10                                 158   \n",
       "3                 BX11                                 449   \n",
       "4                 BX06                                 282   \n",
       "\n",
       "   Households With High Speed Internet  \n",
       "0                                22930  \n",
       "1                                25718  \n",
       "2                                25397  \n",
       "3                                24830  \n",
       "4                                18654  "
      ]
     },
     "execution_count": 281,
     "metadata": {},
     "output_type": "execute_result"
    }
   ],
   "source": [
    "intconn.head()"
   ]
  },
  {
   "cell_type": "code",
   "execution_count": 282,
   "metadata": {
    "collapsed": true
   },
   "outputs": [],
   "source": [
    "# Harmonize the dataframes\n",
    "cbc = cbc.replace(['13 QUEENS', '12 BRONX', '03 QUEENS', '12 MANHATTAN',\n",
    "       '09 MANHATTAN', '08 QUEENS', '01 QUEENS', '07 BRONX', '01 BROOKLYN',\n",
    "       '03 MANHATTAN', '09 QUEENS', '05 BRONX', '03 BROOKLYN',\n",
    "       '07 MANHATTAN', '12 BROOKLYN', '09 BROOKLYN', '07 QUEENS',\n",
    "       '15 BROOKLYN', '08 MANHATTAN', '10 BROOKLYN', '08 BROOKLYN',\n",
    "       '04 MANHATTAN', '02 MANHATTAN', '12 QUEENS', '04 BRONX',\n",
    "       '04 BROOKLYN', '01 BRONX', '10 QUEENS', '18 BROOKLYN',\n",
    "       '11 BROOKLYN', '10 MANHATTAN', '11 QUEENS', '16 BROOKLYN',\n",
    "       '05 BROOKLYN', '05 MANHATTAN', '08 BRONX', '09 BRONX',\n",
    "       '17 BROOKLYN', '01 MANHATTAN', '05 QUEENS', '06 QUEENS', '02 BRONX',\n",
    "       '11 BRONX', '04 QUEENS', '02 QUEENS', '01 STATEN ISLAND',\n",
    "       '03 STATEN ISLAND', '14 BROOKLYN', '07 BROOKLYN',\n",
    "       '02 STATEN ISLAND', '10 BRONX', '11 MANHATTAN', '06 BROOKLYN',\n",
    "       '13 BROOKLYN', '06 MANHATTAN', '02 BROOKLYN', '06 BRONX',\n",
    "       '14 QUEENS', '03 BRONX'], ['QN13', 'BX12', 'QN03', 'MN12', 'MN09', 'QN08', 'QN01', 'BX07', 'BK01',\n",
    "        'MN03', 'QN09', 'BX05', 'BK03', 'MN07', 'BK12', 'BK09', 'QN07', 'BK15', 'MN08', 'BK10', 'BK08', 'MN04',\n",
    "        'MN02', 'QN12', 'BX04', 'BK04', 'BX01', 'QN10', 'BK18', 'BK11', 'MN10', 'QN11', 'BK16', 'BK05', 'MN05',\n",
    "        'BX08', 'BX09', 'BK17', 'MN01', 'QN05', 'QN06', 'BX02', 'BX11', 'QN04', 'QN02', 'SI01', 'SI03', 'BK14',\n",
    "        'BK07', 'SI02', 'BX10', 'MN11', 'BK06', 'BK13', 'MN06', 'BK02', 'BX06', 'QN14', 'BX03'])"
   ]
  },
  {
   "cell_type": "code",
   "execution_count": 283,
   "metadata": {
    "collapsed": false
   },
   "outputs": [],
   "source": [
    "complaints = cbc.merge(final_demo,on='Community Board Name',how='outer').merge(mobile,on='Community Board Name',how='outer').merge(intconn,on='Community Board Name',how='outer')"
   ]
  },
  {
   "cell_type": "code",
   "execution_count": 284,
   "metadata": {
    "collapsed": false
   },
   "outputs": [
    {
     "data": {
      "text/html": [
       "<div>\n",
       "<table border=\"1\" class=\"dataframe\">\n",
       "  <thead>\n",
       "    <tr style=\"text-align: right;\">\n",
       "      <th></th>\n",
       "      <th>Community Board Name</th>\n",
       "      <th>Count of Complaints</th>\n",
       "      <th>Median Household Income</th>\n",
       "      <th>Households With Mobile Broadband</th>\n",
       "      <th>Households Without Mobile Broadband</th>\n",
       "      <th>Households With Low Speed Internet</th>\n",
       "      <th>Households With High Speed Internet</th>\n",
       "    </tr>\n",
       "  </thead>\n",
       "  <tbody>\n",
       "    <tr>\n",
       "      <th>0</th>\n",
       "      <td>MN12</td>\n",
       "      <td>1162</td>\n",
       "      <td>45157</td>\n",
       "      <td>26592.0</td>\n",
       "      <td>32179.0</td>\n",
       "      <td>1799.0</td>\n",
       "      <td>46246.0</td>\n",
       "    </tr>\n",
       "    <tr>\n",
       "      <th>1</th>\n",
       "      <td>QN12</td>\n",
       "      <td>968</td>\n",
       "      <td>52537</td>\n",
       "      <td>15241.0</td>\n",
       "      <td>39630.0</td>\n",
       "      <td>1817.0</td>\n",
       "      <td>40100.0</td>\n",
       "    </tr>\n",
       "    <tr>\n",
       "      <th>2</th>\n",
       "      <td>BK17</td>\n",
       "      <td>883</td>\n",
       "      <td>42349</td>\n",
       "      <td>13596.0</td>\n",
       "      <td>23007.0</td>\n",
       "      <td>622.0</td>\n",
       "      <td>30543.0</td>\n",
       "    </tr>\n",
       "    <tr>\n",
       "      <th>3</th>\n",
       "      <td>BK05</td>\n",
       "      <td>871</td>\n",
       "      <td>32996</td>\n",
       "      <td>9572.0</td>\n",
       "      <td>29604.0</td>\n",
       "      <td>512.0</td>\n",
       "      <td>32455.0</td>\n",
       "    </tr>\n",
       "    <tr>\n",
       "      <th>4</th>\n",
       "      <td>BK03</td>\n",
       "      <td>865</td>\n",
       "      <td>34678</td>\n",
       "      <td>12648.0</td>\n",
       "      <td>22363.0</td>\n",
       "      <td>754.0</td>\n",
       "      <td>25803.0</td>\n",
       "    </tr>\n",
       "  </tbody>\n",
       "</table>\n",
       "</div>"
      ],
      "text/plain": [
       "  Community Board Name  Count of Complaints  Median Household Income  \\\n",
       "0                 MN12                 1162                    45157   \n",
       "1                 QN12                  968                    52537   \n",
       "2                 BK17                  883                    42349   \n",
       "3                 BK05                  871                    32996   \n",
       "4                 BK03                  865                    34678   \n",
       "\n",
       "   Households With Mobile Broadband  Households Without Mobile Broadband  \\\n",
       "0                           26592.0                              32179.0   \n",
       "1                           15241.0                              39630.0   \n",
       "2                           13596.0                              23007.0   \n",
       "3                            9572.0                              29604.0   \n",
       "4                           12648.0                              22363.0   \n",
       "\n",
       "   Households With Low Speed Internet  Households With High Speed Internet  \n",
       "0                              1799.0                              46246.0  \n",
       "1                              1817.0                              40100.0  \n",
       "2                               622.0                              30543.0  \n",
       "3                               512.0                              32455.0  \n",
       "4                               754.0                              25803.0  "
      ]
     },
     "execution_count": 284,
     "metadata": {},
     "output_type": "execute_result"
    }
   ],
   "source": [
    "complaints.head()"
   ]
  },
  {
   "cell_type": "code",
   "execution_count": 285,
   "metadata": {
    "collapsed": false
   },
   "outputs": [
    {
     "name": "stdout",
     "output_type": "stream",
     "text": [
      "71\n"
     ]
    }
   ],
   "source": [
    "print(len(complaints))"
   ]
  },
  {
   "cell_type": "code",
   "execution_count": 286,
   "metadata": {
    "collapsed": false
   },
   "outputs": [
    {
     "data": {
      "text/plain": [
       "Community Board Name                   0\n",
       "Count of Complaints                    0\n",
       "Median Household Income                0\n",
       "Households With Mobile Broadband       4\n",
       "Households Without Mobile Broadband    4\n",
       "Households With Low Speed Internet     4\n",
       "Households With High Speed Internet    4\n",
       "dtype: int64"
      ]
     },
     "execution_count": 286,
     "metadata": {},
     "output_type": "execute_result"
    }
   ],
   "source": [
    "complaints.isnull().sum()"
   ]
  },
  {
   "cell_type": "code",
   "execution_count": 288,
   "metadata": {
    "collapsed": false
   },
   "outputs": [
    {
     "data": {
      "text/plain": [
       "<matplotlib.axes._subplots.AxesSubplot at 0x11b5de810>"
      ]
     },
     "execution_count": 288,
     "metadata": {},
     "output_type": "execute_result"
    },
    {
     "data": {
      "image/png": "[encoded data removed]",
      "text/plain": [
       "<matplotlib.figure.Figure at 0x121046850>"
      ]
     },
     "metadata": {},
     "output_type": "display_data"
    }
   ],
   "source": [
    "complaints.plot(x='Community Board Name', y='Count of Complaints', kind='bar', figsize=(15, 8), legend=False, title='Number of Complaints by NYC Community District, 2010-Present') "
   ]
  },
  {
   "cell_type": "code",
   "execution_count": 291,
   "metadata": {
    "collapsed": true
   },
   "outputs": [],
   "source": [
    "complaints = complaints.rename(columns={'Community Board Name': 'CBN', 'Count of Complaints': 'Complaints', 'Median Household Income': 'Income', 'Households With Mobile Broadband': 'Mobile', 'Households Without Mobile Broadband': 'NoMobile', 'Households With Low Speed Internet': 'LowInt', 'Households With High Speed Internet': 'HighInt'})"
   ]
  },
  {
   "cell_type": "code",
   "execution_count": null,
   "metadata": {
    "collapsed": true
   },
   "outputs": [],
   "source": [
    "#covariance matrix"
   ]
  },
  {
   "cell_type": "code",
   "execution_count": 292,
   "metadata": {
    "collapsed": false
   },
   "outputs": [
    {
     "name": "stdout",
     "output_type": "stream",
     "text": [
      "                            OLS Regression Results                            \n",
      "==============================================================================\n",
      "Dep. Variable:             Complaints   R-squared:                       0.157\n",
      "Model:                            OLS   Adj. R-squared:                  0.117\n",
      "Method:                 Least Squares   F-statistic:                     3.910\n",
      "Date:                Sun, 06 Nov 2016   Prob (F-statistic):             0.0126\n",
      "Time:                        11:33:20   Log-Likelihood:                -442.04\n",
      "No. Observations:                  67   AIC:                             892.1\n",
      "Df Residuals:                      63   BIC:                             900.9\n",
      "Df Model:                           3                                         \n",
      "Covariance Type:            nonrobust                                         \n",
      "==============================================================================\n",
      "                 coef    std err          t      P>|t|      [0.025      0.975]\n",
      "------------------------------------------------------------------------------\n",
      "Intercept    486.0406     55.116      8.818      0.000     375.899     596.182\n",
      "Income        -0.0032      0.002     -2.115      0.038      -0.006      -0.000\n",
      "Mobile        -0.0097      0.004     -2.479      0.016      -0.018      -0.002\n",
      "HighInt        0.0115      0.003      3.335      0.001       0.005       0.018\n",
      "==============================================================================\n",
      "Omnibus:                        5.411   Durbin-Watson:                   0.305\n",
      "Prob(Omnibus):                  0.067   Jarque-Bera (JB):                4.598\n",
      "Skew:                           0.613   Prob(JB):                        0.100\n",
      "Kurtosis:                       3.383   Cond. No.                     1.93e+05\n",
      "==============================================================================\n",
      "\n",
      "Warnings:\n",
      "[1] Standard Errors assume that the covariance matrix of the errors is correctly specified.\n",
      "[2] The condition number is large, 1.93e+05. This might indicate that there are\n",
      "strong multicollinearity or other numerical problems.\n"
     ]
    }
   ],
   "source": [
    "results = smf.ols('Complaints ~ Income + Mobile + HighInt', data=complaints).fit()\n",
    "print results.summary()"
   ]
  },
  {
   "cell_type": "code",
   "execution_count": 294,
   "metadata": {
    "collapsed": false
   },
   "outputs": [
    {
     "data": {
      "text/plain": [
       "<matplotlib.axes._subplots.AxesSubplot at 0x124e12110>"
      ]
     },
     "execution_count": 294,
     "metadata": {},
     "output_type": "execute_result"
    },
    {
     "data": {
      "image/png": "[encoded data removed]",
      "text/plain": [
       "<matplotlib.figure.Figure at 0x124e96950>"
      ]
     },
     "metadata": {},
     "output_type": "display_data"
    }
   ],
   "source": [
    "complaints.plot(kind='scatter', x='Income', y='Complaints', marker='o',  figsize=(10, 10))"
   ]
  },
  {
   "cell_type": "code",
   "execution_count": 295,
   "metadata": {
    "collapsed": false
   },
   "outputs": [
    {
     "data": {
      "text/plain": [
       "<matplotlib.axes._subplots.AxesSubplot at 0x124cb9990>"
      ]
     },
     "execution_count": 295,
     "metadata": {},
     "output_type": "execute_result"
    },
    {
     "data": {
      "image/png": "[encoded data removed]",
      "text/plain": [
       "<matplotlib.figure.Figure at 0x121f33850>"
      ]
     },
     "metadata": {},
     "output_type": "display_data"
    }
   ],
   "source": [
    "complaints.plot(kind='scatter', x='HighInt', y='Complaints', marker='o',  figsize=(10, 10))"
   ]
  },
  {
   "cell_type": "code",
   "execution_count": 296,
   "metadata": {
    "collapsed": false
   },
   "outputs": [
    {
     "data": {
      "text/plain": [
       "<matplotlib.axes._subplots.AxesSubplot at 0x121f83590>"
      ]
     },
     "execution_count": 296,
     "metadata": {},
     "output_type": "execute_result"
    },
    {
     "data": {
      "image/png": "[encoded data removed]",
      "text/plain": [
       "<matplotlib.figure.Figure at 0x121fe4b10>"
      ]
     },
     "metadata": {},
     "output_type": "display_data"
    }
   ],
   "source": [
    "complaints.plot(kind='scatter', x='Mobile', y='Complaints', marker='o',  figsize=(10, 10))"
   ]
  }
 ],
 "metadata": {
  "kernelspec": {
   "display_name": "Python 2",
   "language": "python",
   "name": "python2"
  },
  "language_info": {
   "codemirror_mode": {
    "name": "ipython",
    "version": 2
   },
   "file_extension": ".py",
   "mimetype": "text/x-python",
   "name": "python",
   "nbconvert_exporter": "python",
   "pygments_lexer": "ipython2",
   "version": "2.7.12"
  }
 },
 "nbformat": 4,
 "nbformat_minor": 1
}
