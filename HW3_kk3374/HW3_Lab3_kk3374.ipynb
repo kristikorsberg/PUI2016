{
 "cells": [
  {
   "cell_type": "code",
   "execution_count": 25,
   "metadata": {
    "collapsed": true
   },
   "outputs": [],
   "source": [
    "import numpy as np\n",
    "import urllib\n",
    "import math"
   ]
  },
  {
   "cell_type": "code",
   "execution_count": 29,
   "metadata": {
    "collapsed": false
   },
   "outputs": [
    {
     "name": "stdout",
     "output_type": "stream",
     "text": [
      "<open file '/Users/kristikorsberg/Documents/NYUCUSP/PUI2016/PUI2016_kk3374/HW3_kk3374/times.txt', mode 'r' at 0x10afc3f60>\n"
     ]
    }
   ],
   "source": [
    "#should probably push the file to github\n",
    "file = open('/Users/kristikorsberg/Documents/NYUCUSP/PUI2016/PUI2016_kk3374/HW3_kk3374/times.txt', 'r')\n",
    "print(file)\n",
    "\n",
    "#!curl -O https://raw.githubusercontent.com/fedhere/PyBOOT/master/busBusses.npy\n",
    "#!curl -O https://raw.github.com/fedhere/PUI2016_fb55/tree/master/Lab3_fb55/times.txt\n",
    "#t = open('times.txt', 'rb')\n",
    "#times = np.load('times.txt')"
   ]
  },
  {
   "cell_type": "code",
   "execution_count": 30,
   "metadata": {
    "collapsed": false
   },
   "outputs": [
    {
     "name": "stdout",
     "output_type": "stream",
     "text": [
      "[31.62223931, 32.82137636, 30.2291014, 31.41376587, 39.01055035, 34.82207891, 39.87188366, 39.57994562, 31.02658678, 27.66246068, 18.8752884, 46.2313731, 30.01522604, 47.6004104, 16.52726666, 42.4462331, 33.62527449, 42.28462558, 46.20520667, 30.87517392, 32.94800341, 26.17691512, 31.25699649, 35.33644554, 35.64072501, 40.32297174, 38.04348588, 29.4579793, 23.91636367, 34.56403521, 45.42782464, 38.95607754, 39.11396748, 39.67398759, 31.89148105, 22.62379325, 26.18910408, 43.54114213, 33.2607386, 31.67602384, 37.12846259, 38.22048496, 34.38814185, 36.11407371, 44.08064814, 29.59917161, 37.02411751, 41.60576556, 44.37860528, 38.06471077, 22.90526456, 40.27182857, 31.57979239, 25.88037795, 28.8913048, 44.33687925, 36.78948684, 43.46098875, 40.65557, 26.16634004, 25.13884784, 33.01581456, 32.87050073, 26.28557154, 39.44933037, 36.25528612, 40.719133, 40.57181545, 19.87166413, 43.21925286, 31.48102823, 37.14915056, 38.991504, 20.53059384, 27.80447692, 38.69933298, 30.0223142, 38.64884169, 26.40668884, 32.10224978, 28.31532754, 43.26195884, 40.3609407, 37.3025258, 31.45110181, 38.79599524, 36.92553372, 32.37167945, 23.25835631, 26.42613261, 48.74987653, 31.42512354, 46.80679298, 30.59748648, 20.7926322, 26.19785226, 42.7274097, 33.7314695, 37.23859057, 36.33984141]\n"
     ]
    }
   ],
   "source": [
    "timesList = []\n",
    "for line in file.read().split('\\n'):\n",
    "    timesList.append(float(line))\n",
    "print(timesList)"
   ]
  },
  {
   "cell_type": "code",
   "execution_count": 31,
   "metadata": {
    "collapsed": false
   },
   "outputs": [
    {
     "name": "stdout",
     "output_type": "stream",
     "text": [
      "New mean: 34.4661616883\n"
     ]
    }
   ],
   "source": [
    "timesMean = np.mean(timesList)\n",
    "print(\"New mean: \" + str(timesMean))"
   ]
  },
  {
   "cell_type": "markdown",
   "metadata": {},
   "source": [
    "# Null Hypothesis\n",
    "H0: The new average commute time with the new bus route is >= the average commute time of the old bus route. \n",
    "TimeNew >= TimeOld\n",
    "\n",
    "# Alternative Hypothesis\n",
    "HA: The new average commute time with the new bus route is < the average commute time of the old bus route. \n",
    "TimeNew < TimeOld\n",
    "\n",
    "# P-Value\n",
    "I am choosing a p-value = 0.05"
   ]
  },
  {
   "cell_type": "code",
   "execution_count": 10,
   "metadata": {
    "collapsed": false
   },
   "outputs": [
    {
     "name": "stdout",
     "output_type": "stream",
     "text": [
      "The Z statistic = 2.55639718617\n",
      "The mean of the new bus route is 2.5 standard deviations away from the population mean.\n",
      "We are more than 95% certain (because 2.5 is greater than 2) that the change in average travel time is not\n",
      "due to chance.\n"
     ]
    }
   ],
   "source": [
    "#calculating the z statistic\n",
    "z = (36 - timesMean)/(6/math.sqrt(100))\n",
    "print(\"The Z statistic = \" + str(z))\n",
    "print(\"The mean of the new bus route is 2.5 standard deviations away from the population mean.\")\n",
    "print(\"We are more than 95% certain (because 2.5 is greater than 2) that the change in average\")\n",
    "print(\"travel time is not due to chance.\")"
   ]
  },
  {
   "cell_type": "code",
   "execution_count": null,
   "metadata": {
    "collapsed": true
   },
   "outputs": [],
   "source": []
  }
 ],
 "metadata": {
  "kernelspec": {
   "display_name": "Python [Root]",
   "language": "python",
   "name": "Python [Root]"
  },
  "language_info": {
   "codemirror_mode": {
    "name": "ipython",
    "version": 2
   },
   "file_extension": ".py",
   "mimetype": "text/x-python",
   "name": "python",
   "nbconvert_exporter": "python",
   "pygments_lexer": "ipython2",
   "version": "2.7.12"
  }
 },
 "nbformat": 4,
 "nbformat_minor": 0
}
