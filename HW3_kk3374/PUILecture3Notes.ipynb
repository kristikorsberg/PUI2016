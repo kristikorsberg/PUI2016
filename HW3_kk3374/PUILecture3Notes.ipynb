{
 "cells": [
  {
   "cell_type": "code",
   "execution_count": 7,
   "metadata": {
    "collapsed": false
   },
   "outputs": [
    {
     "name": "stdout",
     "output_type": "stream",
     "text": [
      "Populating the interactive namespace from numpy and matplotlib\n"
     ]
    },
    {
     "data": {
      "text/plain": [
       "(array([ 30.,  34.,  28.,  32.,  29.,  26.,  25.,  39.,  28.,  29.]),\n",
       " array([ 0.01735084,  0.11557623,  0.21380162,  0.31202701,  0.4102524 ,\n",
       "         0.50847779,  0.60670318,  0.70492858,  0.80315397,  0.90137936,\n",
       "         0.99960475]),\n",
       " <a list of 10 Patch objects>)"
      ]
     },
     "execution_count": 7,
     "metadata": {},
     "output_type": "execute_result"
    },
    {
     "data": {
      "image/png": "[encoded data removed]",
      "text/plain": [
       "<matplotlib.figure.Figure at 0x110576290>"
      ]
     },
     "metadata": {},
     "output_type": "display_data"
    }
   ],
   "source": [
    "import numpy as np\n",
    "import matplotlib.pyplot as plt\n",
    "%pylab inline\n",
    "\n",
    "rand_array = np.random.rand(2, 300)\n",
    "#plt.plot(rand_array[0], rand_array[1], \"o\")\n",
    "plt.hist(rand_array[0], alpha = 0.5)\n",
    "\n",
    "plt.hist(np.random.rand(300), alpha = 0.5)\n"
   ]
  },
  {
   "cell_type": "code",
   "execution_count": 11,
   "metadata": {
    "collapsed": false
   },
   "outputs": [
    {
     "data": {
      "text/plain": [
       "1.9413677544586769"
      ]
     },
     "execution_count": 11,
     "metadata": {},
     "output_type": "execute_result"
    },
    {
     "data": {
      "image/png": "[encoded data removed]",
      "text/plain": [
       "<matplotlib.figure.Figure at 0x1106cb250>"
      ]
     },
     "metadata": {},
     "output_type": "display_data"
    }
   ],
   "source": [
    "np.random.seed(229)\n",
    "#parameters are the arguments of the distribution. With Gaussian, I have\n",
    "#to provide a mean, for example. \n",
    "#binomial distributions take an argument for the 'number of times you\n",
    "#flip the coin', as an example. \n",
    "#chisquared distribution only exists for positive values\n",
    "\n",
    "#draw 100 samples of different sizes, all from the same distribution, from\n",
    "#the same chi distribution. calculate the mean from each of those samples\n",
    "#and see what gets plotted. \n",
    "#chisquared requires the parameter 'df', which is degrees of freedom. in\n",
    "#chisquared, the mean is equal to the degrees of freedom. not necessarily\n",
    "#true for other distributions.\n",
    "df = 2\n",
    "chisq = np.random.chisquare(df, size = 100)\n",
    "plt.hist(chisq)\n",
    "np.mean(chisq)\n",
    "#or chisq.mean()"
   ]
  },
  {
   "cell_type": "code",
   "execution_count": 10,
   "metadata": {
    "collapsed": false
   },
   "outputs": [
    {
     "data": {
      "text/plain": [
       "(array([  3.,   9.,  16.,  25.,  17.,  15.,  10.,   3.,   1.,   1.]),\n",
       " array([  71.1341392 ,   78.78363902,   86.43313884,   94.08263866,\n",
       "         101.73213848,  109.3816383 ,  117.03113811,  124.68063793,\n",
       "         132.33013775,  139.97963757,  147.62913739]),\n",
       " <a list of 10 Patch objects>)"
      ]
     },
     "execution_count": 10,
     "metadata": {},
     "output_type": "execute_result"
    },
    {
     "data": {
      "image/png": "[encoded data removed]",
      "text/plain": [
       "<matplotlib.figure.Figure at 0x110447e50>"
      ]
     },
     "metadata": {},
     "output_type": "display_data"
    }
   ],
   "source": [
    "#if df was higher then this distribution would look more like the \n",
    "#Guassian distribution. \n",
    "df = 100\n",
    "chisq = np.random.chisquare(df, size = 100)\n",
    "plt.hist(chisq)"
   ]
  },
  {
   "cell_type": "code",
   "execution_count": 12,
   "metadata": {
    "collapsed": true
   },
   "outputs": [],
   "source": [
    "#for homework, you are to change the size of this 100 times\n",
    "#can do this by writing 100 cells or by writing a for loop\n",
    "#you want to write a function to do this 100 times\n",
    "#for homework, write a flexible function that takes both the size argument\n",
    "#and a distribution argument\n",
    "#write a docstring before the function for homework"
   ]
  },
  {
   "cell_type": "code",
   "execution_count": 18,
   "metadata": {
    "collapsed": false
   },
   "outputs": [],
   "source": [
    "np.random.seed(229)\n",
    "df = 100\n",
    "def create_chisq_size(df, n):\n",
    "    return np.random.chisquare(df, size = n).mean()"
   ]
  },
  {
   "cell_type": "code",
   "execution_count": 21,
   "metadata": {
    "collapsed": false
   },
   "outputs": [
    {
     "name": "stdout",
     "output_type": "stream",
     "text": [
      "[101.24003731714954, 97.875353455733773, 101.26101088049337, 103.79238564264115, 99.848751077615049, 102.5928019280588, 96.69010914112458, 98.474618854928977, 97.436820315913309, 99.874869410491726, 99.749737328451005, 100.34130069722626, 100.33034912019116, 98.511537196688764, 96.670286380643958, 101.18142973683575, 97.727696801964399, 102.08085571522679, 98.54188374587936, 98.438128030661787, 100.95694047484434, 101.03741933725199, 100.1511421043123, 99.971274461368324, 99.550210999074238, 98.677045306117748, 99.152890778669786, 98.901146247875658, 99.708032388519172, 99.097995502629374, 99.253344295891623, 99.881265470017638, 100.54601378485134, 100.28814136892187, 99.312807766933545, 99.728830419812951, 99.269441395323895, 99.157749495724971, 101.08608088835257, 100.21724225743357, 99.86453640732698, 100.03376244263799, 99.178919549698762, 101.39366360597865, 99.927083794924201, 99.708308516605427, 100.09335150008712, 100.32337942280357, 100.26157339615827, 99.618646098465064, 99.536954982080815, 100.58259163527467, 99.101556891579193, 100.55063020282684, 99.09853785965872, 98.822715780247904, 99.551122324574408, 101.51468215626615, 99.486823974887628, 100.84527086304053, 99.517779278824591, 100.73707559612205, 99.847013231192349, 99.56263415387329, 100.7460844016797, 100.58573611252547, 99.836012330415429, 100.72303362689948, 100.06985920399291, 100.0633735738261, 99.24636356167079, 99.997120900182637, 99.467810235084102, 99.368090781446583, 100.97351886945404, 100.33421242962098, 99.775609571065289, 99.307135987244209, 99.850654700983654, 100.8140540435724, 99.822666667453717, 99.061437669878259, 99.724948688241255, 98.87499160191679, 100.05200760982646, 99.8568706942593, 100.5200622789572, 99.634681573935239, 100.3336835299401, 99.22986641806591, 99.12948844082716, 100.26817369634693, 100.16200030338493, 99.997938998988147, 99.613325802616544, 99.784045606374264, 100.41023607429686, 99.88260450800685, 101.07116356795613, 99.845527166415678]\n"
     ]
    },
    {
     "name": "stderr",
     "output_type": "stream",
     "text": [
      "/anaconda/lib/python2.7/site-packages/ipykernel/__main__.py:4: DeprecationWarning: using a non-integer number instead of an integer will result in an error in the future\n"
     ]
    }
   ],
   "source": [
    "#arange vs. linspace. arange takes min and max of array, and provides\n",
    "#with the steps and linspace takes how many objects in the array\n",
    "#np.arange(0, 10, 2) = 0, 2, 4, 6, 8\n",
    "#np.linspace(0, 10, 2) = take two numbers in that range... 0, 5, demanding\n",
    "#a certain number of objects in that range, it splits a range evenly in\n",
    "#however many intervals you ask it for\n",
    "#neither linspace nor arange are inclusive of the last number, being 10\n",
    "#in this example\n",
    "chisq_mean = [create_chisq_size(df, n) for n in np.linspace(10, 1000, 100)]\n",
    "print(chisq_mean)\n",
    "#plot against size                                "
   ]
  },
  {
   "cell_type": "code",
   "execution_count": 22,
   "metadata": {
    "collapsed": false
   },
   "outputs": [
    {
     "data": {
      "image/png": "[encoded data removed]",
      "text/plain": [
       "<matplotlib.figure.Figure at 0x11071a810>"
      ]
     },
     "metadata": {},
     "output_type": "display_data"
    }
   ],
   "source": [
    "#as sample size increases, the mean tends toward the theoretical mean\n",
    "sample_sizes = np.linspace(10, 1000, 100)\n",
    "plt.figure()\n",
    "plt.scatter(sample_sizes, chisq_mean)\n",
    "plt.show()\n",
    "#you expect variance to be big at the beginning and small at the end\n",
    "#want more sample where there is more variance"
   ]
  },
  {
   "cell_type": "code",
   "execution_count": null,
   "metadata": {
    "collapsed": true
   },
   "outputs": [],
   "source": []
  }
 ],
 "metadata": {
  "anaconda-cloud": {},
  "kernelspec": {
   "display_name": "Python [Root]",
   "language": "python",
   "name": "Python [Root]"
  },
  "language_info": {
   "codemirror_mode": {
    "name": "ipython",
    "version": 2
   },
   "file_extension": ".py",
   "mimetype": "text/x-python",
   "name": "python",
   "nbconvert_exporter": "python",
   "pygments_lexer": "ipython2",
   "version": "2.7.12"
  }
 },
 "nbformat": 4,
 "nbformat_minor": 0
}
