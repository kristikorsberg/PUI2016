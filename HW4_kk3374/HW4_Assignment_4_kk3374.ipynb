{
 "cells": [
  {
   "cell_type": "code",
   "execution_count": 16,
   "metadata": {
    "collapsed": false
   },
   "outputs": [
    {
     "name": "stdout",
     "output_type": "stream",
     "text": [
      "Populating the interactive namespace from numpy and matplotlib\n"
     ]
    }
   ],
   "source": [
    "import numpy as np\n",
    "import os\n",
    "import sys\n",
    "from __future__  import print_function, division\n",
    "import pylab as pl\n",
    "import pandas as pd\n",
    "import numpy as np\n",
    "import csv\n",
    "import scipy.stats\n",
    "\n",
    "%pylab inline\n",
    "\n",
    "import os\n",
    "import json"
   ]
  },
  {
   "cell_type": "code",
   "execution_count": 8,
   "metadata": {
    "collapsed": true
   },
   "outputs": [],
   "source": [
    "#check if the env variable PUIDATA exists\n",
    "if os.getenv(\"PUIDATA\") is None:\n",
    "    print (\"must set PUIDATA env variable\")\n",
    "    sys.exit()\n",
    "\n",
    "def getCitiBikeCSV(datestring):\n",
    "    print (\"Downloading\", datestring)\n",
    "    ### First I will check that it is not already there\n",
    "    if not os.path.isfile(os.getenv(\"PUIDATA\") + \"/\" + datestring + \"-citibike-tripdata.csv\"):\n",
    "        if os.path.isfile(datestring + \"-citibike-tripdata.csv\"):\n",
    "            # if in the current dir just move it\n",
    "            if os.system(\"mv \" + datestring + \"-citibike-tripdata.csv \" + os.getenv(\"PUIDATA\")):\n",
    "                print (\"Error moving file!, Please check!\")\n",
    "        #otherwise start looking for the zip file\n",
    "        else:\n",
    "            if not os.path.isfile(os.getenv(\"PUIDATA\") + \"/\" + datestring + \"-citibike-tripdata.zip\"):\n",
    "                if not os.path.isfile(datestring + \"-citibike-tripdata.zip\"):\n",
    "                    os.system(\"curl -O https://s3.amazonaws.com/tripdata/\" + datestring + \"-citibike-tripdata.zip\")\n",
    "                ###  To move it I use the os.system() functions to run bash commands with arguments\n",
    "                os.system(\"mv \" + datestring + \"-citibike-tripdata.zip \" + os.getenv(\"PUIDATA\"))\n",
    "            ### unzip the csv \n",
    "            os.system(\"unzip \" + os.getenv(\"PUIDATA\") + \"/\" + datestring + \"-citibike-tripdata.zip\")\n",
    "            ## NOTE: old csv citibike data had a different name structure. \n",
    "            if '2014' in datestring:\n",
    "                os.system(\"mv \" + datestring[:4] + '-' +  datestring[4:] + \n",
    "                          \"\\ -\\ Citi\\ Bike\\ trip\\ data.csv \" + datestring + \"-citibike-tripdata.csv\")\n",
    "            os.system(\"mv \" + datestring + \"-citibike-tripdata.csv \" + os.getenv(\"PUIDATA\"))\n",
    "    ### One final check:\n",
    "    if not os.path.isfile(os.getenv(\"PUIDATA\") + \"/\" + datestring + \"-citibike-tripdata.csv\"):\n",
    "        print (\"WARNING!!! something is wrong: the file is not there!\")\n",
    "\n",
    "    else:\n",
    "        print (\"file in place, you can continue\")"
   ]
  },
  {
   "cell_type": "code",
   "execution_count": 9,
   "metadata": {
    "collapsed": false
   },
   "outputs": [
    {
     "name": "stdout",
     "output_type": "stream",
     "text": [
      "Downloading 201501\n",
      "file in place, you can continue\n"
     ]
    }
   ],
   "source": [
    "datestring = '201501'\n",
    "getCitiBikeCSV(datestring)"
   ]
  },
  {
   "cell_type": "code",
   "execution_count": 10,
   "metadata": {
    "collapsed": false
   },
   "outputs": [
    {
     "data": {
      "text/html": [
       "<div>\n",
       "<table border=\"1\" class=\"dataframe\">\n",
       "  <thead>\n",
       "    <tr style=\"text-align: right;\">\n",
       "      <th></th>\n",
       "      <th>tripduration</th>\n",
       "      <th>starttime</th>\n",
       "      <th>stoptime</th>\n",
       "      <th>start station id</th>\n",
       "      <th>start station name</th>\n",
       "      <th>start station latitude</th>\n",
       "      <th>start station longitude</th>\n",
       "      <th>end station id</th>\n",
       "      <th>end station name</th>\n",
       "      <th>end station latitude</th>\n",
       "      <th>end station longitude</th>\n",
       "      <th>bikeid</th>\n",
       "      <th>usertype</th>\n",
       "      <th>birth year</th>\n",
       "      <th>gender</th>\n",
       "    </tr>\n",
       "  </thead>\n",
       "  <tbody>\n",
       "    <tr>\n",
       "      <th>0</th>\n",
       "      <td>1346</td>\n",
       "      <td>1/1/2015 0:01</td>\n",
       "      <td>1/1/2015 0:24</td>\n",
       "      <td>455</td>\n",
       "      <td>1 Ave &amp; E 44 St</td>\n",
       "      <td>40.750020</td>\n",
       "      <td>-73.969053</td>\n",
       "      <td>265</td>\n",
       "      <td>Stanton St &amp; Chrystie St</td>\n",
       "      <td>40.722293</td>\n",
       "      <td>-73.991475</td>\n",
       "      <td>18660</td>\n",
       "      <td>Subscriber</td>\n",
       "      <td>1960.0</td>\n",
       "      <td>2</td>\n",
       "    </tr>\n",
       "    <tr>\n",
       "      <th>1</th>\n",
       "      <td>363</td>\n",
       "      <td>1/1/2015 0:02</td>\n",
       "      <td>1/1/2015 0:08</td>\n",
       "      <td>434</td>\n",
       "      <td>9 Ave &amp; W 18 St</td>\n",
       "      <td>40.743174</td>\n",
       "      <td>-74.003664</td>\n",
       "      <td>482</td>\n",
       "      <td>W 15 St &amp; 7 Ave</td>\n",
       "      <td>40.739355</td>\n",
       "      <td>-73.999318</td>\n",
       "      <td>16085</td>\n",
       "      <td>Subscriber</td>\n",
       "      <td>1963.0</td>\n",
       "      <td>1</td>\n",
       "    </tr>\n",
       "    <tr>\n",
       "      <th>2</th>\n",
       "      <td>346</td>\n",
       "      <td>1/1/2015 0:04</td>\n",
       "      <td>1/1/2015 0:10</td>\n",
       "      <td>491</td>\n",
       "      <td>E 24 St &amp; Park Ave S</td>\n",
       "      <td>40.740964</td>\n",
       "      <td>-73.986022</td>\n",
       "      <td>505</td>\n",
       "      <td>6 Ave &amp; W 33 St</td>\n",
       "      <td>40.749013</td>\n",
       "      <td>-73.988484</td>\n",
       "      <td>20845</td>\n",
       "      <td>Subscriber</td>\n",
       "      <td>1974.0</td>\n",
       "      <td>1</td>\n",
       "    </tr>\n",
       "    <tr>\n",
       "      <th>3</th>\n",
       "      <td>182</td>\n",
       "      <td>1/1/2015 0:04</td>\n",
       "      <td>1/1/2015 0:07</td>\n",
       "      <td>384</td>\n",
       "      <td>Fulton St &amp; Waverly Ave</td>\n",
       "      <td>40.683178</td>\n",
       "      <td>-73.965964</td>\n",
       "      <td>399</td>\n",
       "      <td>Lafayette Ave &amp; St James Pl</td>\n",
       "      <td>40.688515</td>\n",
       "      <td>-73.964763</td>\n",
       "      <td>19610</td>\n",
       "      <td>Subscriber</td>\n",
       "      <td>1969.0</td>\n",
       "      <td>1</td>\n",
       "    </tr>\n",
       "    <tr>\n",
       "      <th>4</th>\n",
       "      <td>969</td>\n",
       "      <td>1/1/2015 0:05</td>\n",
       "      <td>1/1/2015 0:21</td>\n",
       "      <td>474</td>\n",
       "      <td>5 Ave &amp; E 29 St</td>\n",
       "      <td>40.745168</td>\n",
       "      <td>-73.986831</td>\n",
       "      <td>432</td>\n",
       "      <td>E 7 St &amp; Avenue A</td>\n",
       "      <td>40.726218</td>\n",
       "      <td>-73.983799</td>\n",
       "      <td>20197</td>\n",
       "      <td>Subscriber</td>\n",
       "      <td>1977.0</td>\n",
       "      <td>1</td>\n",
       "    </tr>\n",
       "  </tbody>\n",
       "</table>\n",
       "</div>"
      ],
      "text/plain": [
       "   tripduration      starttime       stoptime  start station id  \\\n",
       "0          1346  1/1/2015 0:01  1/1/2015 0:24               455   \n",
       "1           363  1/1/2015 0:02  1/1/2015 0:08               434   \n",
       "2           346  1/1/2015 0:04  1/1/2015 0:10               491   \n",
       "3           182  1/1/2015 0:04  1/1/2015 0:07               384   \n",
       "4           969  1/1/2015 0:05  1/1/2015 0:21               474   \n",
       "\n",
       "        start station name  start station latitude  start station longitude  \\\n",
       "0          1 Ave & E 44 St               40.750020               -73.969053   \n",
       "1          9 Ave & W 18 St               40.743174               -74.003664   \n",
       "2     E 24 St & Park Ave S               40.740964               -73.986022   \n",
       "3  Fulton St & Waverly Ave               40.683178               -73.965964   \n",
       "4          5 Ave & E 29 St               40.745168               -73.986831   \n",
       "\n",
       "   end station id             end station name  end station latitude  \\\n",
       "0             265     Stanton St & Chrystie St             40.722293   \n",
       "1             482              W 15 St & 7 Ave             40.739355   \n",
       "2             505              6 Ave & W 33 St             40.749013   \n",
       "3             399  Lafayette Ave & St James Pl             40.688515   \n",
       "4             432            E 7 St & Avenue A             40.726218   \n",
       "\n",
       "   end station longitude  bikeid    usertype  birth year  gender  \n",
       "0             -73.991475   18660  Subscriber      1960.0       2  \n",
       "1             -73.999318   16085  Subscriber      1963.0       1  \n",
       "2             -73.988484   20845  Subscriber      1974.0       1  \n",
       "3             -73.964763   19610  Subscriber      1969.0       1  \n",
       "4             -73.983799   20197  Subscriber      1977.0       1  "
      ]
     },
     "execution_count": 10,
     "metadata": {},
     "output_type": "execute_result"
    }
   ],
   "source": [
    "citi_df = pd.read_csv(os.getenv(\"PUIDATA\") + \"/\" + datestring + '-citibike-tripdata.csv')\n",
    "citi_df.head()"
   ]
  },
  {
   "cell_type": "code",
   "execution_count": 11,
   "metadata": {
    "collapsed": false
   },
   "outputs": [
    {
     "data": {
      "text/plain": [
       "285552"
      ]
     },
     "execution_count": 11,
     "metadata": {},
     "output_type": "execute_result"
    }
   ],
   "source": [
    "citi_df['ageM'] = 2015 - citi_df['birth year'][(citi_df['usertype'] == 'Subscriber') & (citi_df['gender'] == 1)]\n",
    "citi_df['ageF'] = 2015 - citi_df['birth year'][(citi_df['usertype'] == 'Subscriber') & (citi_df['gender'] == 2)]\n",
    "len(citi_df)"
   ]
  },
  {
   "cell_type": "code",
   "execution_count": 12,
   "metadata": {
    "collapsed": false
   },
   "outputs": [
    {
     "name": "stderr",
     "output_type": "stream",
     "text": [
      "/opt/rh/anaconda/root/envs/PUI2016_Python2/lib/python2.7/site-packages/numpy/lib/function_base.py:3834: RuntimeWarning: Invalid value encountered in percentile\n",
      "  RuntimeWarning)\n"
     ]
    },
    {
     "data": {
      "text/html": [
       "<div>\n",
       "<table border=\"1\" class=\"dataframe\">\n",
       "  <thead>\n",
       "    <tr style=\"text-align: right;\">\n",
       "      <th></th>\n",
       "      <th>tripduration</th>\n",
       "      <th>start station id</th>\n",
       "      <th>start station latitude</th>\n",
       "      <th>start station longitude</th>\n",
       "      <th>end station id</th>\n",
       "      <th>end station latitude</th>\n",
       "      <th>end station longitude</th>\n",
       "      <th>bikeid</th>\n",
       "      <th>birth year</th>\n",
       "      <th>gender</th>\n",
       "      <th>ageM</th>\n",
       "      <th>ageF</th>\n",
       "    </tr>\n",
       "  </thead>\n",
       "  <tbody>\n",
       "    <tr>\n",
       "      <th>count</th>\n",
       "      <td>285552.000000</td>\n",
       "      <td>285552.000000</td>\n",
       "      <td>285552.000000</td>\n",
       "      <td>285552.000000</td>\n",
       "      <td>285552.000000</td>\n",
       "      <td>285552.000000</td>\n",
       "      <td>285552.000000</td>\n",
       "      <td>285552.000000</td>\n",
       "      <td>279924.000000</td>\n",
       "      <td>285552.000000</td>\n",
       "      <td>227764.000000</td>\n",
       "      <td>52093.000000</td>\n",
       "    </tr>\n",
       "    <tr>\n",
       "      <th>mean</th>\n",
       "      <td>654.325583</td>\n",
       "      <td>443.535006</td>\n",
       "      <td>40.735804</td>\n",
       "      <td>-73.990177</td>\n",
       "      <td>440.337557</td>\n",
       "      <td>40.735607</td>\n",
       "      <td>-73.990398</td>\n",
       "      <td>18147.291481</td>\n",
       "      <td>1974.951419</td>\n",
       "      <td>1.162485</td>\n",
       "      <td>40.305272</td>\n",
       "      <td>38.951145</td>\n",
       "    </tr>\n",
       "    <tr>\n",
       "      <th>std</th>\n",
       "      <td>900.775928</td>\n",
       "      <td>332.580265</td>\n",
       "      <td>0.018773</td>\n",
       "      <td>0.011681</td>\n",
       "      <td>326.010259</td>\n",
       "      <td>0.018718</td>\n",
       "      <td>0.011742</td>\n",
       "      <td>2065.313794</td>\n",
       "      <td>11.574637</td>\n",
       "      <td>0.419490</td>\n",
       "      <td>11.595240</td>\n",
       "      <td>11.405112</td>\n",
       "    </tr>\n",
       "    <tr>\n",
       "      <th>min</th>\n",
       "      <td>60.000000</td>\n",
       "      <td>72.000000</td>\n",
       "      <td>40.680342</td>\n",
       "      <td>-74.017134</td>\n",
       "      <td>72.000000</td>\n",
       "      <td>40.680342</td>\n",
       "      <td>-74.017134</td>\n",
       "      <td>14529.000000</td>\n",
       "      <td>1899.000000</td>\n",
       "      <td>0.000000</td>\n",
       "      <td>16.000000</td>\n",
       "      <td>17.000000</td>\n",
       "    </tr>\n",
       "    <tr>\n",
       "      <th>25%</th>\n",
       "      <td>334.000000</td>\n",
       "      <td>308.000000</td>\n",
       "      <td>40.723627</td>\n",
       "      <td>-73.998102</td>\n",
       "      <td>307.000000</td>\n",
       "      <td>40.723180</td>\n",
       "      <td>-73.998522</td>\n",
       "      <td>16355.000000</td>\n",
       "      <td>NaN</td>\n",
       "      <td>1.000000</td>\n",
       "      <td>NaN</td>\n",
       "      <td>NaN</td>\n",
       "    </tr>\n",
       "    <tr>\n",
       "      <th>50%</th>\n",
       "      <td>504.000000</td>\n",
       "      <td>417.000000</td>\n",
       "      <td>40.738274</td>\n",
       "      <td>-73.990093</td>\n",
       "      <td>417.000000</td>\n",
       "      <td>40.737815</td>\n",
       "      <td>-73.990617</td>\n",
       "      <td>18148.000000</td>\n",
       "      <td>NaN</td>\n",
       "      <td>1.000000</td>\n",
       "      <td>NaN</td>\n",
       "      <td>NaN</td>\n",
       "    </tr>\n",
       "    <tr>\n",
       "      <th>75%</th>\n",
       "      <td>772.000000</td>\n",
       "      <td>492.000000</td>\n",
       "      <td>40.750450</td>\n",
       "      <td>-73.981854</td>\n",
       "      <td>492.000000</td>\n",
       "      <td>40.750200</td>\n",
       "      <td>-73.981854</td>\n",
       "      <td>19903.000000</td>\n",
       "      <td>NaN</td>\n",
       "      <td>1.000000</td>\n",
       "      <td>NaN</td>\n",
       "      <td>NaN</td>\n",
       "    </tr>\n",
       "    <tr>\n",
       "      <th>max</th>\n",
       "      <td>43023.000000</td>\n",
       "      <td>3002.000000</td>\n",
       "      <td>40.771522</td>\n",
       "      <td>-73.950048</td>\n",
       "      <td>3002.000000</td>\n",
       "      <td>40.771522</td>\n",
       "      <td>-73.950048</td>\n",
       "      <td>21690.000000</td>\n",
       "      <td>1999.000000</td>\n",
       "      <td>2.000000</td>\n",
       "      <td>116.000000</td>\n",
       "      <td>89.000000</td>\n",
       "    </tr>\n",
       "  </tbody>\n",
       "</table>\n",
       "</div>"
      ],
      "text/plain": [
       "        tripduration  start station id  start station latitude  \\\n",
       "count  285552.000000     285552.000000           285552.000000   \n",
       "mean      654.325583        443.535006               40.735804   \n",
       "std       900.775928        332.580265                0.018773   \n",
       "min        60.000000         72.000000               40.680342   \n",
       "25%       334.000000        308.000000               40.723627   \n",
       "50%       504.000000        417.000000               40.738274   \n",
       "75%       772.000000        492.000000               40.750450   \n",
       "max     43023.000000       3002.000000               40.771522   \n",
       "\n",
       "       start station longitude  end station id  end station latitude  \\\n",
       "count            285552.000000   285552.000000         285552.000000   \n",
       "mean                -73.990177      440.337557             40.735607   \n",
       "std                   0.011681      326.010259              0.018718   \n",
       "min                 -74.017134       72.000000             40.680342   \n",
       "25%                 -73.998102      307.000000             40.723180   \n",
       "50%                 -73.990093      417.000000             40.737815   \n",
       "75%                 -73.981854      492.000000             40.750200   \n",
       "max                 -73.950048     3002.000000             40.771522   \n",
       "\n",
       "       end station longitude         bikeid     birth year         gender  \\\n",
       "count          285552.000000  285552.000000  279924.000000  285552.000000   \n",
       "mean              -73.990398   18147.291481    1974.951419       1.162485   \n",
       "std                 0.011742    2065.313794      11.574637       0.419490   \n",
       "min               -74.017134   14529.000000    1899.000000       0.000000   \n",
       "25%               -73.998522   16355.000000            NaN       1.000000   \n",
       "50%               -73.990617   18148.000000            NaN       1.000000   \n",
       "75%               -73.981854   19903.000000            NaN       1.000000   \n",
       "max               -73.950048   21690.000000    1999.000000       2.000000   \n",
       "\n",
       "                ageM          ageF  \n",
       "count  227764.000000  52093.000000  \n",
       "mean       40.305272     38.951145  \n",
       "std        11.595240     11.405112  \n",
       "min        16.000000     17.000000  \n",
       "25%              NaN           NaN  \n",
       "50%              NaN           NaN  \n",
       "75%              NaN           NaN  \n",
       "max       116.000000     89.000000  "
      ]
     },
     "execution_count": 12,
     "metadata": {},
     "output_type": "execute_result"
    }
   ],
   "source": [
    "citi_df.describe()"
   ]
  },
  {
   "cell_type": "code",
   "execution_count": 13,
   "metadata": {
    "collapsed": false
   },
   "outputs": [
    {
     "data": {
      "text/plain": [
       "285552"
      ]
     },
     "execution_count": 13,
     "metadata": {},
     "output_type": "execute_result"
    }
   ],
   "source": [
    "citi_df['ageM'].dropna(inplace= True)\n",
    "citi_df['ageF'].dropna(inplace= True)\n",
    "len(citi_df)"
   ]
  },
  {
   "cell_type": "code",
   "execution_count": 14,
   "metadata": {
    "collapsed": false
   },
   "outputs": [
    {
     "data": {
      "text/plain": [
       "<matplotlib.text.Text at 0x7fc6c78d5050>"
      ]
     },
     "execution_count": 14,
     "metadata": {},
     "output_type": "execute_result"
    },
    {
     "data": {
      "image/png": "[encoded data removed]",
      "text/plain": [
       "<matplotlib.figure.Figure at 0x7fc6c7252210>"
      ]
     },
     "metadata": {},
     "output_type": "display_data"
    },
    {
     "data": {
      "image/png": "[encoded data removed]",
      "text/plain": [
       "<matplotlib.figure.Figure at 0x7fc6c7252710>"
      ]
     },
     "metadata": {},
     "output_type": "display_data"
    }
   ],
   "source": [
    "bins = np.arange(10, 99, 5)\n",
    "axM = citi_df.ageM.groupby(pd.cut(citi_df.ageM, bins)).agg([count_nonzero]).plot(kind='bar', legend=False)\n",
    "axM.set_title(\"male riders\")\n",
    "axF = citi_df.ageF.groupby(pd.cut(citi_df.ageF, bins)).agg([count_nonzero]).plot(kind='bar',legend=False)\n",
    "axF.set_title(\"female riders\")"
   ]
  },
  {
   "cell_type": "code",
   "execution_count": 15,
   "metadata": {
    "collapsed": false
   },
   "outputs": [
    {
     "name": "stdout",
     "output_type": "stream",
     "text": [
      "          count_nonzero\n",
      "ageM                   \n",
      "(10, 15]       0.000000\n",
      "(15, 20]       0.001657\n",
      "(20, 25]       0.010955\n",
      "(25, 30]       0.060955\n",
      "(30, 35]       0.065548\n",
      "(35, 40]       0.052146\n",
      "(40, 45]       0.031750\n",
      "(45, 50]       0.018657\n",
      "(50, 55]       0.011015\n",
      "(55, 60]       0.010957\n",
      "(60, 65]       0.008149\n",
      "(65, 70]       0.003203\n",
      "(70, 75]       0.000663\n",
      "(75, 80]       0.000188\n",
      "(80, 85]       0.000002\n",
      "(85, 90]       0.000075\n",
      "(90, 95]       0.000000\n"
     ]
    },
    {
     "data": {
      "text/plain": [
       "<matplotlib.legend.Legend at 0x7fc6c89305d0>"
      ]
     },
     "execution_count": 15,
     "metadata": {},
     "output_type": "execute_result"
    },
    {
     "data": {
      "image/png": "[encoded data removed]",
      "text/plain": [
       "<matplotlib.figure.Figure at 0x7fc6c784f150>"
      ]
     },
     "metadata": {},
     "output_type": "display_data"
    }
   ],
   "source": [
    "csM = citi_df.ageM.groupby(pd.cut(citi_df.ageM, bins)).agg([count_nonzero]).cumsum()\n",
    "\n",
    "csF = citi_df.ageF.groupby(pd.cut(citi_df.ageF, bins)).agg([count_nonzero]).cumsum()\n",
    "\n",
    "print(np.abs(csM / csM.max()-csF / csF.max()))\n",
    "\n",
    "pl.plot(bins[:-1] + 5, csM / csM.max(), label = \"M\")\n",
    "pl.plot(bins[:-1] + 5, csF / csF.max(), label = \"F\")\n",
    "pl.plot(bins[:-1] + 5, np.sqrt(csF / csF.max() - csM / csM.max())**2, 'k-', label = \"difference\")\n",
    "pl.xlabel(\"Age\")\n",
    "pl.ylabel(\"Normalized Cumulative Number\")\n",
    "pl.legend()"
   ]
  },
  {
   "cell_type": "code",
   "execution_count": 34,
   "metadata": {
    "collapsed": false
   },
   "outputs": [
    {
     "name": "stdout",
     "output_type": "stream",
     "text": [
      "Ks_2sampResult(statistic=0.09128675483027056, pvalue=1.1723000718567192e-307)\n"
     ]
    }
   ],
   "source": [
    "ks = scipy.stats.ks_2samp(citi_df.ageM, citi_df.ageF)\n",
    "print(ks)"
   ]
  },
  {
   "cell_type": "markdown",
   "metadata": {},
   "source": [
    "http://stats.stackexchange.com/questions/57885/how-to-interpret-p-value-of-kolmogorov-smirnov-test-python\n",
    "https://www.graphpad.com/guides/prism/6/statistics/index.htm?interpreting_results_kolmogorov-smirnov_test.htm\n",
    "\n",
    "#### What did the scipy KS test return?\n",
    "The K-S test returns two values: the d statistic and the p value. \n",
    "\n",
    "The d statistic is the absolute maximum distance between the CDFs (cumulative distribution function) of the two samples. The closer this value is to zero, the more likely it is that the two samples are drawn from the same distribution. \n",
    "\n",
    "The p value returns answers the following question: \"if the two samples were randomly sampled from identical populations, what is the probability that the two cumulative frequency distributions would be as far apart as observed? More precisely, what is the chance that the value of the Komogorov-Smirnov D statistic would be as large or larger than observed?\" A small p value would lead to the conclusion that the samples had different distributions.\n",
    "\n",
    "#### What does the return mean for the null hypothesis?\n",
    "The null hypothesis for a KS test states that the distributions of the two samples are the same. Because the p value is 0.0 and because the test statistic is not close to zero, the null hypothesis can be rejected."
   ]
  },
  {
   "cell_type": "code",
   "execution_count": 20,
   "metadata": {
    "collapsed": false
   },
   "outputs": [
    {
     "data": {
      "text/html": [
       "<div>\n",
       "<table border=\"1\" class=\"dataframe\">\n",
       "  <thead>\n",
       "    <tr style=\"text-align: right;\">\n",
       "      <th></th>\n",
       "      <th>tripduration</th>\n",
       "      <th>starttime</th>\n",
       "      <th>stoptime</th>\n",
       "      <th>start station id</th>\n",
       "      <th>start station name</th>\n",
       "      <th>start station latitude</th>\n",
       "      <th>start station longitude</th>\n",
       "      <th>end station id</th>\n",
       "      <th>end station name</th>\n",
       "      <th>end station latitude</th>\n",
       "      <th>end station longitude</th>\n",
       "      <th>bikeid</th>\n",
       "      <th>usertype</th>\n",
       "      <th>birth year</th>\n",
       "      <th>gender</th>\n",
       "      <th>ageM</th>\n",
       "      <th>ageF</th>\n",
       "    </tr>\n",
       "  </thead>\n",
       "  <tbody>\n",
       "    <tr>\n",
       "      <th>0</th>\n",
       "      <td>1346</td>\n",
       "      <td>1/1/2015 0:01</td>\n",
       "      <td>1/1/2015 0:24</td>\n",
       "      <td>455</td>\n",
       "      <td>1 Ave &amp; E 44 St</td>\n",
       "      <td>40.750020</td>\n",
       "      <td>-73.969053</td>\n",
       "      <td>265</td>\n",
       "      <td>Stanton St &amp; Chrystie St</td>\n",
       "      <td>40.722293</td>\n",
       "      <td>-73.991475</td>\n",
       "      <td>18660</td>\n",
       "      <td>Subscriber</td>\n",
       "      <td>1960.0</td>\n",
       "      <td>2</td>\n",
       "      <td>NaN</td>\n",
       "      <td>55.0</td>\n",
       "    </tr>\n",
       "    <tr>\n",
       "      <th>200</th>\n",
       "      <td>571</td>\n",
       "      <td>1/1/2015 1:36</td>\n",
       "      <td>1/1/2015 1:46</td>\n",
       "      <td>297</td>\n",
       "      <td>E 15 St &amp; 3 Ave</td>\n",
       "      <td>40.734232</td>\n",
       "      <td>-73.986923</td>\n",
       "      <td>394</td>\n",
       "      <td>E 9 St &amp; Avenue C</td>\n",
       "      <td>40.725213</td>\n",
       "      <td>-73.977688</td>\n",
       "      <td>18003</td>\n",
       "      <td>Subscriber</td>\n",
       "      <td>1965.0</td>\n",
       "      <td>1</td>\n",
       "      <td>50.0</td>\n",
       "      <td>NaN</td>\n",
       "    </tr>\n",
       "    <tr>\n",
       "      <th>400</th>\n",
       "      <td>364</td>\n",
       "      <td>1/1/2015 2:52</td>\n",
       "      <td>1/1/2015 2:58</td>\n",
       "      <td>284</td>\n",
       "      <td>Greenwich Ave &amp; 8 Ave</td>\n",
       "      <td>40.739017</td>\n",
       "      <td>-74.002638</td>\n",
       "      <td>347</td>\n",
       "      <td>W Houston St &amp; Hudson St</td>\n",
       "      <td>40.728739</td>\n",
       "      <td>-74.007488</td>\n",
       "      <td>21664</td>\n",
       "      <td>Subscriber</td>\n",
       "      <td>1989.0</td>\n",
       "      <td>1</td>\n",
       "      <td>26.0</td>\n",
       "      <td>NaN</td>\n",
       "    </tr>\n",
       "    <tr>\n",
       "      <th>600</th>\n",
       "      <td>284</td>\n",
       "      <td>1/1/2015 7:02</td>\n",
       "      <td>1/1/2015 7:07</td>\n",
       "      <td>300</td>\n",
       "      <td>Shevchenko Pl &amp; E 7 St</td>\n",
       "      <td>40.728145</td>\n",
       "      <td>-73.990214</td>\n",
       "      <td>503</td>\n",
       "      <td>E 20 St &amp; Park Ave</td>\n",
       "      <td>40.738274</td>\n",
       "      <td>-73.987520</td>\n",
       "      <td>15694</td>\n",
       "      <td>Subscriber</td>\n",
       "      <td>1957.0</td>\n",
       "      <td>1</td>\n",
       "      <td>58.0</td>\n",
       "      <td>NaN</td>\n",
       "    </tr>\n",
       "    <tr>\n",
       "      <th>800</th>\n",
       "      <td>650</td>\n",
       "      <td>1/1/2015 9:41</td>\n",
       "      <td>1/1/2015 9:52</td>\n",
       "      <td>394</td>\n",
       "      <td>E 9 St &amp; Avenue C</td>\n",
       "      <td>40.725213</td>\n",
       "      <td>-73.977688</td>\n",
       "      <td>293</td>\n",
       "      <td>Lafayette St &amp; E 8 St</td>\n",
       "      <td>40.730287</td>\n",
       "      <td>-73.990765</td>\n",
       "      <td>14994</td>\n",
       "      <td>Customer</td>\n",
       "      <td>NaN</td>\n",
       "      <td>0</td>\n",
       "      <td>NaN</td>\n",
       "      <td>NaN</td>\n",
       "    </tr>\n",
       "    <tr>\n",
       "      <th>1000</th>\n",
       "      <td>581</td>\n",
       "      <td>1/1/2015 10:46</td>\n",
       "      <td>1/1/2015 10:56</td>\n",
       "      <td>466</td>\n",
       "      <td>W 25 St &amp; 6 Ave</td>\n",
       "      <td>40.743954</td>\n",
       "      <td>-73.991449</td>\n",
       "      <td>375</td>\n",
       "      <td>Mercer St &amp; Bleecker St</td>\n",
       "      <td>40.726795</td>\n",
       "      <td>-73.996951</td>\n",
       "      <td>15552</td>\n",
       "      <td>Subscriber</td>\n",
       "      <td>1984.0</td>\n",
       "      <td>1</td>\n",
       "      <td>31.0</td>\n",
       "      <td>NaN</td>\n",
       "    </tr>\n",
       "    <tr>\n",
       "      <th>1200</th>\n",
       "      <td>1052</td>\n",
       "      <td>1/1/2015 11:30</td>\n",
       "      <td>1/1/2015 11:48</td>\n",
       "      <td>160</td>\n",
       "      <td>E 37 St &amp; Lexington Ave</td>\n",
       "      <td>40.748238</td>\n",
       "      <td>-73.978311</td>\n",
       "      <td>116</td>\n",
       "      <td>W 17 St &amp; 8 Ave</td>\n",
       "      <td>40.741776</td>\n",
       "      <td>-74.001497</td>\n",
       "      <td>21113</td>\n",
       "      <td>Subscriber</td>\n",
       "      <td>1955.0</td>\n",
       "      <td>1</td>\n",
       "      <td>60.0</td>\n",
       "      <td>NaN</td>\n",
       "    </tr>\n",
       "    <tr>\n",
       "      <th>1400</th>\n",
       "      <td>660</td>\n",
       "      <td>1/1/2015 12:05</td>\n",
       "      <td>1/1/2015 12:16</td>\n",
       "      <td>439</td>\n",
       "      <td>E 4 St &amp; 2 Ave</td>\n",
       "      <td>40.726281</td>\n",
       "      <td>-73.989780</td>\n",
       "      <td>382</td>\n",
       "      <td>University Pl &amp; E 14 St</td>\n",
       "      <td>40.734927</td>\n",
       "      <td>-73.992005</td>\n",
       "      <td>16780</td>\n",
       "      <td>Subscriber</td>\n",
       "      <td>1986.0</td>\n",
       "      <td>1</td>\n",
       "      <td>29.0</td>\n",
       "      <td>NaN</td>\n",
       "    </tr>\n",
       "    <tr>\n",
       "      <th>1600</th>\n",
       "      <td>480</td>\n",
       "      <td>1/1/2015 12:42</td>\n",
       "      <td>1/1/2015 12:50</td>\n",
       "      <td>345</td>\n",
       "      <td>W 13 St &amp; 6 Ave</td>\n",
       "      <td>40.736494</td>\n",
       "      <td>-73.997044</td>\n",
       "      <td>432</td>\n",
       "      <td>E 7 St &amp; Avenue A</td>\n",
       "      <td>40.726218</td>\n",
       "      <td>-73.983799</td>\n",
       "      <td>16266</td>\n",
       "      <td>Subscriber</td>\n",
       "      <td>1982.0</td>\n",
       "      <td>1</td>\n",
       "      <td>33.0</td>\n",
       "      <td>NaN</td>\n",
       "    </tr>\n",
       "    <tr>\n",
       "      <th>1800</th>\n",
       "      <td>1324</td>\n",
       "      <td>1/1/2015 13:12</td>\n",
       "      <td>1/1/2015 13:35</td>\n",
       "      <td>426</td>\n",
       "      <td>West St &amp; Chambers St</td>\n",
       "      <td>40.717548</td>\n",
       "      <td>-74.013221</td>\n",
       "      <td>330</td>\n",
       "      <td>Reade St &amp; Broadway</td>\n",
       "      <td>40.714505</td>\n",
       "      <td>-74.005628</td>\n",
       "      <td>20087</td>\n",
       "      <td>Customer</td>\n",
       "      <td>NaN</td>\n",
       "      <td>0</td>\n",
       "      <td>NaN</td>\n",
       "      <td>NaN</td>\n",
       "    </tr>\n",
       "  </tbody>\n",
       "</table>\n",
       "</div>"
      ],
      "text/plain": [
       "      tripduration       starttime        stoptime  start station id  \\\n",
       "0             1346   1/1/2015 0:01   1/1/2015 0:24               455   \n",
       "200            571   1/1/2015 1:36   1/1/2015 1:46               297   \n",
       "400            364   1/1/2015 2:52   1/1/2015 2:58               284   \n",
       "600            284   1/1/2015 7:02   1/1/2015 7:07               300   \n",
       "800            650   1/1/2015 9:41   1/1/2015 9:52               394   \n",
       "1000           581  1/1/2015 10:46  1/1/2015 10:56               466   \n",
       "1200          1052  1/1/2015 11:30  1/1/2015 11:48               160   \n",
       "1400           660  1/1/2015 12:05  1/1/2015 12:16               439   \n",
       "1600           480  1/1/2015 12:42  1/1/2015 12:50               345   \n",
       "1800          1324  1/1/2015 13:12  1/1/2015 13:35               426   \n",
       "\n",
       "           start station name  start station latitude  \\\n",
       "0             1 Ave & E 44 St               40.750020   \n",
       "200           E 15 St & 3 Ave               40.734232   \n",
       "400     Greenwich Ave & 8 Ave               40.739017   \n",
       "600    Shevchenko Pl & E 7 St               40.728145   \n",
       "800         E 9 St & Avenue C               40.725213   \n",
       "1000          W 25 St & 6 Ave               40.743954   \n",
       "1200  E 37 St & Lexington Ave               40.748238   \n",
       "1400           E 4 St & 2 Ave               40.726281   \n",
       "1600          W 13 St & 6 Ave               40.736494   \n",
       "1800    West St & Chambers St               40.717548   \n",
       "\n",
       "      start station longitude  end station id          end station name  \\\n",
       "0                  -73.969053             265  Stanton St & Chrystie St   \n",
       "200                -73.986923             394         E 9 St & Avenue C   \n",
       "400                -74.002638             347  W Houston St & Hudson St   \n",
       "600                -73.990214             503        E 20 St & Park Ave   \n",
       "800                -73.977688             293     Lafayette St & E 8 St   \n",
       "1000               -73.991449             375   Mercer St & Bleecker St   \n",
       "1200               -73.978311             116           W 17 St & 8 Ave   \n",
       "1400               -73.989780             382   University Pl & E 14 St   \n",
       "1600               -73.997044             432         E 7 St & Avenue A   \n",
       "1800               -74.013221             330       Reade St & Broadway   \n",
       "\n",
       "      end station latitude  end station longitude  bikeid    usertype  \\\n",
       "0                40.722293             -73.991475   18660  Subscriber   \n",
       "200              40.725213             -73.977688   18003  Subscriber   \n",
       "400              40.728739             -74.007488   21664  Subscriber   \n",
       "600              40.738274             -73.987520   15694  Subscriber   \n",
       "800              40.730287             -73.990765   14994    Customer   \n",
       "1000             40.726795             -73.996951   15552  Subscriber   \n",
       "1200             40.741776             -74.001497   21113  Subscriber   \n",
       "1400             40.734927             -73.992005   16780  Subscriber   \n",
       "1600             40.726218             -73.983799   16266  Subscriber   \n",
       "1800             40.714505             -74.005628   20087    Customer   \n",
       "\n",
       "      birth year  gender  ageM  ageF  \n",
       "0         1960.0       2   NaN  55.0  \n",
       "200       1965.0       1  50.0   NaN  \n",
       "400       1989.0       1  26.0   NaN  \n",
       "600       1957.0       1  58.0   NaN  \n",
       "800          NaN       0   NaN   NaN  \n",
       "1000      1984.0       1  31.0   NaN  \n",
       "1200      1955.0       1  60.0   NaN  \n",
       "1400      1986.0       1  29.0   NaN  \n",
       "1600      1982.0       1  33.0   NaN  \n",
       "1800         NaN       0   NaN   NaN  "
      ]
     },
     "execution_count": 20,
     "metadata": {},
     "output_type": "execute_result"
    }
   ],
   "source": [
    "citi_df['ageM'].dropna(inplace= True)\n",
    "citi_df['ageF'].dropna(inplace= True)\n",
    "len(citi_df)\n",
    "reducted_citi_df = citi_df[::200]\n",
    "reducted_citi_df.head(10)"
   ]
  },
  {
   "cell_type": "code",
   "execution_count": 33,
   "metadata": {
    "collapsed": false
   },
   "outputs": [
    {
     "name": "stdout",
     "output_type": "stream",
     "text": [
      "Ks_2sampResult(statistic=0.10841998568198413, pvalue=0.015689150327056155)\n"
     ]
    }
   ],
   "source": [
    "reducted_citi_df['ageM'].dropna(inplace= True)\n",
    "reducted_citi_df['ageF'].dropna(inplace= True)\n",
    "ks_2 = scipy.stats.ks_2samp(reducted_citi_df.ageM, reducted_citi_df.ageF)\n",
    "print(ks_2)"
   ]
  },
  {
   "cell_type": "markdown",
   "metadata": {},
   "source": [
    "#### H0: The null hypothesis for KS tests states that the distributions of the two samples are the same\n",
    "\n",
    "#### HA: The alternative hypothesis states that the distributions of two samples are not the same\n",
    "\n",
    "Given the low pvalue, I reject the null hypothesis"
   ]
  },
  {
   "cell_type": "code",
   "execution_count": 24,
   "metadata": {
    "collapsed": false
   },
   "outputs": [
    {
     "name": "stdout",
     "output_type": "stream",
     "text": [
      "227764\n"
     ]
    }
   ],
   "source": [
    "men = sorted(citi_df.ageM)\n",
    "print(len(men))\n",
    "#print(227764/52093)\n",
    "\n",
    "men_2 = men[::4]\n",
    "men_3 = men_2[2424:(len(men_2)-2424)]"
   ]
  },
  {
   "cell_type": "code",
   "execution_count": 25,
   "metadata": {
    "collapsed": false
   },
   "outputs": [
    {
     "name": "stdout",
     "output_type": "stream",
     "text": [
      "52093\n"
     ]
    }
   ],
   "source": [
    "women = sorted(citi_df.ageF)\n",
    "print(len(women))"
   ]
  },
  {
   "cell_type": "code",
   "execution_count": 26,
   "metadata": {
    "collapsed": false
   },
   "outputs": [
    {
     "name": "stdout",
     "output_type": "stream",
     "text": [
      "(0.9946026649750308, 0.0)\n"
     ]
    }
   ],
   "source": [
    "#determines the degree to which a relationship is linear\n",
    "#draws a line of best fit through the data of two variables, where the correlation coefficient, r, indicates how \n",
    "#far away all these points are to the line of best fit\n",
    "#must be ordered by age - either largest to smallest or smallest to largest\n",
    "#must be grouped by gender\n",
    "pearson = scipy.stats.pearsonr(men_3, women)\n",
    "print(pearson)"
   ]
  },
  {
   "cell_type": "markdown",
   "metadata": {},
   "source": [
    "#### H0: There is no linear relationship between the age of men and the age of women, r = 0\n",
    "\n",
    "#### HA: There is a linear relationship between the age of men and the age women,  r != 0\n",
    "\n",
    "Given the correlation coefficient value of .9946 and the p value of 0.0, I reject the null hypothesis. "
   ]
  },
  {
   "cell_type": "code",
   "execution_count": 27,
   "metadata": {
    "collapsed": false
   },
   "outputs": [
    {
     "data": {
      "text/html": [
       "<div>\n",
       "<table border=\"1\" class=\"dataframe\">\n",
       "  <thead>\n",
       "    <tr style=\"text-align: right;\">\n",
       "      <th></th>\n",
       "      <th>sorted_men</th>\n",
       "      <th>sorted_women</th>\n",
       "    </tr>\n",
       "  </thead>\n",
       "  <tbody>\n",
       "    <tr>\n",
       "      <th>0</th>\n",
       "      <td>24.0</td>\n",
       "      <td>17.0</td>\n",
       "    </tr>\n",
       "    <tr>\n",
       "      <th>1</th>\n",
       "      <td>24.0</td>\n",
       "      <td>17.0</td>\n",
       "    </tr>\n",
       "    <tr>\n",
       "      <th>2</th>\n",
       "      <td>24.0</td>\n",
       "      <td>17.0</td>\n",
       "    </tr>\n",
       "    <tr>\n",
       "      <th>3</th>\n",
       "      <td>24.0</td>\n",
       "      <td>17.0</td>\n",
       "    </tr>\n",
       "    <tr>\n",
       "      <th>4</th>\n",
       "      <td>24.0</td>\n",
       "      <td>17.0</td>\n",
       "    </tr>\n",
       "  </tbody>\n",
       "</table>\n",
       "</div>"
      ],
      "text/plain": [
       "   sorted_men  sorted_women\n",
       "0        24.0          17.0\n",
       "1        24.0          17.0\n",
       "2        24.0          17.0\n",
       "3        24.0          17.0\n",
       "4        24.0          17.0"
      ]
     },
     "execution_count": 27,
     "metadata": {},
     "output_type": "execute_result"
    }
   ],
   "source": [
    "spearman_df = pd.DataFrame()\n",
    "spearman_df['sorted_men'] = men_3\n",
    "spearman_df['sorted_women'] = women\n",
    "spearman_df.head()"
   ]
  },
  {
   "cell_type": "code",
   "execution_count": 28,
   "metadata": {
    "collapsed": false
   },
   "outputs": [
    {
     "name": "stdout",
     "output_type": "stream",
     "text": [
      "SpearmanrResult(correlation=0.99916093558745944, pvalue=0.0)\n"
     ]
    }
   ],
   "source": [
    "#correlation coefficient is a nonparametric measure of the strength and direction of association that exists \n",
    "#between two variables measured on at least an ordinal scale\n",
    "spearman = scipy.stats.spearmanr(spearman_df)\n",
    "print(spearman)"
   ]
  },
  {
   "cell_type": "markdown",
   "metadata": {},
   "source": [
    "The Spearman correlation coefficient is defined as the Pearson correlation coefficient between the ranked variables.\n",
    "\n",
    "#### H0: There is no relationship between the ranks of the age of men and the age of women\n",
    "\n",
    "#### HA: There is a relationship between the ranks of the age of men and the age women\n",
    "\n",
    "Given the correlation coefficient value of .999 and the p value of 0.0, I reject the null hypothesis. "
   ]
  }
 ],
 "metadata": {
  "kernelspec": {
   "display_name": "PUI2016_Python2",
   "language": "python",
   "name": "pui2016_python2"
  },
  "language_info": {
   "codemirror_mode": {
    "name": "ipython",
    "version": 2
   },
   "file_extension": ".py",
   "mimetype": "text/x-python",
   "name": "python",
   "nbconvert_exporter": "python",
   "pygments_lexer": "ipython2",
   "version": "2.7.12"
  }
 },
 "nbformat": 4,
 "nbformat_minor": 0
}
