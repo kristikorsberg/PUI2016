{
 "cells": [
  {
   "cell_type": "code",
   "execution_count": 1,
   "metadata": {
    "collapsed": true
   },
   "outputs": [],
   "source": [
    "#Reproduce the analysis of the Hard to Employ programs for NY.\n",
    "#Reproduce the results in cell 2 of Table 2.1 (Ever employed in a CEO \n",
    "#transitional job), and cell 10 (Convicted of a felony). Fill in the \n",
    "#cells of the scheleton notebook as you are asked to.\n",
    "\n",
    "#The second null hypothesis should be stated (for the \"Convicted of a \n",
    "#felony after 3 years\" data).\n",
    "\n",
    "#Both tests, Z and chi-sq, should be completed for the \"Convicted of a \n",
    "#felony after 3 years\" data.\n",
    "\n",
    "#The result of the test in term the rejection of the Null should be \n",
    "#stated in all cases (for both tests and both for the original \"Ever \n",
    "#employed in a CEO transitional job\" data and the \"Convicted of a felony \n",
    "#after 3 years data\")."
   ]
  },
  {
   "cell_type": "code",
   "execution_count": 6,
   "metadata": {
    "collapsed": false
   },
   "outputs": [
    {
     "name": "stdout",
     "output_type": "stream",
     "text": [
      "Populating the interactive namespace from numpy and matplotlib\n"
     ]
    }
   ],
   "source": [
    "import os\n",
    "import sys\n",
    "import numpy as np\n",
    "import pylab as pl\n",
    "import pandas as pd\n",
    "%pylab inline"
   ]
  },
  {
   "cell_type": "code",
   "execution_count": 6,
   "metadata": {
    "collapsed": false
   },
   "outputs": [],
   "source": [
    "#null hypothesis: the percent of former prisoners employed after release\n",
    "#is the same or lower for candidates who participated in the program as\n",
    "#for the control group. \n",
    "#p=.05\n",
    "#H0: P0 (control) - P1 (program) >= 0\n",
    "#HA: P0 (control) - P1 (program) < 0"
   ]
  },
  {
   "cell_type": "code",
   "execution_count": 7,
   "metadata": {
    "collapsed": true
   },
   "outputs": [],
   "source": [
    "#conducting a test of proportions, which is a binomial distribution question\n",
    "#for each participant, the former inmate either was or was not ever \n",
    "#employed in a CEO transitional job"
   ]
  },
  {
   "cell_type": "code",
   "execution_count": 8,
   "metadata": {
    "collapsed": true
   },
   "outputs": [],
   "source": [
    "#P_0 = 3.5 * .01\n",
    "#P_1 = 70.1 * .01\n",
    "#n_0 = 409\n",
    "#n_1 = 564"
   ]
  },
  {
   "cell_type": "code",
   "execution_count": 9,
   "metadata": {
    "collapsed": true
   },
   "outputs": [],
   "source": [
    "#given this information, we have two options. we can use a z test or a chi\n",
    "#squared test.\n",
    "#the z test compares the standard deviation of the expected distribution \n",
    "#and the observed result. it tells you how many standard deviations from \n",
    "#the tail an observation is, under the assumption of normality"
   ]
  },
  {
   "cell_type": "code",
   "execution_count": 10,
   "metadata": {
    "collapsed": true
   },
   "outputs": [],
   "source": [
    "#define the sample proportion first\n",
    "#sp = (number of people in control group employed in CEO transitional job)\n",
    "#+ (number of people in program group employed in CEO transitional job) /\n",
    "#(total sample size, control group plus program group)\n",
    "\n",
    "#sp = (P_0 * n_0 + P_1 * n_1) / (n_1 + n_0)\n",
    "#print (sp)"
   ]
  },
  {
   "cell_type": "code",
   "execution_count": 11,
   "metadata": {
    "collapsed": true
   },
   "outputs": [],
   "source": [
    "#the standard deviation equation for a binomial distribution is:\n",
    "#square_root((p(1 - p))/n)\n",
    "\n",
    "#the standard deviation approximation for two samples with a binomial\n",
    "#distribution is:\n",
    "#square root((p(1-p)/n_0) + ((p(1-p))/n_1))\n",
    "#estimate 'p' with the following equation:\n",
    "#(P_0*n_0+P_1*n_1)/(n_0+n_1)"
   ]
  },
  {
   "cell_type": "code",
   "execution_count": 12,
   "metadata": {
    "collapsed": true
   },
   "outputs": [],
   "source": [
    "#can use the below formula to compute a z statistic for the diference in\n",
    "#proportions between two populations\n",
    "#sample size assumption is (np >= 5, n(1-p) >=5) (for both samples in this\n",
    "#case)\n",
    "#remember, any reference to 'proportion' is a reference to the .035 and .701\n",
    "#values that were calculated from the percentage of people in the control\n",
    "#group and in the program group who ever had a CEO transitional job"
   ]
  },
  {
   "cell_type": "code",
   "execution_count": 13,
   "metadata": {
    "collapsed": true
   },
   "outputs": [],
   "source": [
    "#the z statistic is calculated with the following equation:\n",
    "#(proportion 1 - proportion 2) / sample standard deviation\n",
    "#in this case, proportions 1 and 2 are control (P0) and program (P1)\n",
    "#respectively"
   ]
  },
  {
   "cell_type": "code",
   "execution_count": 14,
   "metadata": {
    "collapsed": true
   },
   "outputs": [],
   "source": [
    "#to calculate the standard error, AKA the estimate of the sampling \n",
    "#distribution standard deviation, do the following:\n",
    "#calculate the estimate of p, which is (P_0 * n_0 + P_1 * n_1) / (n_0 + n_1)\n",
    "#then use p in the standard error formula:\n",
    "#se = np.sqrt(p * (1 - p) * (1.0 / n0 + 1.0 / n1)) "
   ]
  },
  {
   "cell_type": "code",
   "execution_count": 15,
   "metadata": {
    "collapsed": true
   },
   "outputs": [],
   "source": [
    "#next, we calculate the z score, which answers the question of how many \n",
    "#standard deviations away from the population parameter:\n",
    "#z score = P_0 - P_1 / pop_SD"
   ]
  },
  {
   "cell_type": "code",
   "execution_count": 16,
   "metadata": {
    "collapsed": true
   },
   "outputs": [],
   "source": [
    "#WHAT IS THIS?\n",
    "#z_2y = zscore(P_1, P_0, se(p(P_0, P_1, n_0, n_1), n_0, n_1))"
   ]
  },
  {
   "cell_type": "code",
   "execution_count": 17,
   "metadata": {
    "collapsed": true
   },
   "outputs": [],
   "source": [
    "#if the z statistic (OR Z SCORE?) is less than the significance value \n",
    "#stated above, then reject the null hypothesis"
   ]
  },
  {
   "cell_type": "code",
   "execution_count": 18,
   "metadata": {
    "collapsed": true
   },
   "outputs": [],
   "source": [
    "#p-value = 1-P #WHAT IS THIS?\n",
    "#WHAT IS THIS? p_2y = 1 - 0.9998"
   ]
  },
  {
   "cell_type": "markdown",
   "metadata": {},
   "source": [
    "### Question 1: \n",
    "Was there a difference in recidivism rates of the control and program groups for those individuals who were convicted of a felony?"
   ]
  },
  {
   "cell_type": "markdown",
   "metadata": {},
   "source": [
    "#### Null Hypothesis:\n",
    "The recidivism rate of those individuals who were convicted of felony crimes is lower for those who participated in the 'Hard-to-Employ' program than for those who did not participate in the program. \n",
    "\n",
    "#### H0: \n",
    "prop_control - prop_program <= 0\n",
    "\n",
    "#### Alternative Hypothesis: \n",
    "The recidivism rate of those individuals who were convicted of felony crimes is lower for those who participated in the 'Hard-to-Employ' program than for those who did not participate in the program. \n",
    "\n",
    "#### HA:\n",
    "prop_control - prop_program > 0\n",
    "\n",
    "#### Significance Level: \n",
    "p = .05"
   ]
  },
  {
   "cell_type": "code",
   "execution_count": 1,
   "metadata": {
    "collapsed": true
   },
   "outputs": [],
   "source": [
    "prop_control = 11.7 * .01 #P0\n",
    "prop_program = 10.0 * .01 #P1\n",
    "n_control = 409 #n0\n",
    "n_program = 564 #n1\n",
    "alpha = .05"
   ]
  },
  {
   "cell_type": "code",
   "execution_count": 2,
   "metadata": {
    "collapsed": false
   },
   "outputs": [
    {
     "name": "stdout",
     "output_type": "stream",
     "text": [
      "must assess the statistical significance\n"
     ]
    }
   ],
   "source": [
    "if prop_control - prop_program <= 0:\n",
    "    # we are done\n",
    "    print(\"the Null holds\")\n",
    "else:\n",
    "    print(\"must assess the statistical significance\")"
   ]
  },
  {
   "cell_type": "code",
   "execution_count": 3,
   "metadata": {
    "collapsed": false
   },
   "outputs": [
    {
     "name": "stdout",
     "output_type": "stream",
     "text": [
      "0.107145940391\n"
     ]
    }
   ],
   "source": [
    "#define the sample proportion first\n",
    "sample_sd = (prop_control * n_control + prop_program * n_program) / (n_control + n_program)\n",
    "print(sample_sd)"
   ]
  },
  {
   "cell_type": "code",
   "execution_count": 4,
   "metadata": {
    "collapsed": true
   },
   "outputs": [],
   "source": [
    "#pooled sample proportion\n",
    "p = lambda prop_control, prop_program, n_control, n_program: (prop_control * n_control + prop_program * n_program) / (n_control + n_program)\n",
    "\n",
    "#standard error\n",
    "se = lambda p, n_control, n_program: np.sqrt(p * (1 - p) * (1.0 / n_control + 1.0 / n_program)) "
   ]
  },
  {
   "cell_type": "code",
   "execution_count": 8,
   "metadata": {
    "collapsed": false
   },
   "outputs": [
    {
     "name": "stdout",
     "output_type": "stream",
     "text": [
      "0.846282982605\n"
     ]
    }
   ],
   "source": [
    "zscore = lambda prop_control, prop_program, s : (prop_control - prop_program) / s\n",
    "z_2y = zscore(prop_control, prop_program, se(p(prop_control, prop_program, n_control, n_program), n_control, n_program))\n",
    "print(z_2y)"
   ]
  },
  {
   "cell_type": "code",
   "execution_count": 10,
   "metadata": {
    "collapsed": false
   },
   "outputs": [
    {
     "name": "stdout",
     "output_type": "stream",
     "text": [
      "is the p value 0.18 smaller than the critical value 0.05?\n",
      "NO!\n",
      "the null hypothesis is not rejected\n"
     ]
    }
   ],
   "source": [
    "#because the z score is .846, it's a good idea to calculate the average table value by taking the z score of .8 \n",
    "#and .9\n",
    "area = (.8023+.8289)/2\n",
    "p_2y = 1 - area\n",
    "\n",
    "def report_result(p,a):\n",
    "    print ('is the p value ' + \n",
    "           '{0:.2f} smaller than the critical value {1:.2f}?'.format(p,a))\n",
    "    if p < a:\n",
    "        print (\"YES!\")\n",
    "    else: \n",
    "        print (\"NO!\")  \n",
    "    print ('the null hypothesis is {}'.format(\\\n",
    "                            'rejected' if p < a  else 'not rejected') )\n",
    "report_result(p_2y, alpha)"
   ]
  },
  {
   "cell_type": "code",
   "execution_count": 37,
   "metadata": {
    "collapsed": true
   },
   "outputs": [],
   "source": [
    "#how to read the chi-squared table is two-dimensional because the distribution\n",
    "#changes based on the number of degrees of freedom\n",
    "\n",
    "#degrees of freedom = # of observations - # dependent variables\n",
    "#for a test of proportions between two samples, DF = 1\n",
    "\n",
    "#go to the chi-squared table and check the expected value based on the\n",
    "#degrees of freedom and p-value. if the chi-squared statistic is \n",
    "#greater than the minimum chi squared significance value, then you can\n",
    "#reject the null hypothesis\n",
    "\n",
    "#the chi squared statistic is calculated by summing the squared distances\n",
    "#between the observed and the expected values and dividing by the \n",
    "#expected value.\n",
    "#chi_stat = ((control_count-expected)**2 + (program_count-expected)**2)/expected"
   ]
  },
  {
   "cell_type": "markdown",
   "metadata": {},
   "source": [
    "### Question 2:\n",
    "\n",
    "Null and alternative hypotheses and significance level remain the same for the chi-squared test as they were for the z test."
   ]
  },
  {
   "cell_type": "code",
   "execution_count": 59,
   "metadata": {
    "collapsed": false
   },
   "outputs": [
    {
     "name": "stdout",
     "output_type": "stream",
     "text": [
      "[[  47.853  361.147]\n",
      " [  56.4    507.6  ]]\n"
     ]
    }
   ],
   "source": [
    "sample_values = np.array([[0.117 * 409, 0.883 * 409], [0.1 * 564, 0.9 * 564]])\n",
    "print(sample_values)"
   ]
  },
  {
   "cell_type": "code",
   "execution_count": 56,
   "metadata": {
    "collapsed": false
   },
   "outputs": [
    {
     "name": "stdout",
     "output_type": "stream",
     "text": [
      "DOF = 1\n",
      "52.4768554286\n"
     ]
    }
   ],
   "source": [
    "expected = sample_values[0][0] + sample_values[1][0]\n",
    "print(\"DOF = 1\")\n",
    "chi_stat = ((control_count-expected)**2 + (program_count-expected)**2)/expected\n",
    "print(chi_stat)"
   ]
  },
  {
   "cell_type": "code",
   "execution_count": 58,
   "metadata": {
    "collapsed": false
   },
   "outputs": [
    {
     "name": "stdout",
     "output_type": "stream",
     "text": [
      "0.716194886647\n"
     ]
    }
   ],
   "source": [
    "def evalChisq(values):\n",
    "    values = np.array(values)\n",
    "    E = np.empty_like(values)\n",
    "    for j in range(len(values[0])):\n",
    "        for i in range(2):\n",
    "            E[i][j] = ((values[i,:].sum() * values[:,j].sum()) / \n",
    "                        (values).sum())\n",
    "    return ((values - E)**2 / E).sum()\n",
    "print(evalChisq(sample_values))"
   ]
  },
  {
   "cell_type": "markdown",
   "metadata": {},
   "source": [
    "Because the chi-squared score was .716 and the chi-squared distribution table indicated the value of .05 significance and 1 DOF is equal to 3.84, I canot reject the null hypothesis."
   ]
  }
 ],
 "metadata": {
  "anaconda-cloud": {},
  "kernelspec": {
   "display_name": "Python [Anaconda]",
   "language": "python",
   "name": "Python [Anaconda]"
  },
  "language_info": {
   "codemirror_mode": {
    "name": "ipython",
    "version": 2
   },
   "file_extension": ".py",
   "mimetype": "text/x-python",
   "name": "python",
   "nbconvert_exporter": "python",
   "pygments_lexer": "ipython2",
   "version": "2.7.12"
  }
 },
 "nbformat": 4,
 "nbformat_minor": 0
}
