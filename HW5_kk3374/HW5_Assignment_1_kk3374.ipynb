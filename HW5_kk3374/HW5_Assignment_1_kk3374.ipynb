{
 "cells": [
  {
   "cell_type": "code",
   "execution_count": 24,
   "metadata": {
    "collapsed": false
   },
   "outputs": [
    {
     "name": "stdout",
     "output_type": "stream",
     "text": [
      "Populating the interactive namespace from numpy and matplotlib\n"
     ]
    },
    {
     "name": "stderr",
     "output_type": "stream",
     "text": [
      "WARNING: pylab import has clobbered these variables: ['norm']\n",
      "`%matplotlib` prevents importing * from pylab and numpy\n"
     ]
    }
   ],
   "source": [
    "from __future__  import print_function, division\n",
    "import pylab as pl\n",
    "import pandas as pd\n",
    "import numpy as np\n",
    "import os\n",
    "import csv\n",
    "import StringIO\n",
    "import requests\n",
    "import zipfile\n",
    "import statsmodels\n",
    "from scipy.stats import norm\n",
    "from scipy.stats import rv_continuous\n",
    "\n",
    "%pylab inline\n",
    "\n",
    "import os\n",
    "import json"
   ]
  },
  {
   "cell_type": "markdown",
   "metadata": {},
   "source": [
    "### Directions\n",
    "\n",
    "Use two tests; KS, AD, KL, or Chi Squared (goodness of fit), to test whether a Gaussian model for age distribution of Citi Bike drivers is sensible or if there is a better fit wth another model. These tests will tell you how well the selected distribution fits the data; the test statistic will provide some \n",
    "\n",
    "Test the normal distribution (Gaussain) and one other distribution; Poisson, Binomial, Chi Squared, or Log Normal. \n",
    "\n",
    "#### KS Test\n",
    "Determines whether a sample comes from a population with a specific distribution. It does not require the population distribution to be normal.\n",
    "\n",
    "H0: The data follow the specified distribution.\n",
    "\n",
    "HA: The data do not follow the specified distribution.\n",
    "\n",
    "The hypothesis regarding the distributional form is rejected at the chosen significance level (alpha) if the test statistic, D, is greater than the critical value obtained from a table. \n",
    "\n",
    "#### Anderson-Darling Test\n",
    "The Anderson-Darling procedure is a general test to compare the fit of an observed cumulative distribution function to an expected cumulative distribution function. This test gives more weight to the tails than the Kolmogorov-Smirnov test.\n",
    "\n",
    "H0: The data follow the specified distribution.\n",
    "\n",
    "HA: The data do not follow the specified distribution.\n",
    "\n",
    "The hypothesis regarding the distributional form is rejected at the chosen significance level (alpha) if the test statistic, A2, is greater than the critical value obtained from a table.\n",
    "\n",
    "#### Chi-Squared Test\n",
    "The Chi-Squared test is used to determine if a sample comes from a population with a specific distribution. This test is applied to binned data, so the value of the test statistic depends on how the data is binned. There are no specific rules for selecting the number of bins, however there are several formulas that can be used to calculate this number based on 'n'. \n",
    "\n",
    "H0: The data follow the specified distribution.\n",
    "\n",
    "HA: The data do not follow the specified distribution.\n",
    "\n",
    "The hypothesis regarding the distributional form is rejected at the chosen significance level if the test statistic is greater than the critical value defined as 'the Chi-Squared inverse CDF with k-1 degrees of freedom and a significance level of significance level.\n",
    "\n",
    "#### Kullback–Leibler Test\n",
    "A measure of the difference between two probability distributions P and Q. It is not symmetric in P and Q. In applications, P typically represents the \"true\" distribution of data, observations, or a precisely calculated theoretical distribution, while Q typically represents a theory, model, description, or approximation of P."
   ]
  },
  {
   "cell_type": "code",
   "execution_count": 25,
   "metadata": {
    "collapsed": false
   },
   "outputs": [],
   "source": [
    "datestring = '201604'\n",
    "r = requests.get(\"https://s3.amazonaws.com/tripdata/\" + datestring + \"-citibike-tripdata.zip\") \n",
    "z = zipfile.ZipFile(StringIO.StringIO(r.content))\n",
    "citi_csv = z.extractall('Users/kristikorsberg/Documents')\n",
    "citi_df = pd.read_csv('Users/kristikorsberg/Documents' + \"/\" + datestring + \"-citibike-tripdata.csv\")\n",
    "#citi_df = pd.read_csv(PUI2016 + \"/\" + datestring + \"-citibike-tripdata.csv\")\n",
    "#citi_df.head(10)"
   ]
  },
  {
   "cell_type": "code",
   "execution_count": 65,
   "metadata": {
    "collapsed": false
   },
   "outputs": [
    {
     "name": "stdout",
     "output_type": "stream",
     "text": [
      "[ 32.  46.  30. ...,  41.  51.  34.]\n",
      "882679\n"
     ]
    }
   ],
   "source": [
    "citi_df['age'] = 2016 - citi_df['birth year'][(citi_df['usertype'] == 'Subscriber')]\n",
    "#citi_df.head()\n",
    "#drop rows for anyone over 100 (born before 1920)\n",
    "age = np.array(citi_df['age'].dropna())\n",
    "print(age)\n",
    "print(len(age))"
   ]
  },
  {
   "cell_type": "code",
   "execution_count": 31,
   "metadata": {
    "collapsed": false
   },
   "outputs": [
    {
     "name": "stdout",
     "output_type": "stream",
     "text": [
      "38.7522564828\n"
     ]
    }
   ],
   "source": [
    "age_mean = np.mean(age)\n",
    "print(age_mean)"
   ]
  },
  {
   "cell_type": "code",
   "execution_count": 32,
   "metadata": {
    "collapsed": false
   },
   "outputs": [
    {
     "name": "stdout",
     "output_type": "stream",
     "text": [
      "11.7330444007\n"
     ]
    }
   ],
   "source": [
    "age_std = np.std(age)\n",
    "print(age_std)"
   ]
  },
  {
   "cell_type": "code",
   "execution_count": 35,
   "metadata": {
    "collapsed": false
   },
   "outputs": [
    {
     "name": "stdout",
     "output_type": "stream",
     "text": [
      "KstestResult(statistic=0.10764117026760028, pvalue=0.0)\n"
     ]
    }
   ],
   "source": [
    "#why are we including mean and standard deviation? why is this imperative to getting the right\n",
    "#answer? why is the p-value always zero? \n",
    "ks_test = scipy.stats.kstest(age, 'norm', args = (age_mean, age_std))\n",
    "print(ks_test)"
   ]
  },
  {
   "cell_type": "markdown",
   "metadata": {},
   "source": [
    "### KS Test for Normal Distribution\n",
    "\n",
    "H0: The sample distribution of the ages of Citi Bike users comes from a normal distribution.\n",
    "\n",
    "HA: The distribution of the ages of Citi Bike users does not fit a normal distribution. The age of Citi Bike users is not normally distributed. \n",
    "\n",
    "P-value: .05"
   ]
  },
  {
   "cell_type": "code",
   "execution_count": 64,
   "metadata": {
    "collapsed": false
   },
   "outputs": [
    {
     "data": {
      "text/plain": [
       "(array([  1.69000000e+02,   3.97100000e+03,   4.04390000e+04,\n",
       "          1.72471000e+05,   3.17461000e+05,   2.50557000e+05,\n",
       "          8.44440000e+04,   1.23960000e+04,   7.48000000e+02,\n",
       "          2.30000000e+01]),\n",
       " array([-14.10208749,  -2.89577725,   8.31053299,  19.51684323,\n",
       "         30.72315347,  41.92946371,  53.13577395,  64.34208419,\n",
       "         75.54839443,  86.75470466,  97.9610149 ]),\n",
       " <a list of 10 Patch objects>)"
      ]
     },
     "execution_count": 64,
     "metadata": {},
     "output_type": "execute_result"
    },
    {
     "data": {
      "image/png": "[encoded data removed]",
      "text/plain": [
       "<matplotlib.figure.Figure at 0x11daaa310>"
      ]
     },
     "metadata": {},
     "output_type": "display_data"
    }
   ],
   "source": [
    "pl.hist(age, alpha = .5)\n",
    "pl.hist(scipy.stats.norm.rvs(loc=age_mean, scale=age_std, size=len(age)), alpha=.5)"
   ]
  },
  {
   "cell_type": "code",
   "execution_count": 68,
   "metadata": {
    "collapsed": false
   },
   "outputs": [
    {
     "name": "stdout",
     "output_type": "stream",
     "text": [
      "0.1076\n",
      "0.00144756312428\n"
     ]
    }
   ],
   "source": [
    "D = .1076 \n",
    "critical_value = 1.36/sqrt(882679)\n",
    "print(D)\n",
    "print(critical_value)"
   ]
  },
  {
   "cell_type": "markdown",
   "metadata": {},
   "source": [
    "#### KS Statistic Results for Normal Distribution\n",
    "\n",
    "We can reject the null hypothesis, which states that the sample represents a Poisson distribution because the D statistic, 0.569155, is greater than the critical value, 0.00144756312428, at N = 882679 at the .05 significance level. "
   ]
  },
  {
   "cell_type": "code",
   "execution_count": 42,
   "metadata": {
    "collapsed": false
   },
   "outputs": [],
   "source": [
    "scipy.stats.poisson?"
   ]
  },
  {
   "cell_type": "markdown",
   "metadata": {},
   "source": [
    "### KS Test for Poisson Distribution\n",
    "\n",
    "H0: The distribution of the ages of Citi Bike users fits a Poisson distribution.\n",
    "\n",
    "HA: The distribution of the ages of Citi Bike users does not fit a Poisson distribution. \n",
    "\n",
    "P-value: .05"
   ]
  },
  {
   "cell_type": "code",
   "execution_count": 45,
   "metadata": {
    "collapsed": false
   },
   "outputs": [
    {
     "name": "stdout",
     "output_type": "stream",
     "text": [
      "KstestResult(statistic=0.56915540706059997, pvalue=0.0)\n"
     ]
    }
   ],
   "source": [
    "ks_pois = scipy.stats.kstest(age, 'poisson', args = (age_mean, age_std))\n",
    "print(ks_pois)"
   ]
  },
  {
   "cell_type": "markdown",
   "metadata": {},
   "source": [
    "#### KS Test Results for Poisson Distribution\n",
    "\n",
    "We can reject the null hypothesis, which states that the sample represents a Poisson distribution because the D statistic, 0.569155, is greater than the critical value, 0.00144756312428, at N = 882679 at the .05 significance level. "
   ]
  },
  {
   "cell_type": "markdown",
   "metadata": {},
   "source": [
    "### AD Test for Normal Distribution\n",
    "\n",
    "H0: The distribution of the ages of Citi Bike users follows a normal distribution.\n",
    "\n",
    "HA: The distribution of the ages of Citi Bike users does not fit a normal distribution. "
   ]
  },
  {
   "cell_type": "code",
   "execution_count": 57,
   "metadata": {
    "collapsed": false
   },
   "outputs": [
    {
     "name": "stdout",
     "output_type": "stream",
     "text": [
      "AndersonResult(statistic=13428.484617782873, critical_values=array([ 0.576,  0.656,  0.787,  0.918,  1.092]), significance_level=array([ 15. ,  10. ,   5. ,   2.5,   1. ]))\n"
     ]
    }
   ],
   "source": [
    "ad_norm = scipy.stats.anderson(age, 'norm')\n",
    "print(ad_norm)"
   ]
  },
  {
   "cell_type": "markdown",
   "metadata": {},
   "source": [
    "#### AD Test Results for Normal Distribution\n",
    "\n",
    "We can reject the null hypothesis, which states that the sample represents a normal distribution because the AD statistic, 13428.4846, is greater than all critical values at N = 882679. The critical values at 15%, 10%, 5%, 2.5%, and 1% are all smaller than the test statistic."
   ]
  },
  {
   "cell_type": "markdown",
   "metadata": {},
   "source": [
    "### AD Test for Exponential Distribution\n",
    "\n",
    "H0: The age of Citi Bike users follows the exponential distribution.\n",
    "\n",
    "HA: The age of Citi Bike users does not follow the exponential distribution."
   ]
  },
  {
   "cell_type": "code",
   "execution_count": 60,
   "metadata": {
    "collapsed": false
   },
   "outputs": [
    {
     "name": "stdout",
     "output_type": "stream",
     "text": [
      "AndersonResult(statistic=203597.47336880653, critical_values=array([ 0.922,  1.078,  1.341,  1.606,  1.957]), significance_level=array([ 15. ,  10. ,   5. ,   2.5,   1. ]))\n"
     ]
    }
   ],
   "source": [
    "ad_expon = scipy.stats.anderson(age, 'expon')\n",
    "print(ad_expon)"
   ]
  },
  {
   "cell_type": "markdown",
   "metadata": {},
   "source": [
    "#### AD Test Results for Exponential Distribution\n",
    "\n",
    "We can reject the null hypothesis, which states that the sample represents an exponential distribution because the AD statistic, 203597.4733688, is greater than all critical values at N = 882679. The critical values at 15%, 10%, 5%, 2.5%, and 1% are all smaller than the test statistic."
   ]
  }
 ],
 "metadata": {
  "anaconda-cloud": {},
  "kernelspec": {
   "display_name": "Python 2",
   "language": "python",
   "name": "python2"
  },
  "language_info": {
   "codemirror_mode": {
    "name": "ipython",
    "version": 2
   },
   "file_extension": ".py",
   "mimetype": "text/x-python",
   "name": "python",
   "nbconvert_exporter": "python",
   "pygments_lexer": "ipython2",
   "version": "2.7.12"
  }
 },
 "nbformat": 4,
 "nbformat_minor": 0
}
