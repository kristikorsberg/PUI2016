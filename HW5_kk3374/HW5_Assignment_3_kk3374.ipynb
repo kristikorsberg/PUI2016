{
 "cells": [
  {
   "cell_type": "markdown",
   "metadata": {},
   "source": [
    "### Formulate the null hypothesis in words and in formulae for the 4 experiments below:"
   ]
  },
  {
   "cell_type": "markdown",
   "metadata": {},
   "source": [
    "## Can you test two variables in the same sample? Or would you need more than one sample?\n",
    "\n",
    "#### Do diets help lose more fat than does exercise?\n",
    "\n",
    "Experimental setup: you have a test and a control sample.\n",
    "\n",
    "There are three groups, one is a control where nothing changes; another is a test, whose participants change their diet; and the third is a test, whose participants change their exercise. \n",
    "\n",
    "Significnce level: 0.05\n",
    "\n",
    "H0: The amount of weight lost by those who change their diet is the same or less than the amount of weight lost by those who change their exercise.\n",
    "\n",
    "H0: sum of weight change / number of participants in diet group <= sum of weight change / number of participants in exercise group\n",
    "\n",
    "HA: The amount of weight lost by those who change their diet is different than the amount of weight lost by those who change their exercise.\n",
    "\n",
    "HA: sum of weight change / number of participants in diet group > sum of weight change / number of participants in exercise group"
   ]
  },
  {
   "cell_type": "markdown",
   "metadata": {},
   "source": [
    "#### Do Americans trust the president?\n",
    "\n",
    "POLL RESULTS: On May 16, 1994, Newsweek reported the results of a public opinion poll that asked: “From everything you know about Bill Clinton, does he have the honesty and integrity you expect in a president?” (p. 23). Poll surveyed 518 adults and 233, or 0.45 of them answered yes.\n",
    "\n",
    "Significance level: 0.05\n",
    "\n",
    "H0: The percentage of people who trust the president is the same or less than the percentage of people who do not trust the president.\n",
    "\n",
    "H0: % of people who support the president <= % of people who do not support the president \n",
    "\n",
    "HA: The percentage of people who trust the president is greater than the percentage of people who do not trust the president.\n",
    "\n",
    "HA: % of people who support the president > % of people who do not support the president "
   ]
  },
  {
   "cell_type": "markdown",
   "metadata": {},
   "source": [
    "#### Effectiveness of nicotine patches to quit smoking\n",
    "\n",
    "Experimental setup: measure cessation rates for smokers randomly assigned to use a nicotine patch versus a placebo patch.\n",
    "\n",
    "Significance level: 0.05\n",
    "\n",
    "H0: The average rate of smoking cessation for those individuals who used a nicotine patch is the same or less than the average rate of smoking cessation for those individuals who used a placebo patch. \n",
    "\n",
    "H0: proportion of people smoking after nicotine patch >= proportion of people smoking with placebo patch\n",
    "\n",
    "HA: The average rate of smoking cessation for those individuals who used a nicotine patch is higher than the average rate of smoking cessation for those individuals who used a placebo patch. \n",
    "\n",
    "HA: proportion of people smoking after nicotine patch < proportion of people smoking with placebo patch"
   ]
  },
  {
   "cell_type": "markdown",
   "metadata": {},
   "source": [
    "#### Quantify the danger of smoking for pregnant women\n",
    "\n",
    "Experimemtal setup: measure IQ of children at ages 1, 2, 3, and 4 years of age.\n",
    "\n",
    "Significance level: 0.05\n",
    "\n",
    "H0: The IQ scores of children at ages 1, 2, 3, and 4 born from mothers who smoked during pregnancy are the same or higher than those children of the same ages born from mothers who did not smoke during pregnancy. \n",
    "\n",
    "H0: sum of IQ scores at each age / number of children tested whose mothers smoked during pregnancy >= sum of IQ scores at each age / number of children tested whose mothers did not smoke during pregnancy\n",
    "\n",
    "HA: The IQ scores of children at ages 1, 2, 3, and 4 born from mothers who smoked during pregnancy are less than those children of the same ages born from mothers who did not smoke during pregnancy. \n",
    "\n",
    "HA: sum of IQ scores at each age / number of children tested whose mothers smoked during pregnancy < sum of IQ scores at each age / number of children tested whose mothers did not smoke during pregnancy"
   ]
  }
 ],
 "metadata": {
  "kernelspec": {
   "display_name": "Python 2",
   "language": "python",
   "name": "python2"
  },
  "language_info": {
   "codemirror_mode": {
    "name": "ipython",
    "version": 2
   },
   "file_extension": ".py",
   "mimetype": "text/x-python",
   "name": "python",
   "nbconvert_exporter": "python",
   "pygments_lexer": "ipython2",
   "version": "2.7.12"
  }
 },
 "nbformat": 4,
 "nbformat_minor": 1
}
