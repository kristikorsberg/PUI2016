{
 "cells": [
  {
   "cell_type": "code",
   "execution_count": 72,
   "metadata": {
    "collapsed": true
   },
   "outputs": [],
   "source": [
    "from __future__ import print_function\n",
    "import os\n",
    "import pandas as pd\n",
    "import json\n",
    "import urllib2 as urllib"
   ]
  },
  {
   "cell_type": "code",
   "execution_count": 74,
   "metadata": {
    "collapsed": false
   },
   "outputs": [
    {
     "name": "stdout",
     "output_type": "stream",
     "text": [
      "Please type your MTA Key here: 86c14f07-4edd-4c90-82cc-222fac64b64f\n",
      "Please type bus number here: B52\n",
      "http://bustime.mta.info/api/siri/vehicle-monitoring.json?key=86c14f07-4edd-4c90-82cc-222fac64b64f&VehicleMonitoringDetailLevel=calls&LineRef=B52\n"
     ]
    }
   ],
   "source": [
    "userKey = raw_input(\"Please type your MTA Key here: \")\n",
    "bus = raw_input(\"Please type bus number here: \")\n",
    "url = \"http://bustime.mta.info/api/siri/vehicle-monitoring.json?key=\" + str(userKey) + \"&VehicleMonitoringDetailLevel=calls&LineRef=\" + str(bus)\n",
    "print(url)\n",
    "response = urllib.urlopen(url)\n",
    "data = response.read().decode(\"utf-8\")\n",
    "busData = json.loads(data)"
   ]
  },
  {
   "cell_type": "code",
   "execution_count": 75,
   "metadata": {
    "collapsed": false,
    "scrolled": true
   },
   "outputs": [
    {
     "name": "stdout",
     "output_type": "stream",
     "text": [
      "40.695983, -73.991033, CADMAN PZ W/TILLARY ST, at stop\n",
      "40.696128, -73.989444, Tillary St (not used), at stop\n",
      "40.686166, -73.951013, GATES AV/NOSTRAND AV, at stop\n",
      "40.686887, -73.944759, GATES AV/TOMPKINS AV, at stop\n",
      "40.694734, -73.990655, CADMAN PZ W/TILLARY ST, approaching\n",
      "40.686302, -73.974419, FULTON ST/S PORTLAND AV, approaching\n",
      "40.686921, -73.944462, GATES AV/TOMPKINS AV, approaching\n",
      "40.68854, -73.930388, GATES AV/MALCOLM X BL, approaching\n",
      "40.687327, -73.940918, GATES AV/THROOP AV, approaching\n",
      "40.685818, -73.954055, GATES AV/BEDFORD AV, approaching\n",
      "40.698803, -73.911756, PALMETTO ST/WYCKOFF AV, approaching\n",
      "40.686358, -73.968873, GREENE AV/VANDERBILT AV, approaching\n",
      "40.686691, -73.965976, GREENE AV/WASHINGTON AV, approaching\n",
      "40.688812, -73.928022, GATES AV/PATCHEN AV, approaching\n",
      "40.688783, -73.928278, GATES AV/PATCHEN AV, approaching\n",
      "40.696157, -73.991086, Tillary St (not used), approaching\n",
      "40.689279, -73.923934, GATES AV/BROADWAY, approaching\n",
      "40.68692, -73.963996, GREENE AV/WASHINGTON AV, < 1 stop away\n",
      "40.686958, -73.976039, FULTON ST/S PORTLAND AV, < 1 stop away\n",
      "40.687021, -73.963128, GREENE AV/WASHINGTON AV, < 1 stop away\n"
     ]
    }
   ],
   "source": [
    "i = 0\n",
    "#print(json.dumps(busInfo, sort_keys=True, indent=2))\n",
    "\n",
    "countOfBuses = busData['Siri']['ServiceDelivery']['VehicleMonitoringDelivery'][0]['VehicleActivity']\n",
    "for elem in countOfBuses:\n",
    "    lat = countOfBuses[i][\"MonitoredVehicleJourney\"][\"VehicleLocation\"][\"Latitude\"]\n",
    "    longitude = countOfBuses[i][\"MonitoredVehicleJourney\"][\"VehicleLocation\"][\"Longitude\"]\n",
    "    closestStop = countOfBuses[i][\"MonitoredVehicleJourney\"][\"OnwardCalls\"]\n",
    "    if len(closestStop) is 0:\n",
    "        stopName=\"N/A\"\n",
    "        proximity=\"N/A\"\n",
    "    else:\n",
    "        stopName = closestStop[\"OnwardCall\"][0][\"StopPointName\"]\n",
    "        proximity = closestStop[\"OnwardCall\"][0][\"Extensions\"][\"Distances\"][\"PresentableDistance\"]\n",
    "    print(str(lat) + \", \" + str(longitude) + \", \" + str(stopName) + \", \" + str(proximity))\n",
    "    i +=1\n",
    "\n",
    "#print(json.dumps(closestStopTest, sort_keys=True, indent=2))"
   ]
  }
 ],
 "metadata": {
  "kernelspec": {
   "display_name": "Python [Root]",
   "language": "python",
   "name": "Python [Root]"
  },
  "language_info": {
   "codemirror_mode": {
    "name": "ipython",
    "version": 2
   },
   "file_extension": ".py",
   "mimetype": "text/x-python",
   "name": "python",
   "nbconvert_exporter": "python",
   "pygments_lexer": "ipython2",
   "version": "2.7.12"
  }
 },
 "nbformat": 4,
 "nbformat_minor": 0
}
