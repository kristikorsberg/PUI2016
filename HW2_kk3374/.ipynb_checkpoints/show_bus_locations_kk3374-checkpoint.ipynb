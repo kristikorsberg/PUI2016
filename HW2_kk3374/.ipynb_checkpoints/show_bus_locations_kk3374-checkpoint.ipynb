{
 "cells": [
  {
   "cell_type": "code",
   "execution_count": 263,
   "metadata": {
    "collapsed": false
   },
   "outputs": [],
   "source": [
    "from __future__ import print_function\n",
    "import os\n",
    "import pandas as pd\n",
    "import json\n",
    "import urllib2 as urllib"
   ]
  },
  {
   "cell_type": "code",
   "execution_count": 264,
   "metadata": {
    "collapsed": false
   },
   "outputs": [
    {
     "name": "stdout",
     "output_type": "stream",
     "text": [
      "Please type your MTA Key here: 86c14f07-4edd-4c90-82cc-222fac64b64f\n",
      "Please type bus number here: B52\n",
      "http://bustime.mta.info/api/siri/vehicle-monitoring.json?key=86c14f07-4edd-4c90-82cc-222fac64b64f&VehicleMonitoringDetailLevel=calls&LineRef=B52\n"
     ]
    }
   ],
   "source": [
    "#ASSIGNMENT ONE\n",
    "#http://stackoverflow.com/questions/12965203/how-to-get-json-from-webpage-into-python-script\n",
    "userKey = raw_input(\"Please type your MTA Key here: \")\n",
    "bus = raw_input(\"Please type bus number here: \")\n",
    "url = \"http://bustime.mta.info/api/siri/vehicle-monitoring.json?key=\" + str(userKey) + \"&VehicleMonitoringDetailLevel=calls&LineRef=\" + str(bus)\n",
    "print(url)\n",
    "response = urllib.urlopen(url)\n",
    "data = response.read().decode(\"utf-8\")\n",
    "busData = json.loads(data)"
   ]
  },
  {
   "cell_type": "code",
   "execution_count": 266,
   "metadata": {
    "collapsed": false
   },
   "outputs": [
    {
     "name": "stdout",
     "output_type": "stream",
     "text": [
      "There are 17 buses on the road.\n",
      "Bus 1 is at location 40.695983 -73.991033\n",
      "Bus 2 is at location 40.700471 -73.910079\n",
      "Bus 3 is at location 40.698169 -73.913546\n",
      "Bus 4 is at location 40.686441 -73.968152\n",
      "Bus 5 is at location 40.685509 -73.95672\n",
      "Bus 6 is at location 40.686584 -73.947404\n",
      "Bus 7 is at location 40.687329 -73.976967\n",
      "Bus 8 is at location 40.685529 -73.95654\n",
      "Bus 9 is at location 40.687721 -73.957054\n",
      "Bus 10 is at location 40.693014 -73.989117\n",
      "Bus 11 is at location 40.686765 -73.965343\n",
      "Bus 12 is at location 40.686945 -73.944253\n",
      "Bus 13 is at location 40.692623 -73.99082\n",
      "Bus 14 is at location 40.690025 -73.921543\n",
      "Bus 15 is at location 40.68894 -73.981031\n",
      "Bus 16 is at location 40.692868 -73.918753\n",
      "Bus 17 is at location 40.687483 -73.93958\n"
     ]
    }
   ],
   "source": [
    "countOfBuses = busData['Siri']['ServiceDelivery']['VehicleMonitoringDelivery'][0]['VehicleActivity']\n",
    "print(\"There are \" + str(len(countOfBuses)) + \" buses on the road.\")   \n",
    "\n",
    "i = 0\n",
    "busCount = 1\n",
    "for element in countOfBuses:\n",
    "    lat = countOfBuses[i][\"MonitoredVehicleJourney\"][\"VehicleLocation\"][\"Latitude\"]\n",
    "    longitude = countOfBuses[i][\"MonitoredVehicleJourney\"][\"VehicleLocation\"][\"Longitude\"]\n",
    "    print(\"Bus \" + str(busCount) + \" is at location \" + str(lat) + \" \" + str(longitude))\n",
    "    i +=1\n",
    "    busCount +=1\n",
    "#print(json.dumps(y, sort_keys=True, indent=2))\n",
    "#for element in busData['MonitoredVehicleJourney']:"
   ]
  }
 ],
 "metadata": {
  "kernelspec": {
   "display_name": "Python [Root]",
   "language": "python",
   "name": "Python [Root]"
  },
  "language_info": {
   "codemirror_mode": {
    "name": "ipython",
    "version": 2
   },
   "file_extension": ".py",
   "mimetype": "text/x-python",
   "name": "python",
   "nbconvert_exporter": "python",
   "pygments_lexer": "ipython2",
   "version": "2.7.12"
  }
 },
 "nbformat": 4,
 "nbformat_minor": 0
}
