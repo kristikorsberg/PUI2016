{
 "cells": [
  {
   "cell_type": "code",
   "execution_count": 2,
   "metadata": {
    "collapsed": false
   },
   "outputs": [
    {
     "name": "stdout",
     "output_type": "stream",
     "text": [
      "Populating the interactive namespace from numpy and matplotlib\n"
     ]
    }
   ],
   "source": [
    "from __future__  import print_function, division\n",
    "import pylab as pl\n",
    "import pandas as pd\n",
    "import numpy as np\n",
    "import os\n",
    "import csv\n",
    "import StringIO\n",
    "import requests\n",
    "import zipfile\n",
    "from scipy import stats\n",
    "\n",
    "%pylab inline\n",
    "\n",
    "#if os.getenv ('PUI2016') is None:\n",
    "    #print (\"Must set env variable PUI2016\")\n",
    "#if os.getenv ('PUIDATA') is None:\n",
    "    #print (\"Must set env variable PUI2016\")\n",
    "\n",
    "import os\n",
    "import json\n",
    "#s = json.load( open(os.getenv('PUI2016') + \"/fbb_matplotlibrc.json\") )\n",
    "#pl.rcParams.update(s)"
   ]
  },
  {
   "cell_type": "code",
   "execution_count": 4,
   "metadata": {
    "collapsed": false
   },
   "outputs": [],
   "source": [
    "PUI2016 = os.getenv('PUI2016')"
   ]
  },
  {
   "cell_type": "markdown",
   "metadata": {},
   "source": [
    "# Idea:\n",
    "Citi Bikes are used to commute.\n",
    "\n",
    "# Null Hypothesis:\n",
    "The average number of trips during the weekdays is the same or less than the average number of trips on the weekend days. \n",
    "\n",
    "H0: average trip count on Monday, Tuesday, Wednesday, Thursday, and Friday <= average trip count on Saturday and Sunday\n",
    "\n",
    "\n",
    "# Alternative Hypothesis:\n",
    "The average number of trips during the weekdays is greater than the average number of trips on the weekend days. \n",
    "\n",
    "H0: average trip count on Monday, Tuesday, Wednesday, Thursday, and Friday > average trip count on Saturday and Sunday\n",
    "\n",
    "# Significance Level:\n",
    "I choose a significance level of .05, meaning I want the probability of getting a result as significant as mine to be less than 5%. "
   ]
  },
  {
   "cell_type": "code",
   "execution_count": 5,
   "metadata": {
    "collapsed": false,
    "scrolled": true
   },
   "outputs": [
    {
     "data": {
      "text/html": [
       "<div>\n",
       "<table border=\"1\" class=\"dataframe\">\n",
       "  <thead>\n",
       "    <tr style=\"text-align: right;\">\n",
       "      <th></th>\n",
       "      <th>tripduration</th>\n",
       "      <th>starttime</th>\n",
       "      <th>stoptime</th>\n",
       "      <th>start station id</th>\n",
       "      <th>start station name</th>\n",
       "      <th>start station latitude</th>\n",
       "      <th>start station longitude</th>\n",
       "      <th>end station id</th>\n",
       "      <th>end station name</th>\n",
       "      <th>end station latitude</th>\n",
       "      <th>end station longitude</th>\n",
       "      <th>bikeid</th>\n",
       "      <th>usertype</th>\n",
       "      <th>birth year</th>\n",
       "      <th>gender</th>\n",
       "    </tr>\n",
       "  </thead>\n",
       "  <tbody>\n",
       "    <tr>\n",
       "      <th>0</th>\n",
       "      <td>1491</td>\n",
       "      <td>3/1/2016 06:52:42</td>\n",
       "      <td>3/1/2016 07:17:33</td>\n",
       "      <td>72</td>\n",
       "      <td>W 52 St &amp; 11 Ave</td>\n",
       "      <td>40.767272</td>\n",
       "      <td>-73.993929</td>\n",
       "      <td>427</td>\n",
       "      <td>Bus Slip &amp; State St</td>\n",
       "      <td>40.701907</td>\n",
       "      <td>-74.013942</td>\n",
       "      <td>23914</td>\n",
       "      <td>Subscriber</td>\n",
       "      <td>1982.0</td>\n",
       "      <td>1</td>\n",
       "    </tr>\n",
       "    <tr>\n",
       "      <th>1</th>\n",
       "      <td>1044</td>\n",
       "      <td>3/1/2016 07:05:50</td>\n",
       "      <td>3/1/2016 07:23:15</td>\n",
       "      <td>72</td>\n",
       "      <td>W 52 St &amp; 11 Ave</td>\n",
       "      <td>40.767272</td>\n",
       "      <td>-73.993929</td>\n",
       "      <td>254</td>\n",
       "      <td>W 11 St &amp; 6 Ave</td>\n",
       "      <td>40.735324</td>\n",
       "      <td>-73.998004</td>\n",
       "      <td>23697</td>\n",
       "      <td>Subscriber</td>\n",
       "      <td>1978.0</td>\n",
       "      <td>1</td>\n",
       "    </tr>\n",
       "    <tr>\n",
       "      <th>2</th>\n",
       "      <td>714</td>\n",
       "      <td>3/1/2016 07:15:05</td>\n",
       "      <td>3/1/2016 07:26:59</td>\n",
       "      <td>72</td>\n",
       "      <td>W 52 St &amp; 11 Ave</td>\n",
       "      <td>40.767272</td>\n",
       "      <td>-73.993929</td>\n",
       "      <td>493</td>\n",
       "      <td>W 45 St &amp; 6 Ave</td>\n",
       "      <td>40.756800</td>\n",
       "      <td>-73.982912</td>\n",
       "      <td>21447</td>\n",
       "      <td>Subscriber</td>\n",
       "      <td>1960.0</td>\n",
       "      <td>2</td>\n",
       "    </tr>\n",
       "    <tr>\n",
       "      <th>3</th>\n",
       "      <td>329</td>\n",
       "      <td>3/1/2016 07:26:04</td>\n",
       "      <td>3/1/2016 07:31:34</td>\n",
       "      <td>72</td>\n",
       "      <td>W 52 St &amp; 11 Ave</td>\n",
       "      <td>40.767272</td>\n",
       "      <td>-73.993929</td>\n",
       "      <td>478</td>\n",
       "      <td>11 Ave &amp; W 41 St</td>\n",
       "      <td>40.760301</td>\n",
       "      <td>-73.998842</td>\n",
       "      <td>22351</td>\n",
       "      <td>Subscriber</td>\n",
       "      <td>1986.0</td>\n",
       "      <td>1</td>\n",
       "    </tr>\n",
       "    <tr>\n",
       "      <th>4</th>\n",
       "      <td>1871</td>\n",
       "      <td>3/1/2016 07:31:30</td>\n",
       "      <td>3/1/2016 08:02:41</td>\n",
       "      <td>72</td>\n",
       "      <td>W 52 St &amp; 11 Ave</td>\n",
       "      <td>40.767272</td>\n",
       "      <td>-73.993929</td>\n",
       "      <td>151</td>\n",
       "      <td>Cleveland Pl &amp; Spring St</td>\n",
       "      <td>40.722104</td>\n",
       "      <td>-73.997249</td>\n",
       "      <td>20985</td>\n",
       "      <td>Subscriber</td>\n",
       "      <td>1978.0</td>\n",
       "      <td>1</td>\n",
       "    </tr>\n",
       "    <tr>\n",
       "      <th>5</th>\n",
       "      <td>859</td>\n",
       "      <td>3/1/2016 07:33:46</td>\n",
       "      <td>3/1/2016 07:48:06</td>\n",
       "      <td>72</td>\n",
       "      <td>W 52 St &amp; 11 Ave</td>\n",
       "      <td>40.767272</td>\n",
       "      <td>-73.993929</td>\n",
       "      <td>520</td>\n",
       "      <td>W 52 St &amp; 5 Ave</td>\n",
       "      <td>40.759923</td>\n",
       "      <td>-73.976485</td>\n",
       "      <td>15557</td>\n",
       "      <td>Subscriber</td>\n",
       "      <td>1975.0</td>\n",
       "      <td>1</td>\n",
       "    </tr>\n",
       "    <tr>\n",
       "      <th>6</th>\n",
       "      <td>538</td>\n",
       "      <td>3/1/2016 07:36:31</td>\n",
       "      <td>3/1/2016 07:45:29</td>\n",
       "      <td>72</td>\n",
       "      <td>W 52 St &amp; 11 Ave</td>\n",
       "      <td>40.767272</td>\n",
       "      <td>-73.993929</td>\n",
       "      <td>533</td>\n",
       "      <td>Broadway &amp; W 39 St</td>\n",
       "      <td>40.752996</td>\n",
       "      <td>-73.987216</td>\n",
       "      <td>22638</td>\n",
       "      <td>Subscriber</td>\n",
       "      <td>1993.0</td>\n",
       "      <td>1</td>\n",
       "    </tr>\n",
       "    <tr>\n",
       "      <th>7</th>\n",
       "      <td>1255</td>\n",
       "      <td>3/1/2016 07:38:14</td>\n",
       "      <td>3/1/2016 07:59:10</td>\n",
       "      <td>72</td>\n",
       "      <td>W 52 St &amp; 11 Ave</td>\n",
       "      <td>40.767272</td>\n",
       "      <td>-73.993929</td>\n",
       "      <td>426</td>\n",
       "      <td>West St &amp; Chambers St</td>\n",
       "      <td>40.717548</td>\n",
       "      <td>-74.013221</td>\n",
       "      <td>23864</td>\n",
       "      <td>Subscriber</td>\n",
       "      <td>1988.0</td>\n",
       "      <td>2</td>\n",
       "    </tr>\n",
       "    <tr>\n",
       "      <th>8</th>\n",
       "      <td>1216</td>\n",
       "      <td>3/1/2016 07:57:05</td>\n",
       "      <td>3/1/2016 08:17:21</td>\n",
       "      <td>72</td>\n",
       "      <td>W 52 St &amp; 11 Ave</td>\n",
       "      <td>40.767272</td>\n",
       "      <td>-73.993929</td>\n",
       "      <td>325</td>\n",
       "      <td>E 19 St &amp; 3 Ave</td>\n",
       "      <td>40.736245</td>\n",
       "      <td>-73.984738</td>\n",
       "      <td>17821</td>\n",
       "      <td>Subscriber</td>\n",
       "      <td>1982.0</td>\n",
       "      <td>1</td>\n",
       "    </tr>\n",
       "    <tr>\n",
       "      <th>9</th>\n",
       "      <td>280</td>\n",
       "      <td>3/1/2016 08:01:30</td>\n",
       "      <td>3/1/2016 08:06:11</td>\n",
       "      <td>72</td>\n",
       "      <td>W 52 St &amp; 11 Ave</td>\n",
       "      <td>40.767272</td>\n",
       "      <td>-73.993929</td>\n",
       "      <td>500</td>\n",
       "      <td>Broadway &amp; W 51 St</td>\n",
       "      <td>40.762288</td>\n",
       "      <td>-73.983362</td>\n",
       "      <td>21458</td>\n",
       "      <td>Subscriber</td>\n",
       "      <td>1982.0</td>\n",
       "      <td>1</td>\n",
       "    </tr>\n",
       "  </tbody>\n",
       "</table>\n",
       "</div>"
      ],
      "text/plain": [
       "   tripduration          starttime           stoptime  start station id  \\\n",
       "0          1491  3/1/2016 06:52:42  3/1/2016 07:17:33                72   \n",
       "1          1044  3/1/2016 07:05:50  3/1/2016 07:23:15                72   \n",
       "2           714  3/1/2016 07:15:05  3/1/2016 07:26:59                72   \n",
       "3           329  3/1/2016 07:26:04  3/1/2016 07:31:34                72   \n",
       "4          1871  3/1/2016 07:31:30  3/1/2016 08:02:41                72   \n",
       "5           859  3/1/2016 07:33:46  3/1/2016 07:48:06                72   \n",
       "6           538  3/1/2016 07:36:31  3/1/2016 07:45:29                72   \n",
       "7          1255  3/1/2016 07:38:14  3/1/2016 07:59:10                72   \n",
       "8          1216  3/1/2016 07:57:05  3/1/2016 08:17:21                72   \n",
       "9           280  3/1/2016 08:01:30  3/1/2016 08:06:11                72   \n",
       "\n",
       "  start station name  start station latitude  start station longitude  \\\n",
       "0   W 52 St & 11 Ave               40.767272               -73.993929   \n",
       "1   W 52 St & 11 Ave               40.767272               -73.993929   \n",
       "2   W 52 St & 11 Ave               40.767272               -73.993929   \n",
       "3   W 52 St & 11 Ave               40.767272               -73.993929   \n",
       "4   W 52 St & 11 Ave               40.767272               -73.993929   \n",
       "5   W 52 St & 11 Ave               40.767272               -73.993929   \n",
       "6   W 52 St & 11 Ave               40.767272               -73.993929   \n",
       "7   W 52 St & 11 Ave               40.767272               -73.993929   \n",
       "8   W 52 St & 11 Ave               40.767272               -73.993929   \n",
       "9   W 52 St & 11 Ave               40.767272               -73.993929   \n",
       "\n",
       "   end station id          end station name  end station latitude  \\\n",
       "0             427       Bus Slip & State St             40.701907   \n",
       "1             254           W 11 St & 6 Ave             40.735324   \n",
       "2             493           W 45 St & 6 Ave             40.756800   \n",
       "3             478          11 Ave & W 41 St             40.760301   \n",
       "4             151  Cleveland Pl & Spring St             40.722104   \n",
       "5             520           W 52 St & 5 Ave             40.759923   \n",
       "6             533        Broadway & W 39 St             40.752996   \n",
       "7             426     West St & Chambers St             40.717548   \n",
       "8             325           E 19 St & 3 Ave             40.736245   \n",
       "9             500        Broadway & W 51 St             40.762288   \n",
       "\n",
       "   end station longitude  bikeid    usertype  birth year  gender  \n",
       "0             -74.013942   23914  Subscriber      1982.0       1  \n",
       "1             -73.998004   23697  Subscriber      1978.0       1  \n",
       "2             -73.982912   21447  Subscriber      1960.0       2  \n",
       "3             -73.998842   22351  Subscriber      1986.0       1  \n",
       "4             -73.997249   20985  Subscriber      1978.0       1  \n",
       "5             -73.976485   15557  Subscriber      1975.0       1  \n",
       "6             -73.987216   22638  Subscriber      1993.0       1  \n",
       "7             -74.013221   23864  Subscriber      1988.0       2  \n",
       "8             -73.984738   17821  Subscriber      1982.0       1  \n",
       "9             -73.983362   21458  Subscriber      1982.0       1  "
      ]
     },
     "execution_count": 5,
     "metadata": {},
     "output_type": "execute_result"
    }
   ],
   "source": [
    "#http://stackoverflow.com/questions/18885175/read-a-zipped-file-as-a-pandas-dataframe\n",
    "#http://stackoverflow.com/questions/9419162/python-download-returned-zip-file-from-url\n",
    "#add component about 'if file already exists, don't recreate it'\n",
    "datestring = '201603'\n",
    "r = requests.get(\"https://s3.amazonaws.com/tripdata/\" + datestring + \"-citibike-tripdata.zip\") \n",
    "z = zipfile.ZipFile(StringIO.StringIO(r.content))\n",
    "citi_csv = z.extractall(PUI2016)\n",
    "citi_df = pd.read_csv(PUI2016 + \"/\" + datestring + \"-citibike-tripdata.csv\")\n",
    "citi_df.head(10)"
   ]
  },
  {
   "cell_type": "code",
   "execution_count": 6,
   "metadata": {
    "collapsed": false
   },
   "outputs": [
    {
     "data": {
      "text/plain": [
       "Index([u'tripduration', u'starttime', u'stoptime', u'start station id',\n",
       "       u'start station name', u'start station latitude',\n",
       "       u'start station longitude', u'end station id', u'end station name',\n",
       "       u'end station latitude', u'end station longitude', u'bikeid',\n",
       "       u'usertype', u'birth year', u'gender'],\n",
       "      dtype='object')"
      ]
     },
     "execution_count": 6,
     "metadata": {},
     "output_type": "execute_result"
    }
   ],
   "source": [
    "citi_df.columns"
   ]
  },
  {
   "cell_type": "code",
   "execution_count": 10,
   "metadata": {
    "collapsed": false
   },
   "outputs": [
    {
     "data": {
      "text/html": [
       "<div>\n",
       "<table border=\"1\" class=\"dataframe\">\n",
       "  <thead>\n",
       "    <tr style=\"text-align: right;\">\n",
       "      <th></th>\n",
       "      <th>tripduration</th>\n",
       "      <th>starttime</th>\n",
       "    </tr>\n",
       "  </thead>\n",
       "  <tbody>\n",
       "    <tr>\n",
       "      <th>0</th>\n",
       "      <td>1491</td>\n",
       "      <td>3/1/2016 06:52:42</td>\n",
       "    </tr>\n",
       "    <tr>\n",
       "      <th>1</th>\n",
       "      <td>1044</td>\n",
       "      <td>3/1/2016 07:05:50</td>\n",
       "    </tr>\n",
       "    <tr>\n",
       "      <th>2</th>\n",
       "      <td>714</td>\n",
       "      <td>3/1/2016 07:15:05</td>\n",
       "    </tr>\n",
       "    <tr>\n",
       "      <th>3</th>\n",
       "      <td>329</td>\n",
       "      <td>3/1/2016 07:26:04</td>\n",
       "    </tr>\n",
       "    <tr>\n",
       "      <th>4</th>\n",
       "      <td>1871</td>\n",
       "      <td>3/1/2016 07:31:30</td>\n",
       "    </tr>\n",
       "  </tbody>\n",
       "</table>\n",
       "</div>"
      ],
      "text/plain": [
       "   tripduration          starttime\n",
       "0          1491  3/1/2016 06:52:42\n",
       "1          1044  3/1/2016 07:05:50\n",
       "2           714  3/1/2016 07:15:05\n",
       "3           329  3/1/2016 07:26:04\n",
       "4          1871  3/1/2016 07:31:30"
      ]
     },
     "execution_count": 10,
     "metadata": {},
     "output_type": "execute_result"
    }
   ],
   "source": [
    "times_duration = citi_df.drop(citi_df.columns[2:], axis=1)\n",
    "times_duration.head()"
   ]
  },
  {
   "cell_type": "code",
   "execution_count": 12,
   "metadata": {
    "collapsed": false
   },
   "outputs": [],
   "source": [
    "times_duration['date'] = pd.to_datetime(times_duration['starttime'],  format=\"%m/%d/%Y %H:%M:%S\")\n",
    "times_duration['weekday'] = times_duration['date'].apply(lambda x: x.weekday())"
   ]
  },
  {
   "cell_type": "code",
   "execution_count": 13,
   "metadata": {
    "collapsed": false
   },
   "outputs": [
    {
     "data": {
      "text/html": [
       "<div>\n",
       "<table border=\"1\" class=\"dataframe\">\n",
       "  <thead>\n",
       "    <tr style=\"text-align: right;\">\n",
       "      <th></th>\n",
       "      <th>tripduration</th>\n",
       "      <th>starttime</th>\n",
       "      <th>date</th>\n",
       "      <th>weekday</th>\n",
       "    </tr>\n",
       "  </thead>\n",
       "  <tbody>\n",
       "    <tr>\n",
       "      <th>0</th>\n",
       "      <td>1491</td>\n",
       "      <td>3/1/2016 06:52:42</td>\n",
       "      <td>2016-03-01 06:52:42</td>\n",
       "      <td>1</td>\n",
       "    </tr>\n",
       "    <tr>\n",
       "      <th>1</th>\n",
       "      <td>1044</td>\n",
       "      <td>3/1/2016 07:05:50</td>\n",
       "      <td>2016-03-01 07:05:50</td>\n",
       "      <td>1</td>\n",
       "    </tr>\n",
       "    <tr>\n",
       "      <th>2</th>\n",
       "      <td>714</td>\n",
       "      <td>3/1/2016 07:15:05</td>\n",
       "      <td>2016-03-01 07:15:05</td>\n",
       "      <td>1</td>\n",
       "    </tr>\n",
       "    <tr>\n",
       "      <th>3</th>\n",
       "      <td>329</td>\n",
       "      <td>3/1/2016 07:26:04</td>\n",
       "      <td>2016-03-01 07:26:04</td>\n",
       "      <td>1</td>\n",
       "    </tr>\n",
       "    <tr>\n",
       "      <th>4</th>\n",
       "      <td>1871</td>\n",
       "      <td>3/1/2016 07:31:30</td>\n",
       "      <td>2016-03-01 07:31:30</td>\n",
       "      <td>1</td>\n",
       "    </tr>\n",
       "  </tbody>\n",
       "</table>\n",
       "</div>"
      ],
      "text/plain": [
       "   tripduration          starttime                date  weekday\n",
       "0          1491  3/1/2016 06:52:42 2016-03-01 06:52:42        1\n",
       "1          1044  3/1/2016 07:05:50 2016-03-01 07:05:50        1\n",
       "2           714  3/1/2016 07:15:05 2016-03-01 07:15:05        1\n",
       "3           329  3/1/2016 07:26:04 2016-03-01 07:26:04        1\n",
       "4          1871  3/1/2016 07:31:30 2016-03-01 07:31:30        1"
      ]
     },
     "execution_count": 13,
     "metadata": {},
     "output_type": "execute_result"
    }
   ],
   "source": [
    "times_duration.head()"
   ]
  },
  {
   "cell_type": "code",
   "execution_count": 14,
   "metadata": {
    "collapsed": false
   },
   "outputs": [
    {
     "name": "stdout",
     "output_type": "stream",
     "text": [
      "date\n",
      "0     89181\n",
      "1    163604\n",
      "2    178419\n",
      "3    176546\n",
      "4    124308\n",
      "5    102320\n",
      "6     85543\n",
      "Name: date, dtype: int64\n"
     ]
    }
   ],
   "source": [
    "count = times_duration['date'].groupby([times_duration['date'].dt.weekday]).count()\n",
    "print(count)"
   ]
  },
  {
   "cell_type": "code",
   "execution_count": 15,
   "metadata": {
    "collapsed": false
   },
   "outputs": [],
   "source": [
    "times_duration['toplot'] = times_duration['date'].groupby([times_duration['date'].dt.weekday]).count()"
   ]
  },
  {
   "cell_type": "code",
   "execution_count": 23,
   "metadata": {
    "collapsed": false
   },
   "outputs": [
    {
     "data": {
      "text/plain": [
       "<matplotlib.text.Text at 0x11b03ca90>"
      ]
     },
     "execution_count": 23,
     "metadata": {},
     "output_type": "execute_result"
    },
    {
     "data": {
      "image/png": "[encoded data removed]",
      "text/plain": [
       "<matplotlib.figure.Figure at 0x11b007910>"
      ]
     },
     "metadata": {},
     "output_type": "display_data"
    }
   ],
   "source": [
    "fig = figsize(10, 10)\n",
    "x = [0, 1, 2, 3, 4, 5, 6]\n",
    "pl.plot(times_duration['toplot'])\n",
    "xticks = [\"Monday\", \"Tuesday\", \"Wednesday\", \"Thursday\", \"Friday\", \"Saturday\", \"Sunday\"]\n",
    "pl.xticks(x, xticks)\n",
    "xlabel('Weekday', fontsize=14)\n",
    "ylabel('Count of Citi Bike Trips', fontsize=14)\n",
    "title('Daily Count of Citi Bike Trips March 2016', fontsize=16)"
   ]
  },
  {
   "cell_type": "code",
   "execution_count": 10,
   "metadata": {
    "collapsed": false
   },
   "outputs": [
    {
     "name": "stdout",
     "output_type": "stream",
     "text": [
      "732058\n",
      "187863\n"
     ]
    }
   ],
   "source": [
    "weekday = 0\n",
    "weekend = 0\n",
    "\n",
    "for elem in times_duration['weekday']:\n",
    "    if elem < 5:\n",
    "        weekday += 1\n",
    "    if elem >= 5:\n",
    "        weekend += 1\n",
    "print(weekday)\n",
    "print(weekend)"
   ]
  },
  {
   "cell_type": "code",
   "execution_count": 11,
   "metadata": {
    "collapsed": false
   },
   "outputs": [
    {
     "name": "stdout",
     "output_type": "stream",
     "text": [
      "31828.6086957\n",
      "23482.875\n"
     ]
    }
   ],
   "source": [
    "weekday_mean = weekday / 23\n",
    "weekend_mean = weekend / 8\n",
    "print(weekday_mean)\n",
    "print(weekend_mean)"
   ]
  },
  {
   "cell_type": "code",
   "execution_count": 13,
   "metadata": {
    "collapsed": false,
    "scrolled": true
   },
   "outputs": [
    {
     "data": {
      "text/html": [
       "<div>\n",
       "<table border=\"1\" class=\"dataframe\">\n",
       "  <thead>\n",
       "    <tr style=\"text-align: right;\">\n",
       "      <th></th>\n",
       "      <th>tripduration</th>\n",
       "      <th>starttime</th>\n",
       "      <th>stoptime</th>\n",
       "      <th>start station id</th>\n",
       "      <th>date</th>\n",
       "      <th>weekday</th>\n",
       "    </tr>\n",
       "    <tr>\n",
       "      <th>date</th>\n",
       "      <th></th>\n",
       "      <th></th>\n",
       "      <th></th>\n",
       "      <th></th>\n",
       "      <th></th>\n",
       "      <th></th>\n",
       "    </tr>\n",
       "  </thead>\n",
       "  <tbody>\n",
       "    <tr>\n",
       "      <th>2016-03-01 06:52:42</th>\n",
       "      <td>1491</td>\n",
       "      <td>3/1/2016 06:52:42</td>\n",
       "      <td>3/1/2016 07:17:33</td>\n",
       "      <td>72</td>\n",
       "      <td>2016-03-01 06:52:42</td>\n",
       "      <td>1</td>\n",
       "    </tr>\n",
       "    <tr>\n",
       "      <th>2016-03-01 07:05:50</th>\n",
       "      <td>1044</td>\n",
       "      <td>3/1/2016 07:05:50</td>\n",
       "      <td>3/1/2016 07:23:15</td>\n",
       "      <td>72</td>\n",
       "      <td>2016-03-01 07:05:50</td>\n",
       "      <td>1</td>\n",
       "    </tr>\n",
       "    <tr>\n",
       "      <th>2016-03-01 07:15:05</th>\n",
       "      <td>714</td>\n",
       "      <td>3/1/2016 07:15:05</td>\n",
       "      <td>3/1/2016 07:26:59</td>\n",
       "      <td>72</td>\n",
       "      <td>2016-03-01 07:15:05</td>\n",
       "      <td>1</td>\n",
       "    </tr>\n",
       "    <tr>\n",
       "      <th>2016-03-01 07:26:04</th>\n",
       "      <td>329</td>\n",
       "      <td>3/1/2016 07:26:04</td>\n",
       "      <td>3/1/2016 07:31:34</td>\n",
       "      <td>72</td>\n",
       "      <td>2016-03-01 07:26:04</td>\n",
       "      <td>1</td>\n",
       "    </tr>\n",
       "    <tr>\n",
       "      <th>2016-03-01 07:31:30</th>\n",
       "      <td>1871</td>\n",
       "      <td>3/1/2016 07:31:30</td>\n",
       "      <td>3/1/2016 08:02:41</td>\n",
       "      <td>72</td>\n",
       "      <td>2016-03-01 07:31:30</td>\n",
       "      <td>1</td>\n",
       "    </tr>\n",
       "  </tbody>\n",
       "</table>\n",
       "</div>"
      ],
      "text/plain": [
       "                     tripduration          starttime           stoptime  \\\n",
       "date                                                                      \n",
       "2016-03-01 06:52:42          1491  3/1/2016 06:52:42  3/1/2016 07:17:33   \n",
       "2016-03-01 07:05:50          1044  3/1/2016 07:05:50  3/1/2016 07:23:15   \n",
       "2016-03-01 07:15:05           714  3/1/2016 07:15:05  3/1/2016 07:26:59   \n",
       "2016-03-01 07:26:04           329  3/1/2016 07:26:04  3/1/2016 07:31:34   \n",
       "2016-03-01 07:31:30          1871  3/1/2016 07:31:30  3/1/2016 08:02:41   \n",
       "\n",
       "                     start station id                date  weekday  \n",
       "date                                                                \n",
       "2016-03-01 06:52:42                72 2016-03-01 06:52:42        1  \n",
       "2016-03-01 07:05:50                72 2016-03-01 07:05:50        1  \n",
       "2016-03-01 07:15:05                72 2016-03-01 07:15:05        1  \n",
       "2016-03-01 07:26:04                72 2016-03-01 07:26:04        1  \n",
       "2016-03-01 07:31:30                72 2016-03-01 07:31:30        1  "
      ]
     },
     "execution_count": 13,
     "metadata": {},
     "output_type": "execute_result"
    }
   ],
   "source": [
    "times_duration.set_index(times_duration['date'], inplace=True)\n",
    "times_duration.head()"
   ]
  },
  {
   "cell_type": "code",
   "execution_count": 62,
   "metadata": {
    "collapsed": false
   },
   "outputs": [],
   "source": [
    "trip_count = times_duration.groupby(times_duration.index.date).count()"
   ]
  },
  {
   "cell_type": "code",
   "execution_count": 63,
   "metadata": {
    "collapsed": false
   },
   "outputs": [
    {
     "data": {
      "text/html": [
       "<div>\n",
       "<table border=\"1\" class=\"dataframe\">\n",
       "  <thead>\n",
       "    <tr style=\"text-align: right;\">\n",
       "      <th></th>\n",
       "      <th>tripduration</th>\n",
       "      <th>trip_count</th>\n",
       "    </tr>\n",
       "  </thead>\n",
       "  <tbody>\n",
       "    <tr>\n",
       "      <th>2016-03-01</th>\n",
       "      <td>30509</td>\n",
       "      <td>30509</td>\n",
       "    </tr>\n",
       "    <tr>\n",
       "      <th>2016-03-02</th>\n",
       "      <td>26195</td>\n",
       "      <td>26195</td>\n",
       "    </tr>\n",
       "    <tr>\n",
       "      <th>2016-03-03</th>\n",
       "      <td>24061</td>\n",
       "      <td>24061</td>\n",
       "    </tr>\n",
       "    <tr>\n",
       "      <th>2016-03-04</th>\n",
       "      <td>17369</td>\n",
       "      <td>17369</td>\n",
       "    </tr>\n",
       "    <tr>\n",
       "      <th>2016-03-05</th>\n",
       "      <td>18023</td>\n",
       "      <td>18023</td>\n",
       "    </tr>\n",
       "  </tbody>\n",
       "</table>\n",
       "</div>"
      ],
      "text/plain": [
       "            tripduration  trip_count\n",
       "2016-03-01         30509       30509\n",
       "2016-03-02         26195       26195\n",
       "2016-03-03         24061       24061\n",
       "2016-03-04         17369       17369\n",
       "2016-03-05         18023       18023"
      ]
     },
     "execution_count": 63,
     "metadata": {},
     "output_type": "execute_result"
    }
   ],
   "source": [
    "trip_count = trip_count.drop(['starttime', 'stoptime', 'start station id', 'date', 'weekday'], axis=1)\n",
    "trip_count['trip_count'] = trip_count['tripduration']\n",
    "trip_count.drop(['tripduration'], axis=1)\n",
    "trip_count.head()"
   ]
  },
  {
   "cell_type": "code",
   "execution_count": 64,
   "metadata": {
    "collapsed": false
   },
   "outputs": [
    {
     "data": {
      "text/html": [
       "<div>\n",
       "<table border=\"1\" class=\"dataframe\">\n",
       "  <thead>\n",
       "    <tr style=\"text-align: right;\">\n",
       "      <th></th>\n",
       "      <th>trip_count</th>\n",
       "    </tr>\n",
       "  </thead>\n",
       "  <tbody>\n",
       "    <tr>\n",
       "      <th>2016-03-01</th>\n",
       "      <td>30509</td>\n",
       "    </tr>\n",
       "    <tr>\n",
       "      <th>2016-03-02</th>\n",
       "      <td>26195</td>\n",
       "    </tr>\n",
       "    <tr>\n",
       "      <th>2016-03-03</th>\n",
       "      <td>24061</td>\n",
       "    </tr>\n",
       "    <tr>\n",
       "      <th>2016-03-04</th>\n",
       "      <td>17369</td>\n",
       "    </tr>\n",
       "    <tr>\n",
       "      <th>2016-03-05</th>\n",
       "      <td>18023</td>\n",
       "    </tr>\n",
       "  </tbody>\n",
       "</table>\n",
       "</div>"
      ],
      "text/plain": [
       "            trip_count\n",
       "2016-03-01       30509\n",
       "2016-03-02       26195\n",
       "2016-03-03       24061\n",
       "2016-03-04       17369\n",
       "2016-03-05       18023"
      ]
     },
     "execution_count": 64,
     "metadata": {},
     "output_type": "execute_result"
    }
   ],
   "source": [
    "trip_count = trip_count.drop(['tripduration'], axis=1)\n",
    "trip_count.head()"
   ]
  },
  {
   "cell_type": "code",
   "execution_count": 65,
   "metadata": {
    "collapsed": true
   },
   "outputs": [],
   "source": [
    "trip_count['date'] = trip_count.index"
   ]
  },
  {
   "cell_type": "code",
   "execution_count": 66,
   "metadata": {
    "collapsed": false
   },
   "outputs": [],
   "source": [
    "trip_count['weekday'] = trip_count['date'].apply(lambda x: x.weekday())"
   ]
  },
  {
   "cell_type": "code",
   "execution_count": 67,
   "metadata": {
    "collapsed": false
   },
   "outputs": [
    {
     "data": {
      "text/html": [
       "<div>\n",
       "<table border=\"1\" class=\"dataframe\">\n",
       "  <thead>\n",
       "    <tr style=\"text-align: right;\">\n",
       "      <th></th>\n",
       "      <th>trip_count</th>\n",
       "      <th>date</th>\n",
       "      <th>weekday</th>\n",
       "    </tr>\n",
       "  </thead>\n",
       "  <tbody>\n",
       "    <tr>\n",
       "      <th>2016-03-01</th>\n",
       "      <td>30509</td>\n",
       "      <td>2016-03-01</td>\n",
       "      <td>1</td>\n",
       "    </tr>\n",
       "    <tr>\n",
       "      <th>2016-03-02</th>\n",
       "      <td>26195</td>\n",
       "      <td>2016-03-02</td>\n",
       "      <td>2</td>\n",
       "    </tr>\n",
       "    <tr>\n",
       "      <th>2016-03-03</th>\n",
       "      <td>24061</td>\n",
       "      <td>2016-03-03</td>\n",
       "      <td>3</td>\n",
       "    </tr>\n",
       "    <tr>\n",
       "      <th>2016-03-04</th>\n",
       "      <td>17369</td>\n",
       "      <td>2016-03-04</td>\n",
       "      <td>4</td>\n",
       "    </tr>\n",
       "    <tr>\n",
       "      <th>2016-03-05</th>\n",
       "      <td>18023</td>\n",
       "      <td>2016-03-05</td>\n",
       "      <td>5</td>\n",
       "    </tr>\n",
       "    <tr>\n",
       "      <th>2016-03-06</th>\n",
       "      <td>18832</td>\n",
       "      <td>2016-03-06</td>\n",
       "      <td>6</td>\n",
       "    </tr>\n",
       "    <tr>\n",
       "      <th>2016-03-07</th>\n",
       "      <td>31492</td>\n",
       "      <td>2016-03-07</td>\n",
       "      <td>0</td>\n",
       "    </tr>\n",
       "    <tr>\n",
       "      <th>2016-03-08</th>\n",
       "      <td>36521</td>\n",
       "      <td>2016-03-08</td>\n",
       "      <td>1</td>\n",
       "    </tr>\n",
       "    <tr>\n",
       "      <th>2016-03-09</th>\n",
       "      <td>41490</td>\n",
       "      <td>2016-03-09</td>\n",
       "      <td>2</td>\n",
       "    </tr>\n",
       "    <tr>\n",
       "      <th>2016-03-10</th>\n",
       "      <td>42252</td>\n",
       "      <td>2016-03-10</td>\n",
       "      <td>3</td>\n",
       "    </tr>\n",
       "    <tr>\n",
       "      <th>2016-03-11</th>\n",
       "      <td>38195</td>\n",
       "      <td>2016-03-11</td>\n",
       "      <td>4</td>\n",
       "    </tr>\n",
       "    <tr>\n",
       "      <th>2016-03-12</th>\n",
       "      <td>32771</td>\n",
       "      <td>2016-03-12</td>\n",
       "      <td>5</td>\n",
       "    </tr>\n",
       "    <tr>\n",
       "      <th>2016-03-13</th>\n",
       "      <td>27550</td>\n",
       "      <td>2016-03-13</td>\n",
       "      <td>6</td>\n",
       "    </tr>\n",
       "    <tr>\n",
       "      <th>2016-03-14</th>\n",
       "      <td>10930</td>\n",
       "      <td>2016-03-14</td>\n",
       "      <td>0</td>\n",
       "    </tr>\n",
       "    <tr>\n",
       "      <th>2016-03-15</th>\n",
       "      <td>31596</td>\n",
       "      <td>2016-03-15</td>\n",
       "      <td>1</td>\n",
       "    </tr>\n",
       "    <tr>\n",
       "      <th>2016-03-16</th>\n",
       "      <td>36067</td>\n",
       "      <td>2016-03-16</td>\n",
       "      <td>2</td>\n",
       "    </tr>\n",
       "    <tr>\n",
       "      <th>2016-03-17</th>\n",
       "      <td>35390</td>\n",
       "      <td>2016-03-17</td>\n",
       "      <td>3</td>\n",
       "    </tr>\n",
       "    <tr>\n",
       "      <th>2016-03-18</th>\n",
       "      <td>34647</td>\n",
       "      <td>2016-03-18</td>\n",
       "      <td>4</td>\n",
       "    </tr>\n",
       "    <tr>\n",
       "      <th>2016-03-19</th>\n",
       "      <td>24048</td>\n",
       "      <td>2016-03-19</td>\n",
       "      <td>5</td>\n",
       "    </tr>\n",
       "    <tr>\n",
       "      <th>2016-03-20</th>\n",
       "      <td>16678</td>\n",
       "      <td>2016-03-20</td>\n",
       "      <td>6</td>\n",
       "    </tr>\n",
       "    <tr>\n",
       "      <th>2016-03-21</th>\n",
       "      <td>26414</td>\n",
       "      <td>2016-03-21</td>\n",
       "      <td>0</td>\n",
       "    </tr>\n",
       "    <tr>\n",
       "      <th>2016-03-22</th>\n",
       "      <td>33497</td>\n",
       "      <td>2016-03-22</td>\n",
       "      <td>1</td>\n",
       "    </tr>\n",
       "    <tr>\n",
       "      <th>2016-03-23</th>\n",
       "      <td>40983</td>\n",
       "      <td>2016-03-23</td>\n",
       "      <td>2</td>\n",
       "    </tr>\n",
       "    <tr>\n",
       "      <th>2016-03-24</th>\n",
       "      <td>36495</td>\n",
       "      <td>2016-03-24</td>\n",
       "      <td>3</td>\n",
       "    </tr>\n",
       "    <tr>\n",
       "      <th>2016-03-25</th>\n",
       "      <td>34097</td>\n",
       "      <td>2016-03-25</td>\n",
       "      <td>4</td>\n",
       "    </tr>\n",
       "    <tr>\n",
       "      <th>2016-03-26</th>\n",
       "      <td>27478</td>\n",
       "      <td>2016-03-26</td>\n",
       "      <td>5</td>\n",
       "    </tr>\n",
       "    <tr>\n",
       "      <th>2016-03-27</th>\n",
       "      <td>22483</td>\n",
       "      <td>2016-03-27</td>\n",
       "      <td>6</td>\n",
       "    </tr>\n",
       "    <tr>\n",
       "      <th>2016-03-28</th>\n",
       "      <td>20345</td>\n",
       "      <td>2016-03-28</td>\n",
       "      <td>0</td>\n",
       "    </tr>\n",
       "    <tr>\n",
       "      <th>2016-03-29</th>\n",
       "      <td>31481</td>\n",
       "      <td>2016-03-29</td>\n",
       "      <td>1</td>\n",
       "    </tr>\n",
       "    <tr>\n",
       "      <th>2016-03-30</th>\n",
       "      <td>33684</td>\n",
       "      <td>2016-03-30</td>\n",
       "      <td>2</td>\n",
       "    </tr>\n",
       "    <tr>\n",
       "      <th>2016-03-31</th>\n",
       "      <td>38348</td>\n",
       "      <td>2016-03-31</td>\n",
       "      <td>3</td>\n",
       "    </tr>\n",
       "  </tbody>\n",
       "</table>\n",
       "</div>"
      ],
      "text/plain": [
       "            trip_count        date  weekday\n",
       "2016-03-01       30509  2016-03-01        1\n",
       "2016-03-02       26195  2016-03-02        2\n",
       "2016-03-03       24061  2016-03-03        3\n",
       "2016-03-04       17369  2016-03-04        4\n",
       "2016-03-05       18023  2016-03-05        5\n",
       "2016-03-06       18832  2016-03-06        6\n",
       "2016-03-07       31492  2016-03-07        0\n",
       "2016-03-08       36521  2016-03-08        1\n",
       "2016-03-09       41490  2016-03-09        2\n",
       "2016-03-10       42252  2016-03-10        3\n",
       "2016-03-11       38195  2016-03-11        4\n",
       "2016-03-12       32771  2016-03-12        5\n",
       "2016-03-13       27550  2016-03-13        6\n",
       "2016-03-14       10930  2016-03-14        0\n",
       "2016-03-15       31596  2016-03-15        1\n",
       "2016-03-16       36067  2016-03-16        2\n",
       "2016-03-17       35390  2016-03-17        3\n",
       "2016-03-18       34647  2016-03-18        4\n",
       "2016-03-19       24048  2016-03-19        5\n",
       "2016-03-20       16678  2016-03-20        6\n",
       "2016-03-21       26414  2016-03-21        0\n",
       "2016-03-22       33497  2016-03-22        1\n",
       "2016-03-23       40983  2016-03-23        2\n",
       "2016-03-24       36495  2016-03-24        3\n",
       "2016-03-25       34097  2016-03-25        4\n",
       "2016-03-26       27478  2016-03-26        5\n",
       "2016-03-27       22483  2016-03-27        6\n",
       "2016-03-28       20345  2016-03-28        0\n",
       "2016-03-29       31481  2016-03-29        1\n",
       "2016-03-30       33684  2016-03-30        2\n",
       "2016-03-31       38348  2016-03-31        3"
      ]
     },
     "execution_count": 67,
     "metadata": {},
     "output_type": "execute_result"
    }
   ],
   "source": [
    "trip_count"
   ]
  },
  {
   "cell_type": "code",
   "execution_count": 73,
   "metadata": {
    "collapsed": false
   },
   "outputs": [],
   "source": [
    "weekday_trips = [30509, 26195, 24061, 17369, 31492, 36521, 41490, 42252, 38195, 10930, 31596, 36067, 35390, 34647, 26414, 33497, 40983, 36495, 34097, 20345, 31481, 33684, 38348]\n",
    "weekend_trips = [18023, 18832, 32771, 27550, 24048, 16678, 27478, 22483]"
   ]
  },
  {
   "cell_type": "code",
   "execution_count": 75,
   "metadata": {
    "collapsed": false
   },
   "outputs": [
    {
     "name": "stdout",
     "output_type": "stream",
     "text": [
      "Ttest_indResult(statistic=2.7532815087616918, pvalue=0.010075139302255036)\n"
     ]
    }
   ],
   "source": [
    "ttest = stats.ttest_ind(weekday_trips, weekend_trips)\n",
    "print(ttest)"
   ]
  },
  {
   "cell_type": "code",
   "execution_count": 76,
   "metadata": {
    "collapsed": true
   },
   "outputs": [],
   "source": [
    "#weekdays_list = []\n",
    "#trip_list = []\n",
    "\n",
    "#for elem in trip_count['trip_count']:\n",
    "    #trip_list.append(elem)\n",
    "    \n",
    "#for elem in trip_count['weekday']:\n",
    "    #weekdays.append(elem)"
   ]
  },
  {
   "cell_type": "markdown",
   "metadata": {},
   "source": [
    "### T-test results: \n",
    "Because the p-value is less than the .05 significance level, I can reject the null hypothesis stating that the average number of Citi Bike trips on the weekdays is the same or less than the average number of trips on the weekends. "
   ]
  }
 ],
 "metadata": {
  "kernelspec": {
   "display_name": "Python 2",
   "language": "python",
   "name": "python2"
  },
  "language_info": {
   "codemirror_mode": {
    "name": "ipython",
    "version": 2
   },
   "file_extension": ".py",
   "mimetype": "text/x-python",
   "name": "python",
   "nbconvert_exporter": "python",
   "pygments_lexer": "ipython2",
   "version": "2.7.12"
  }
 },
 "nbformat": 4,
 "nbformat_minor": 0
}
